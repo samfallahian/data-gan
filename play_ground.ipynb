{
 "cells": [
  {
   "cell_type": "code",
   "execution_count": 5,
   "id": "initial_id",
   "metadata": {
    "collapsed": true,
    "ExecuteTime": {
     "end_time": "2024-01-01T17:56:38.254984Z",
     "start_time": "2024-01-01T17:56:38.252522Z"
    }
   },
   "outputs": [
    {
     "name": "stdout",
     "output_type": "stream",
     "text": [
      "1.8.0\n"
     ]
    }
   ],
   "source": [
    "import sdv\n",
    "import pandas as pd\n",
    "print(sdv.__version__)"
   ]
  },
  {
   "cell_type": "markdown",
   "source": [
    "## Metadata Detection"
   ],
   "metadata": {
    "collapsed": false
   },
   "id": "d0aed74c17ce0b09"
  },
  {
   "cell_type": "code",
   "outputs": [],
   "source": [
    "from sdv.metadata import SingleTableMetadata"
   ],
   "metadata": {
    "collapsed": false,
    "ExecuteTime": {
     "end_time": "2024-01-01T17:55:45.203262Z",
     "start_time": "2024-01-01T17:55:45.201556Z"
    }
   },
   "id": "24bb87929796a008",
   "execution_count": 3
  },
  {
   "cell_type": "code",
   "outputs": [],
   "source": [
    "metadata = SingleTableMetadata()"
   ],
   "metadata": {
    "collapsed": false,
    "ExecuteTime": {
     "end_time": "2024-01-01T17:55:45.548122Z",
     "start_time": "2024-01-01T17:55:45.544008Z"
    }
   },
   "id": "2b0bba14b53ecd53",
   "execution_count": 4
  },
  {
   "cell_type": "markdown",
   "source": [
    "### Air Quality"
   ],
   "metadata": {
    "collapsed": false
   },
   "id": "81582dd3b0082ba6"
  },
  {
   "cell_type": "code",
   "outputs": [],
   "source": [
    "df = pd.read_csv(\"dataset/AirQuality/AirQualityUCI.csv\", sep=\";\")"
   ],
   "metadata": {
    "collapsed": false,
    "ExecuteTime": {
     "end_time": "2024-01-01T18:00:27.506648Z",
     "start_time": "2024-01-01T18:00:27.489908Z"
    }
   },
   "id": "9bec92950acb00ae",
   "execution_count": 10
  },
  {
   "cell_type": "code",
   "outputs": [],
   "source": [
    "df.drop(columns=[\"Unnamed: 15\", \",,,,,\"], inplace=True)"
   ],
   "metadata": {
    "collapsed": false,
    "ExecuteTime": {
     "end_time": "2024-01-01T18:01:44.722345Z",
     "start_time": "2024-01-01T18:01:44.718318Z"
    }
   },
   "id": "785827ccdb8cf0c7",
   "execution_count": 13
  },
  {
   "cell_type": "code",
   "outputs": [],
   "source": [
    "df[\"CO(GT)\"]=df[\"CO(GT)\"].str.replace(\",\",\".\").astype(float)\n",
    "df[\"C6H6(GT)\"]=df[\"C6H6(GT)\"].str.replace(\",\",\".\").astype(float)\n",
    "df[\"T\"]=df[\"T\"].str.replace(\",\",\".\").astype(float)\n",
    "df[\"RH\"]=df[\"RH\"].str.replace(\",\",\".\").astype(float)\n",
    "df[\"AH\"]=df[\"AH\"].str.replace(\",\",\".\").astype(float)"
   ],
   "metadata": {
    "collapsed": false,
    "ExecuteTime": {
     "end_time": "2024-01-01T18:05:35.648714Z",
     "start_time": "2024-01-01T18:05:35.637547Z"
    }
   },
   "id": "da399639bd6bdf46",
   "execution_count": 20
  },
  {
   "cell_type": "code",
   "outputs": [
    {
     "data": {
      "text/plain": "         Date      Time  CO(GT)  PT08.S1(CO)  NMHC(GT)  C6H6(GT)  \\\n0  10/03/2004  18.00.00     2.6         1360       150      11.9   \n1  10/03/2004  19.00.00     2.0         1292       112       9.4   \n2  10/03/2004  20.00.00     2.2         1402        88       9.0   \n3  10/03/2004  21.00.00     2.2         1376        80       9.2   \n4  10/03/2004  22.00.00     1.6         1272        51       6.5   \n\n   PT08.S2(NMHC)  NOx(GT)  PT08.S3(NOx)  NO2(GT)  PT08.S4(NO2)  PT08.S5(O3)  \\\n0           1046      166          1056      113          1692         1268   \n1            955      103          1174       92          1559          972   \n2            939      131          1140      114          1555         1074   \n3            948      172          1092      122          1584         1203   \n4            836      131          1205      116          1490         1110   \n\n      T    RH      AH  \n0  13.6  48.9  0.7578  \n1  13.3  47.7  0.7255  \n2  11.9  54.0  0.7502  \n3  11.0  60.0  0.7867  \n4  11.2  59.6  0.7888  ",
      "text/html": "<div>\n<style scoped>\n    .dataframe tbody tr th:only-of-type {\n        vertical-align: middle;\n    }\n\n    .dataframe tbody tr th {\n        vertical-align: top;\n    }\n\n    .dataframe thead th {\n        text-align: right;\n    }\n</style>\n<table border=\"1\" class=\"dataframe\">\n  <thead>\n    <tr style=\"text-align: right;\">\n      <th></th>\n      <th>Date</th>\n      <th>Time</th>\n      <th>CO(GT)</th>\n      <th>PT08.S1(CO)</th>\n      <th>NMHC(GT)</th>\n      <th>C6H6(GT)</th>\n      <th>PT08.S2(NMHC)</th>\n      <th>NOx(GT)</th>\n      <th>PT08.S3(NOx)</th>\n      <th>NO2(GT)</th>\n      <th>PT08.S4(NO2)</th>\n      <th>PT08.S5(O3)</th>\n      <th>T</th>\n      <th>RH</th>\n      <th>AH</th>\n    </tr>\n  </thead>\n  <tbody>\n    <tr>\n      <th>0</th>\n      <td>10/03/2004</td>\n      <td>18.00.00</td>\n      <td>2.6</td>\n      <td>1360</td>\n      <td>150</td>\n      <td>11.9</td>\n      <td>1046</td>\n      <td>166</td>\n      <td>1056</td>\n      <td>113</td>\n      <td>1692</td>\n      <td>1268</td>\n      <td>13.6</td>\n      <td>48.9</td>\n      <td>0.7578</td>\n    </tr>\n    <tr>\n      <th>1</th>\n      <td>10/03/2004</td>\n      <td>19.00.00</td>\n      <td>2.0</td>\n      <td>1292</td>\n      <td>112</td>\n      <td>9.4</td>\n      <td>955</td>\n      <td>103</td>\n      <td>1174</td>\n      <td>92</td>\n      <td>1559</td>\n      <td>972</td>\n      <td>13.3</td>\n      <td>47.7</td>\n      <td>0.7255</td>\n    </tr>\n    <tr>\n      <th>2</th>\n      <td>10/03/2004</td>\n      <td>20.00.00</td>\n      <td>2.2</td>\n      <td>1402</td>\n      <td>88</td>\n      <td>9.0</td>\n      <td>939</td>\n      <td>131</td>\n      <td>1140</td>\n      <td>114</td>\n      <td>1555</td>\n      <td>1074</td>\n      <td>11.9</td>\n      <td>54.0</td>\n      <td>0.7502</td>\n    </tr>\n    <tr>\n      <th>3</th>\n      <td>10/03/2004</td>\n      <td>21.00.00</td>\n      <td>2.2</td>\n      <td>1376</td>\n      <td>80</td>\n      <td>9.2</td>\n      <td>948</td>\n      <td>172</td>\n      <td>1092</td>\n      <td>122</td>\n      <td>1584</td>\n      <td>1203</td>\n      <td>11.0</td>\n      <td>60.0</td>\n      <td>0.7867</td>\n    </tr>\n    <tr>\n      <th>4</th>\n      <td>10/03/2004</td>\n      <td>22.00.00</td>\n      <td>1.6</td>\n      <td>1272</td>\n      <td>51</td>\n      <td>6.5</td>\n      <td>836</td>\n      <td>131</td>\n      <td>1205</td>\n      <td>116</td>\n      <td>1490</td>\n      <td>1110</td>\n      <td>11.2</td>\n      <td>59.6</td>\n      <td>0.7888</td>\n    </tr>\n  </tbody>\n</table>\n</div>"
     },
     "execution_count": 21,
     "metadata": {},
     "output_type": "execute_result"
    }
   ],
   "source": [
    "df.head()"
   ],
   "metadata": {
    "collapsed": false,
    "ExecuteTime": {
     "end_time": "2024-01-01T18:05:40.488135Z",
     "start_time": "2024-01-01T18:05:40.482294Z"
    }
   },
   "id": "86e3a212c072a5a5",
   "execution_count": 21
  },
  {
   "cell_type": "code",
   "outputs": [
    {
     "data": {
      "text/plain": "Date              object\nTime              object\nCO(GT)           float64\nPT08.S1(CO)        int64\nNMHC(GT)           int64\nC6H6(GT)         float64\nPT08.S2(NMHC)      int64\nNOx(GT)            int64\nPT08.S3(NOx)       int64\nNO2(GT)            int64\nPT08.S4(NO2)       int64\nPT08.S5(O3)        int64\nT                float64\nRH               float64\nAH               float64\ndtype: object"
     },
     "execution_count": 22,
     "metadata": {},
     "output_type": "execute_result"
    }
   ],
   "source": [
    "df.dtypes"
   ],
   "metadata": {
    "collapsed": false,
    "ExecuteTime": {
     "end_time": "2024-01-01T18:05:41.337702Z",
     "start_time": "2024-01-01T18:05:41.332174Z"
    }
   },
   "id": "5e3dd68488861b63",
   "execution_count": 22
  },
  {
   "cell_type": "code",
   "outputs": [
    {
     "data": {
      "text/plain": "391"
     },
     "execution_count": 23,
     "metadata": {},
     "output_type": "execute_result"
    }
   ],
   "source": [
    "df[\"Date\"].nunique()"
   ],
   "metadata": {
    "collapsed": false,
    "ExecuteTime": {
     "end_time": "2024-01-01T18:06:25.649525Z",
     "start_time": "2024-01-01T18:06:25.646689Z"
    }
   },
   "id": "7a3e38ec6b53998f",
   "execution_count": 23
  },
  {
   "cell_type": "code",
   "outputs": [
    {
     "data": {
      "text/plain": "24"
     },
     "execution_count": 24,
     "metadata": {},
     "output_type": "execute_result"
    }
   ],
   "source": [
    "df[\"Time\"].nunique()"
   ],
   "metadata": {
    "collapsed": false,
    "ExecuteTime": {
     "end_time": "2024-01-01T18:06:50.603717Z",
     "start_time": "2024-01-01T18:06:50.601401Z"
    }
   },
   "id": "2210bc07e1f54232",
   "execution_count": 24
  },
  {
   "cell_type": "code",
   "outputs": [
    {
     "data": {
      "text/plain": "            CO(GT)  PT08.S1(CO)     NMHC(GT)     C6H6(GT)  PT08.S2(NMHC)  \\\ncount  9357.000000  9357.000000  9357.000000  9357.000000    9357.000000   \nmean    -34.207524  1048.990061  -159.090093     1.865683     894.595276   \nstd      77.657170   329.832710   139.789093    41.380206     342.333252   \nmin    -200.000000  -200.000000  -200.000000  -200.000000    -200.000000   \n25%       0.600000   921.000000  -200.000000     4.000000     711.000000   \n50%       1.500000  1053.000000  -200.000000     7.900000     895.000000   \n75%       2.600000  1221.000000  -200.000000    13.600000    1105.000000   \nmax      11.900000  2040.000000  1189.000000    63.700000    2214.000000   \n\n           NOx(GT)  PT08.S3(NOx)      NO2(GT)  PT08.S4(NO2)  PT08.S5(O3)  \\\ncount  9357.000000   9357.000000  9357.000000   9357.000000  9357.000000   \nmean    168.616971    794.990168    58.148873   1391.479641   975.072032   \nstd     257.433866    321.993552   126.940455    467.210125   456.938184   \nmin    -200.000000   -200.000000  -200.000000   -200.000000  -200.000000   \n25%      50.000000    637.000000    53.000000   1185.000000   700.000000   \n50%     141.000000    794.000000    96.000000   1446.000000   942.000000   \n75%     284.000000    960.000000   133.000000   1662.000000  1255.000000   \nmax    1479.000000   2683.000000   340.000000   2775.000000  2523.000000   \n\n                 T           RH           AH  \ncount  9357.000000  9357.000000  9357.000000  \nmean      9.778305    39.485380    -6.837604  \nstd      43.203623    51.216145    38.976670  \nmin    -200.000000  -200.000000  -200.000000  \n25%      10.900000    34.100000     0.692300  \n50%      17.200000    48.600000     0.976800  \n75%      24.100000    61.900000     1.296200  \nmax      44.600000    88.700000     2.231000  ",
      "text/html": "<div>\n<style scoped>\n    .dataframe tbody tr th:only-of-type {\n        vertical-align: middle;\n    }\n\n    .dataframe tbody tr th {\n        vertical-align: top;\n    }\n\n    .dataframe thead th {\n        text-align: right;\n    }\n</style>\n<table border=\"1\" class=\"dataframe\">\n  <thead>\n    <tr style=\"text-align: right;\">\n      <th></th>\n      <th>CO(GT)</th>\n      <th>PT08.S1(CO)</th>\n      <th>NMHC(GT)</th>\n      <th>C6H6(GT)</th>\n      <th>PT08.S2(NMHC)</th>\n      <th>NOx(GT)</th>\n      <th>PT08.S3(NOx)</th>\n      <th>NO2(GT)</th>\n      <th>PT08.S4(NO2)</th>\n      <th>PT08.S5(O3)</th>\n      <th>T</th>\n      <th>RH</th>\n      <th>AH</th>\n    </tr>\n  </thead>\n  <tbody>\n    <tr>\n      <th>count</th>\n      <td>9357.000000</td>\n      <td>9357.000000</td>\n      <td>9357.000000</td>\n      <td>9357.000000</td>\n      <td>9357.000000</td>\n      <td>9357.000000</td>\n      <td>9357.000000</td>\n      <td>9357.000000</td>\n      <td>9357.000000</td>\n      <td>9357.000000</td>\n      <td>9357.000000</td>\n      <td>9357.000000</td>\n      <td>9357.000000</td>\n    </tr>\n    <tr>\n      <th>mean</th>\n      <td>-34.207524</td>\n      <td>1048.990061</td>\n      <td>-159.090093</td>\n      <td>1.865683</td>\n      <td>894.595276</td>\n      <td>168.616971</td>\n      <td>794.990168</td>\n      <td>58.148873</td>\n      <td>1391.479641</td>\n      <td>975.072032</td>\n      <td>9.778305</td>\n      <td>39.485380</td>\n      <td>-6.837604</td>\n    </tr>\n    <tr>\n      <th>std</th>\n      <td>77.657170</td>\n      <td>329.832710</td>\n      <td>139.789093</td>\n      <td>41.380206</td>\n      <td>342.333252</td>\n      <td>257.433866</td>\n      <td>321.993552</td>\n      <td>126.940455</td>\n      <td>467.210125</td>\n      <td>456.938184</td>\n      <td>43.203623</td>\n      <td>51.216145</td>\n      <td>38.976670</td>\n    </tr>\n    <tr>\n      <th>min</th>\n      <td>-200.000000</td>\n      <td>-200.000000</td>\n      <td>-200.000000</td>\n      <td>-200.000000</td>\n      <td>-200.000000</td>\n      <td>-200.000000</td>\n      <td>-200.000000</td>\n      <td>-200.000000</td>\n      <td>-200.000000</td>\n      <td>-200.000000</td>\n      <td>-200.000000</td>\n      <td>-200.000000</td>\n      <td>-200.000000</td>\n    </tr>\n    <tr>\n      <th>25%</th>\n      <td>0.600000</td>\n      <td>921.000000</td>\n      <td>-200.000000</td>\n      <td>4.000000</td>\n      <td>711.000000</td>\n      <td>50.000000</td>\n      <td>637.000000</td>\n      <td>53.000000</td>\n      <td>1185.000000</td>\n      <td>700.000000</td>\n      <td>10.900000</td>\n      <td>34.100000</td>\n      <td>0.692300</td>\n    </tr>\n    <tr>\n      <th>50%</th>\n      <td>1.500000</td>\n      <td>1053.000000</td>\n      <td>-200.000000</td>\n      <td>7.900000</td>\n      <td>895.000000</td>\n      <td>141.000000</td>\n      <td>794.000000</td>\n      <td>96.000000</td>\n      <td>1446.000000</td>\n      <td>942.000000</td>\n      <td>17.200000</td>\n      <td>48.600000</td>\n      <td>0.976800</td>\n    </tr>\n    <tr>\n      <th>75%</th>\n      <td>2.600000</td>\n      <td>1221.000000</td>\n      <td>-200.000000</td>\n      <td>13.600000</td>\n      <td>1105.000000</td>\n      <td>284.000000</td>\n      <td>960.000000</td>\n      <td>133.000000</td>\n      <td>1662.000000</td>\n      <td>1255.000000</td>\n      <td>24.100000</td>\n      <td>61.900000</td>\n      <td>1.296200</td>\n    </tr>\n    <tr>\n      <th>max</th>\n      <td>11.900000</td>\n      <td>2040.000000</td>\n      <td>1189.000000</td>\n      <td>63.700000</td>\n      <td>2214.000000</td>\n      <td>1479.000000</td>\n      <td>2683.000000</td>\n      <td>340.000000</td>\n      <td>2775.000000</td>\n      <td>2523.000000</td>\n      <td>44.600000</td>\n      <td>88.700000</td>\n      <td>2.231000</td>\n    </tr>\n  </tbody>\n</table>\n</div>"
     },
     "execution_count": 25,
     "metadata": {},
     "output_type": "execute_result"
    }
   ],
   "source": [
    "df.describe()"
   ],
   "metadata": {
    "collapsed": false,
    "ExecuteTime": {
     "end_time": "2024-01-01T18:11:46.695170Z",
     "start_time": "2024-01-01T18:11:46.678806Z"
    }
   },
   "id": "e0d7df76a13fb130",
   "execution_count": 25
  },
  {
   "cell_type": "code",
   "outputs": [],
   "source": [
    "df.to_csv(\"dataset/AirQuality/AirQuality-Clean.csv\", index=False)"
   ],
   "metadata": {
    "collapsed": false,
    "ExecuteTime": {
     "end_time": "2024-01-01T18:27:45.247062Z",
     "start_time": "2024-01-01T18:27:45.217830Z"
    }
   },
   "id": "f0fc0c25db2e6921",
   "execution_count": 26
  },
  {
   "cell_type": "markdown",
   "source": [
    "## Apartment for Rent"
   ],
   "metadata": {
    "collapsed": false
   },
   "id": "768aff7621eac1bb"
  },
  {
   "cell_type": "code",
   "outputs": [],
   "source": [],
   "metadata": {
    "collapsed": false
   },
   "id": "fbfe2ca7aee469bd"
  }
 ],
 "metadata": {
  "kernelspec": {
   "display_name": "Python 3",
   "language": "python",
   "name": "python3"
  },
  "language_info": {
   "codemirror_mode": {
    "name": "ipython",
    "version": 2
   },
   "file_extension": ".py",
   "mimetype": "text/x-python",
   "name": "python",
   "nbconvert_exporter": "python",
   "pygments_lexer": "ipython2",
   "version": "2.7.6"
  }
 },
 "nbformat": 4,
 "nbformat_minor": 5
}

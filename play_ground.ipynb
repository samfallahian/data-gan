{
 "cells": [
  {
   "cell_type": "code",
   "execution_count": 1,
   "id": "initial_id",
   "metadata": {
    "collapsed": true,
    "ExecuteTime": {
     "end_time": "2024-01-02T13:21:50.117718Z",
     "start_time": "2024-01-02T13:21:48.124229Z"
    }
   },
   "outputs": [
    {
     "name": "stdout",
     "output_type": "stream",
     "text": [
      "1.8.0\n"
     ]
    }
   ],
   "source": [
    "import sdv\n",
    "import pandas as pd\n",
    "print(sdv.__version__)"
   ]
  },
  {
   "cell_type": "markdown",
   "source": [
    "## Metadata Detection"
   ],
   "metadata": {
    "collapsed": false
   },
   "id": "d0aed74c17ce0b09"
  },
  {
   "cell_type": "code",
   "outputs": [],
   "source": [
    "from sdv.metadata import SingleTableMetadata"
   ],
   "metadata": {
    "collapsed": false,
    "ExecuteTime": {
     "end_time": "2024-01-01T17:55:45.203262Z",
     "start_time": "2024-01-01T17:55:45.201556Z"
    }
   },
   "id": "24bb87929796a008",
   "execution_count": 3
  },
  {
   "cell_type": "code",
   "outputs": [],
   "source": [
    "metadata = SingleTableMetadata()"
   ],
   "metadata": {
    "collapsed": false,
    "ExecuteTime": {
     "end_time": "2024-01-01T17:55:45.548122Z",
     "start_time": "2024-01-01T17:55:45.544008Z"
    }
   },
   "id": "2b0bba14b53ecd53",
   "execution_count": 4
  },
  {
   "cell_type": "markdown",
   "source": [
    "### Air Quality"
   ],
   "metadata": {
    "collapsed": false
   },
   "id": "81582dd3b0082ba6"
  },
  {
   "cell_type": "code",
   "outputs": [],
   "source": [
    "df = pd.read_csv(\"dataset/AirQuality/AirQualityUCI.csv\", sep=\";\")"
   ],
   "metadata": {
    "collapsed": false,
    "ExecuteTime": {
     "end_time": "2024-01-01T18:00:27.506648Z",
     "start_time": "2024-01-01T18:00:27.489908Z"
    }
   },
   "id": "9bec92950acb00ae",
   "execution_count": 10
  },
  {
   "cell_type": "code",
   "outputs": [],
   "source": [
    "df.drop(columns=[\"Unnamed: 15\", \",,,,,\"], inplace=True)"
   ],
   "metadata": {
    "collapsed": false,
    "ExecuteTime": {
     "end_time": "2024-01-01T18:01:44.722345Z",
     "start_time": "2024-01-01T18:01:44.718318Z"
    }
   },
   "id": "785827ccdb8cf0c7",
   "execution_count": 13
  },
  {
   "cell_type": "code",
   "outputs": [],
   "source": [
    "df[\"CO(GT)\"]=df[\"CO(GT)\"].str.replace(\",\",\".\").astype(float)\n",
    "df[\"C6H6(GT)\"]=df[\"C6H6(GT)\"].str.replace(\",\",\".\").astype(float)\n",
    "df[\"T\"]=df[\"T\"].str.replace(\",\",\".\").astype(float)\n",
    "df[\"RH\"]=df[\"RH\"].str.replace(\",\",\".\").astype(float)\n",
    "df[\"AH\"]=df[\"AH\"].str.replace(\",\",\".\").astype(float)"
   ],
   "metadata": {
    "collapsed": false,
    "ExecuteTime": {
     "end_time": "2024-01-01T18:05:35.648714Z",
     "start_time": "2024-01-01T18:05:35.637547Z"
    }
   },
   "id": "da399639bd6bdf46",
   "execution_count": 20
  },
  {
   "cell_type": "code",
   "outputs": [
    {
     "data": {
      "text/plain": "            Date      Time  CO(GT)  PT08.S1(CO)  NMHC(GT)  C6H6(GT)  \\\n0     10/03/2004  18.00.00     2.6         1360       150      11.9   \n1     10/03/2004  19.00.00     2.0         1292       112       9.4   \n2     10/03/2004  20.00.00     2.2         1402        88       9.0   \n3     10/03/2004  21.00.00     2.2         1376        80       9.2   \n4     10/03/2004  22.00.00     1.6         1272        51       6.5   \n...          ...       ...     ...          ...       ...       ...   \n9352  04/04/2005  10.00.00     3.1         1314      -200      13.5   \n9353  04/04/2005  11.00.00     2.4         1163      -200      11.4   \n9354  04/04/2005  12.00.00     2.4         1142      -200      12.4   \n9355  04/04/2005  13.00.00     2.1         1003      -200       9.5   \n9356  04/04/2005  14.00.00     2.2         1071      -200      11.9   \n\n      PT08.S2(NMHC)  NOx(GT)  PT08.S3(NOx)  NO2(GT)  PT08.S4(NO2)  \\\n0              1046      166          1056      113          1692   \n1               955      103          1174       92          1559   \n2               939      131          1140      114          1555   \n3               948      172          1092      122          1584   \n4               836      131          1205      116          1490   \n...             ...      ...           ...      ...           ...   \n9352           1101      472           539      190          1374   \n9353           1027      353           604      179          1264   \n9354           1063      293           603      175          1241   \n9355            961      235           702      156          1041   \n9356           1047      265           654      168          1129   \n\n      PT08.S5(O3)     T    RH      AH  year  month  day  hour  \n0            1268  13.6  48.9  0.7578  2004     10    3    18  \n1             972  13.3  47.7  0.7255  2004     10    3    19  \n2            1074  11.9  54.0  0.7502  2004     10    3    20  \n3            1203  11.0  60.0  0.7867  2004     10    3    21  \n4            1110  11.2  59.6  0.7888  2004     10    3    22  \n...           ...   ...   ...     ...   ...    ...  ...   ...  \n9352         1729  21.9  29.3  0.7568  2005      4    4    10  \n9353         1269  24.3  23.7  0.7119  2005      4    4    11  \n9354         1092  26.9  18.3  0.6406  2005      4    4    12  \n9355          770  28.3  13.5  0.5139  2005      4    4    13  \n9356          816  28.5  13.1  0.5028  2005      4    4    14  \n\n[9357 rows x 19 columns]",
      "text/html": "<div>\n<style scoped>\n    .dataframe tbody tr th:only-of-type {\n        vertical-align: middle;\n    }\n\n    .dataframe tbody tr th {\n        vertical-align: top;\n    }\n\n    .dataframe thead th {\n        text-align: right;\n    }\n</style>\n<table border=\"1\" class=\"dataframe\">\n  <thead>\n    <tr style=\"text-align: right;\">\n      <th></th>\n      <th>Date</th>\n      <th>Time</th>\n      <th>CO(GT)</th>\n      <th>PT08.S1(CO)</th>\n      <th>NMHC(GT)</th>\n      <th>C6H6(GT)</th>\n      <th>PT08.S2(NMHC)</th>\n      <th>NOx(GT)</th>\n      <th>PT08.S3(NOx)</th>\n      <th>NO2(GT)</th>\n      <th>PT08.S4(NO2)</th>\n      <th>PT08.S5(O3)</th>\n      <th>T</th>\n      <th>RH</th>\n      <th>AH</th>\n      <th>year</th>\n      <th>month</th>\n      <th>day</th>\n      <th>hour</th>\n    </tr>\n  </thead>\n  <tbody>\n    <tr>\n      <th>0</th>\n      <td>10/03/2004</td>\n      <td>18.00.00</td>\n      <td>2.6</td>\n      <td>1360</td>\n      <td>150</td>\n      <td>11.9</td>\n      <td>1046</td>\n      <td>166</td>\n      <td>1056</td>\n      <td>113</td>\n      <td>1692</td>\n      <td>1268</td>\n      <td>13.6</td>\n      <td>48.9</td>\n      <td>0.7578</td>\n      <td>2004</td>\n      <td>10</td>\n      <td>3</td>\n      <td>18</td>\n    </tr>\n    <tr>\n      <th>1</th>\n      <td>10/03/2004</td>\n      <td>19.00.00</td>\n      <td>2.0</td>\n      <td>1292</td>\n      <td>112</td>\n      <td>9.4</td>\n      <td>955</td>\n      <td>103</td>\n      <td>1174</td>\n      <td>92</td>\n      <td>1559</td>\n      <td>972</td>\n      <td>13.3</td>\n      <td>47.7</td>\n      <td>0.7255</td>\n      <td>2004</td>\n      <td>10</td>\n      <td>3</td>\n      <td>19</td>\n    </tr>\n    <tr>\n      <th>2</th>\n      <td>10/03/2004</td>\n      <td>20.00.00</td>\n      <td>2.2</td>\n      <td>1402</td>\n      <td>88</td>\n      <td>9.0</td>\n      <td>939</td>\n      <td>131</td>\n      <td>1140</td>\n      <td>114</td>\n      <td>1555</td>\n      <td>1074</td>\n      <td>11.9</td>\n      <td>54.0</td>\n      <td>0.7502</td>\n      <td>2004</td>\n      <td>10</td>\n      <td>3</td>\n      <td>20</td>\n    </tr>\n    <tr>\n      <th>3</th>\n      <td>10/03/2004</td>\n      <td>21.00.00</td>\n      <td>2.2</td>\n      <td>1376</td>\n      <td>80</td>\n      <td>9.2</td>\n      <td>948</td>\n      <td>172</td>\n      <td>1092</td>\n      <td>122</td>\n      <td>1584</td>\n      <td>1203</td>\n      <td>11.0</td>\n      <td>60.0</td>\n      <td>0.7867</td>\n      <td>2004</td>\n      <td>10</td>\n      <td>3</td>\n      <td>21</td>\n    </tr>\n    <tr>\n      <th>4</th>\n      <td>10/03/2004</td>\n      <td>22.00.00</td>\n      <td>1.6</td>\n      <td>1272</td>\n      <td>51</td>\n      <td>6.5</td>\n      <td>836</td>\n      <td>131</td>\n      <td>1205</td>\n      <td>116</td>\n      <td>1490</td>\n      <td>1110</td>\n      <td>11.2</td>\n      <td>59.6</td>\n      <td>0.7888</td>\n      <td>2004</td>\n      <td>10</td>\n      <td>3</td>\n      <td>22</td>\n    </tr>\n    <tr>\n      <th>...</th>\n      <td>...</td>\n      <td>...</td>\n      <td>...</td>\n      <td>...</td>\n      <td>...</td>\n      <td>...</td>\n      <td>...</td>\n      <td>...</td>\n      <td>...</td>\n      <td>...</td>\n      <td>...</td>\n      <td>...</td>\n      <td>...</td>\n      <td>...</td>\n      <td>...</td>\n      <td>...</td>\n      <td>...</td>\n      <td>...</td>\n      <td>...</td>\n    </tr>\n    <tr>\n      <th>9352</th>\n      <td>04/04/2005</td>\n      <td>10.00.00</td>\n      <td>3.1</td>\n      <td>1314</td>\n      <td>-200</td>\n      <td>13.5</td>\n      <td>1101</td>\n      <td>472</td>\n      <td>539</td>\n      <td>190</td>\n      <td>1374</td>\n      <td>1729</td>\n      <td>21.9</td>\n      <td>29.3</td>\n      <td>0.7568</td>\n      <td>2005</td>\n      <td>4</td>\n      <td>4</td>\n      <td>10</td>\n    </tr>\n    <tr>\n      <th>9353</th>\n      <td>04/04/2005</td>\n      <td>11.00.00</td>\n      <td>2.4</td>\n      <td>1163</td>\n      <td>-200</td>\n      <td>11.4</td>\n      <td>1027</td>\n      <td>353</td>\n      <td>604</td>\n      <td>179</td>\n      <td>1264</td>\n      <td>1269</td>\n      <td>24.3</td>\n      <td>23.7</td>\n      <td>0.7119</td>\n      <td>2005</td>\n      <td>4</td>\n      <td>4</td>\n      <td>11</td>\n    </tr>\n    <tr>\n      <th>9354</th>\n      <td>04/04/2005</td>\n      <td>12.00.00</td>\n      <td>2.4</td>\n      <td>1142</td>\n      <td>-200</td>\n      <td>12.4</td>\n      <td>1063</td>\n      <td>293</td>\n      <td>603</td>\n      <td>175</td>\n      <td>1241</td>\n      <td>1092</td>\n      <td>26.9</td>\n      <td>18.3</td>\n      <td>0.6406</td>\n      <td>2005</td>\n      <td>4</td>\n      <td>4</td>\n      <td>12</td>\n    </tr>\n    <tr>\n      <th>9355</th>\n      <td>04/04/2005</td>\n      <td>13.00.00</td>\n      <td>2.1</td>\n      <td>1003</td>\n      <td>-200</td>\n      <td>9.5</td>\n      <td>961</td>\n      <td>235</td>\n      <td>702</td>\n      <td>156</td>\n      <td>1041</td>\n      <td>770</td>\n      <td>28.3</td>\n      <td>13.5</td>\n      <td>0.5139</td>\n      <td>2005</td>\n      <td>4</td>\n      <td>4</td>\n      <td>13</td>\n    </tr>\n    <tr>\n      <th>9356</th>\n      <td>04/04/2005</td>\n      <td>14.00.00</td>\n      <td>2.2</td>\n      <td>1071</td>\n      <td>-200</td>\n      <td>11.9</td>\n      <td>1047</td>\n      <td>265</td>\n      <td>654</td>\n      <td>168</td>\n      <td>1129</td>\n      <td>816</td>\n      <td>28.5</td>\n      <td>13.1</td>\n      <td>0.5028</td>\n      <td>2005</td>\n      <td>4</td>\n      <td>4</td>\n      <td>14</td>\n    </tr>\n  </tbody>\n</table>\n<p>9357 rows × 19 columns</p>\n</div>"
     },
     "execution_count": 37,
     "metadata": {},
     "output_type": "execute_result"
    }
   ],
   "source": [
    "df"
   ],
   "metadata": {
    "collapsed": false,
    "ExecuteTime": {
     "end_time": "2024-01-01T21:14:17.578399Z",
     "start_time": "2024-01-01T21:14:17.567539Z"
    }
   },
   "id": "86e3a212c072a5a5",
   "execution_count": 37
  },
  {
   "cell_type": "code",
   "outputs": [],
   "source": [
    "df['hour'] = df['Time'].str.split('.').str[0].astype(int)\n",
    "df['year'] = df['Date'].str.split('/').str[2].astype(int)\n",
    "df['month'] = df['Date'].str.split('/').str[0].astype(int)\n",
    "df['day'] = df['Date'].str.split('/').str[1].astype(int)\n"
   ],
   "metadata": {
    "collapsed": false,
    "ExecuteTime": {
     "end_time": "2024-01-01T21:13:20.984832Z",
     "start_time": "2024-01-01T21:13:20.968384Z"
    }
   },
   "id": "10455a52d5108a1c",
   "execution_count": 33
  },
  {
   "cell_type": "code",
   "outputs": [
    {
     "data": {
      "text/plain": "Date              object\nTime              object\nCO(GT)           float64\nPT08.S1(CO)        int64\nNMHC(GT)           int64\nC6H6(GT)         float64\nPT08.S2(NMHC)      int64\nNOx(GT)            int64\nPT08.S3(NOx)       int64\nNO2(GT)            int64\nPT08.S4(NO2)       int64\nPT08.S5(O3)        int64\nT                float64\nRH               float64\nAH               float64\ndtype: object"
     },
     "execution_count": 22,
     "metadata": {},
     "output_type": "execute_result"
    }
   ],
   "source": [
    "df.dtypes"
   ],
   "metadata": {
    "collapsed": false,
    "ExecuteTime": {
     "end_time": "2024-01-01T18:05:41.337702Z",
     "start_time": "2024-01-01T18:05:41.332174Z"
    }
   },
   "id": "5e3dd68488861b63",
   "execution_count": 22
  },
  {
   "cell_type": "code",
   "outputs": [
    {
     "data": {
      "text/plain": "2"
     },
     "execution_count": 38,
     "metadata": {},
     "output_type": "execute_result"
    }
   ],
   "source": [
    "df[\"year\"].nunique()"
   ],
   "metadata": {
    "collapsed": false,
    "ExecuteTime": {
     "end_time": "2024-01-01T21:14:37.193427Z",
     "start_time": "2024-01-01T21:14:37.190881Z"
    }
   },
   "id": "7a3e38ec6b53998f",
   "execution_count": 38
  },
  {
   "cell_type": "code",
   "outputs": [
    {
     "data": {
      "text/plain": "24"
     },
     "execution_count": 24,
     "metadata": {},
     "output_type": "execute_result"
    }
   ],
   "source": [
    "df[\"Time\"].nunique()"
   ],
   "metadata": {
    "collapsed": false,
    "ExecuteTime": {
     "end_time": "2024-01-01T18:06:50.603717Z",
     "start_time": "2024-01-01T18:06:50.601401Z"
    }
   },
   "id": "2210bc07e1f54232",
   "execution_count": 24
  },
  {
   "cell_type": "code",
   "outputs": [
    {
     "data": {
      "text/plain": "            CO(GT)  PT08.S1(CO)     NMHC(GT)     C6H6(GT)  PT08.S2(NMHC)  \\\ncount  9357.000000  9357.000000  9357.000000  9357.000000    9357.000000   \nmean    -34.207524  1048.990061  -159.090093     1.865683     894.595276   \nstd      77.657170   329.832710   139.789093    41.380206     342.333252   \nmin    -200.000000  -200.000000  -200.000000  -200.000000    -200.000000   \n25%       0.600000   921.000000  -200.000000     4.000000     711.000000   \n50%       1.500000  1053.000000  -200.000000     7.900000     895.000000   \n75%       2.600000  1221.000000  -200.000000    13.600000    1105.000000   \nmax      11.900000  2040.000000  1189.000000    63.700000    2214.000000   \n\n           NOx(GT)  PT08.S3(NOx)      NO2(GT)  PT08.S4(NO2)  PT08.S5(O3)  \\\ncount  9357.000000   9357.000000  9357.000000   9357.000000  9357.000000   \nmean    168.616971    794.990168    58.148873   1391.479641   975.072032   \nstd     257.433866    321.993552   126.940455    467.210125   456.938184   \nmin    -200.000000   -200.000000  -200.000000   -200.000000  -200.000000   \n25%      50.000000    637.000000    53.000000   1185.000000   700.000000   \n50%     141.000000    794.000000    96.000000   1446.000000   942.000000   \n75%     284.000000    960.000000   133.000000   1662.000000  1255.000000   \nmax    1479.000000   2683.000000   340.000000   2775.000000  2523.000000   \n\n                 T           RH           AH         year        month  \\\ncount  9357.000000  9357.000000  9357.000000  9357.000000  9357.000000   \nmean      9.778305    39.485380    -6.837604  2004.240141    15.876884   \nstd      43.203623    51.216145    38.976670     0.427192     8.808653   \nmin    -200.000000  -200.000000  -200.000000  2004.000000     1.000000   \n25%      10.900000    34.100000     0.692300  2004.000000     8.000000   \n50%      17.200000    48.600000     0.976800  2004.000000    16.000000   \n75%      24.100000    61.900000     1.296200  2004.000000    23.000000   \nmax      44.600000    88.700000     2.231000  2005.000000    31.000000   \n\n               day         hour  \ncount  9357.000000  9357.000000  \nmean      6.310356    11.498557  \nstd       3.438160     6.923182  \nmin       1.000000     0.000000  \n25%       3.000000     5.000000  \n50%       6.000000    11.000000  \n75%       9.000000    18.000000  \nmax      12.000000    23.000000  ",
      "text/html": "<div>\n<style scoped>\n    .dataframe tbody tr th:only-of-type {\n        vertical-align: middle;\n    }\n\n    .dataframe tbody tr th {\n        vertical-align: top;\n    }\n\n    .dataframe thead th {\n        text-align: right;\n    }\n</style>\n<table border=\"1\" class=\"dataframe\">\n  <thead>\n    <tr style=\"text-align: right;\">\n      <th></th>\n      <th>CO(GT)</th>\n      <th>PT08.S1(CO)</th>\n      <th>NMHC(GT)</th>\n      <th>C6H6(GT)</th>\n      <th>PT08.S2(NMHC)</th>\n      <th>NOx(GT)</th>\n      <th>PT08.S3(NOx)</th>\n      <th>NO2(GT)</th>\n      <th>PT08.S4(NO2)</th>\n      <th>PT08.S5(O3)</th>\n      <th>T</th>\n      <th>RH</th>\n      <th>AH</th>\n      <th>year</th>\n      <th>month</th>\n      <th>day</th>\n      <th>hour</th>\n    </tr>\n  </thead>\n  <tbody>\n    <tr>\n      <th>count</th>\n      <td>9357.000000</td>\n      <td>9357.000000</td>\n      <td>9357.000000</td>\n      <td>9357.000000</td>\n      <td>9357.000000</td>\n      <td>9357.000000</td>\n      <td>9357.000000</td>\n      <td>9357.000000</td>\n      <td>9357.000000</td>\n      <td>9357.000000</td>\n      <td>9357.000000</td>\n      <td>9357.000000</td>\n      <td>9357.000000</td>\n      <td>9357.000000</td>\n      <td>9357.000000</td>\n      <td>9357.000000</td>\n      <td>9357.000000</td>\n    </tr>\n    <tr>\n      <th>mean</th>\n      <td>-34.207524</td>\n      <td>1048.990061</td>\n      <td>-159.090093</td>\n      <td>1.865683</td>\n      <td>894.595276</td>\n      <td>168.616971</td>\n      <td>794.990168</td>\n      <td>58.148873</td>\n      <td>1391.479641</td>\n      <td>975.072032</td>\n      <td>9.778305</td>\n      <td>39.485380</td>\n      <td>-6.837604</td>\n      <td>2004.240141</td>\n      <td>15.876884</td>\n      <td>6.310356</td>\n      <td>11.498557</td>\n    </tr>\n    <tr>\n      <th>std</th>\n      <td>77.657170</td>\n      <td>329.832710</td>\n      <td>139.789093</td>\n      <td>41.380206</td>\n      <td>342.333252</td>\n      <td>257.433866</td>\n      <td>321.993552</td>\n      <td>126.940455</td>\n      <td>467.210125</td>\n      <td>456.938184</td>\n      <td>43.203623</td>\n      <td>51.216145</td>\n      <td>38.976670</td>\n      <td>0.427192</td>\n      <td>8.808653</td>\n      <td>3.438160</td>\n      <td>6.923182</td>\n    </tr>\n    <tr>\n      <th>min</th>\n      <td>-200.000000</td>\n      <td>-200.000000</td>\n      <td>-200.000000</td>\n      <td>-200.000000</td>\n      <td>-200.000000</td>\n      <td>-200.000000</td>\n      <td>-200.000000</td>\n      <td>-200.000000</td>\n      <td>-200.000000</td>\n      <td>-200.000000</td>\n      <td>-200.000000</td>\n      <td>-200.000000</td>\n      <td>-200.000000</td>\n      <td>2004.000000</td>\n      <td>1.000000</td>\n      <td>1.000000</td>\n      <td>0.000000</td>\n    </tr>\n    <tr>\n      <th>25%</th>\n      <td>0.600000</td>\n      <td>921.000000</td>\n      <td>-200.000000</td>\n      <td>4.000000</td>\n      <td>711.000000</td>\n      <td>50.000000</td>\n      <td>637.000000</td>\n      <td>53.000000</td>\n      <td>1185.000000</td>\n      <td>700.000000</td>\n      <td>10.900000</td>\n      <td>34.100000</td>\n      <td>0.692300</td>\n      <td>2004.000000</td>\n      <td>8.000000</td>\n      <td>3.000000</td>\n      <td>5.000000</td>\n    </tr>\n    <tr>\n      <th>50%</th>\n      <td>1.500000</td>\n      <td>1053.000000</td>\n      <td>-200.000000</td>\n      <td>7.900000</td>\n      <td>895.000000</td>\n      <td>141.000000</td>\n      <td>794.000000</td>\n      <td>96.000000</td>\n      <td>1446.000000</td>\n      <td>942.000000</td>\n      <td>17.200000</td>\n      <td>48.600000</td>\n      <td>0.976800</td>\n      <td>2004.000000</td>\n      <td>16.000000</td>\n      <td>6.000000</td>\n      <td>11.000000</td>\n    </tr>\n    <tr>\n      <th>75%</th>\n      <td>2.600000</td>\n      <td>1221.000000</td>\n      <td>-200.000000</td>\n      <td>13.600000</td>\n      <td>1105.000000</td>\n      <td>284.000000</td>\n      <td>960.000000</td>\n      <td>133.000000</td>\n      <td>1662.000000</td>\n      <td>1255.000000</td>\n      <td>24.100000</td>\n      <td>61.900000</td>\n      <td>1.296200</td>\n      <td>2004.000000</td>\n      <td>23.000000</td>\n      <td>9.000000</td>\n      <td>18.000000</td>\n    </tr>\n    <tr>\n      <th>max</th>\n      <td>11.900000</td>\n      <td>2040.000000</td>\n      <td>1189.000000</td>\n      <td>63.700000</td>\n      <td>2214.000000</td>\n      <td>1479.000000</td>\n      <td>2683.000000</td>\n      <td>340.000000</td>\n      <td>2775.000000</td>\n      <td>2523.000000</td>\n      <td>44.600000</td>\n      <td>88.700000</td>\n      <td>2.231000</td>\n      <td>2005.000000</td>\n      <td>31.000000</td>\n      <td>12.000000</td>\n      <td>23.000000</td>\n    </tr>\n  </tbody>\n</table>\n</div>"
     },
     "execution_count": 39,
     "metadata": {},
     "output_type": "execute_result"
    }
   ],
   "source": [
    "df.describe()"
   ],
   "metadata": {
    "collapsed": false,
    "ExecuteTime": {
     "end_time": "2024-01-01T21:14:44.886531Z",
     "start_time": "2024-01-01T21:14:44.863730Z"
    }
   },
   "id": "e0d7df76a13fb130",
   "execution_count": 39
  },
  {
   "cell_type": "code",
   "outputs": [],
   "source": [],
   "metadata": {
    "collapsed": false,
    "ExecuteTime": {
     "end_time": "2024-01-01T21:14:49.547203Z",
     "start_time": "2024-01-01T21:14:49.535910Z"
    }
   },
   "id": "225abf17102b368d",
   "execution_count": 39
  },
  {
   "cell_type": "code",
   "outputs": [],
   "source": [
    "df.to_csv(\"dataset/AirQuality/AirQuality-Clean.csv\", index=False)"
   ],
   "metadata": {
    "collapsed": false,
    "ExecuteTime": {
     "end_time": "2024-01-01T21:14:50.243144Z",
     "start_time": "2024-01-01T21:14:50.210189Z"
    }
   },
   "id": "f0fc0c25db2e6921",
   "execution_count": 40
  },
  {
   "cell_type": "markdown",
   "source": [
    "## Apartment for Rent"
   ],
   "metadata": {
    "collapsed": false
   },
   "id": "768aff7621eac1bb"
  },
  {
   "cell_type": "code",
   "outputs": [],
   "source": [
    "df = pd.read_csv(\"dataset/ApartmentRent/apartments_for_rent_classified_edited.csv\", low_memory=False)"
   ],
   "metadata": {
    "collapsed": false,
    "ExecuteTime": {
     "end_time": "2024-01-02T13:42:00.033734Z",
     "start_time": "2024-01-02T13:41:59.802027Z"
    }
   },
   "id": "fbfe2ca7aee469bd",
   "execution_count": 29
  },
  {
   "cell_type": "code",
   "outputs": [],
   "source": [
    "df.drop(df.columns.difference(['id', 'bathrooms', 'bedrooms', 'fee', 'price', 'square_feet', 'cityname', 'state']),axis=1,inplace=True)\n",
    "# df.drop(df.columns.difference(['id', 'bathrooms', 'bedrooms', 'currency', 'fee','pets_allowed', 'price', 'price_type', 'square_feet', 'cityname', 'state', 'latitude', 'longitude', 'source', 'time']),axis=1,inplace=True)"
   ],
   "metadata": {
    "collapsed": false,
    "ExecuteTime": {
     "end_time": "2024-01-02T13:42:00.806582Z",
     "start_time": "2024-01-02T13:42:00.785930Z"
    }
   },
   "id": "c569dc12016b6bda",
   "execution_count": 30
  },
  {
   "cell_type": "code",
   "outputs": [
    {
     "data": {
      "text/plain": "           id bathrooms bedrooms fee price square_feet       cityname state\n0  5668640009         1        1  No  2195         542  Redondo Beach    CA\n1  5668639818       1.5        3  No  1250        1500   Newport News    VA\n2  5668639686         2        3  No  1395        1650        Raleigh    NC\n3  5668639659         1        2  No  1600         820      Vacaville    CA\n4  5668639374         1        1  No   975         624    Albuquerque    NM",
      "text/html": "<div>\n<style scoped>\n    .dataframe tbody tr th:only-of-type {\n        vertical-align: middle;\n    }\n\n    .dataframe tbody tr th {\n        vertical-align: top;\n    }\n\n    .dataframe thead th {\n        text-align: right;\n    }\n</style>\n<table border=\"1\" class=\"dataframe\">\n  <thead>\n    <tr style=\"text-align: right;\">\n      <th></th>\n      <th>id</th>\n      <th>bathrooms</th>\n      <th>bedrooms</th>\n      <th>fee</th>\n      <th>price</th>\n      <th>square_feet</th>\n      <th>cityname</th>\n      <th>state</th>\n    </tr>\n  </thead>\n  <tbody>\n    <tr>\n      <th>0</th>\n      <td>5668640009</td>\n      <td>1</td>\n      <td>1</td>\n      <td>No</td>\n      <td>2195</td>\n      <td>542</td>\n      <td>Redondo Beach</td>\n      <td>CA</td>\n    </tr>\n    <tr>\n      <th>1</th>\n      <td>5668639818</td>\n      <td>1.5</td>\n      <td>3</td>\n      <td>No</td>\n      <td>1250</td>\n      <td>1500</td>\n      <td>Newport News</td>\n      <td>VA</td>\n    </tr>\n    <tr>\n      <th>2</th>\n      <td>5668639686</td>\n      <td>2</td>\n      <td>3</td>\n      <td>No</td>\n      <td>1395</td>\n      <td>1650</td>\n      <td>Raleigh</td>\n      <td>NC</td>\n    </tr>\n    <tr>\n      <th>3</th>\n      <td>5668639659</td>\n      <td>1</td>\n      <td>2</td>\n      <td>No</td>\n      <td>1600</td>\n      <td>820</td>\n      <td>Vacaville</td>\n      <td>CA</td>\n    </tr>\n    <tr>\n      <th>4</th>\n      <td>5668639374</td>\n      <td>1</td>\n      <td>1</td>\n      <td>No</td>\n      <td>975</td>\n      <td>624</td>\n      <td>Albuquerque</td>\n      <td>NM</td>\n    </tr>\n  </tbody>\n</table>\n</div>"
     },
     "execution_count": 31,
     "metadata": {},
     "output_type": "execute_result"
    }
   ],
   "source": [
    "df.head()"
   ],
   "metadata": {
    "collapsed": false,
    "ExecuteTime": {
     "end_time": "2024-01-02T13:42:01.534479Z",
     "start_time": "2024-01-02T13:42:01.531971Z"
    }
   },
   "id": "389b1877cfbe3639",
   "execution_count": 31
  },
  {
   "cell_type": "code",
   "outputs": [
    {
     "data": {
      "text/plain": "(99826, 8)"
     },
     "execution_count": 32,
     "metadata": {},
     "output_type": "execute_result"
    }
   ],
   "source": [
    "df.shape"
   ],
   "metadata": {
    "collapsed": false,
    "ExecuteTime": {
     "end_time": "2024-01-02T13:43:58.737979Z",
     "start_time": "2024-01-02T13:43:58.730514Z"
    }
   },
   "id": "b62ab0dffa37910c",
   "execution_count": 32
  },
  {
   "cell_type": "code",
   "outputs": [],
   "source": [
    "df[\"bathrooms\"] = pd.to_numeric(df[\"bathrooms\"], errors='coerce' )\n",
    "df[\"bedrooms\"] = pd.to_numeric(df[\"bedrooms\"], errors='coerce' )\n",
    "df[\"price\"] = pd.to_numeric(df[\"price\"], errors='coerce' )\n",
    "df[\"square_feet\"] = pd.to_numeric(df[\"square_feet\"], errors='coerce' )"
   ],
   "metadata": {
    "collapsed": false,
    "ExecuteTime": {
     "end_time": "2024-01-02T13:44:01.215753Z",
     "start_time": "2024-01-02T13:44:01.165764Z"
    }
   },
   "id": "df8e6d15f8dc152a",
   "execution_count": 33
  },
  {
   "cell_type": "code",
   "outputs": [],
   "source": [
    "df = df.dropna(subset=[\"bathrooms\", \"bedrooms\", \"price\", \"square_feet\", \"state\", \"cityname\"])"
   ],
   "metadata": {
    "collapsed": false,
    "ExecuteTime": {
     "end_time": "2024-01-02T13:44:02.178429Z",
     "start_time": "2024-01-02T13:44:02.169756Z"
    }
   },
   "id": "1eca20ee7f434a06",
   "execution_count": 34
  },
  {
   "cell_type": "code",
   "outputs": [
    {
     "data": {
      "text/plain": "(99004, 8)"
     },
     "execution_count": 44,
     "metadata": {},
     "output_type": "execute_result"
    }
   ],
   "source": [
    "df.shape"
   ],
   "metadata": {
    "collapsed": false,
    "ExecuteTime": {
     "end_time": "2024-01-02T13:50:43.286879Z",
     "start_time": "2024-01-02T13:50:43.283716Z"
    }
   },
   "id": "38a477f8dd58d8da",
   "execution_count": 44
  },
  {
   "cell_type": "code",
   "outputs": [],
   "source": [
    "df.to_csv(\"dataset/ApartmentRent/apartments_for_rent_final.csv\", index=False)"
   ],
   "metadata": {
    "collapsed": false,
    "ExecuteTime": {
     "end_time": "2024-01-02T13:52:28.282279Z",
     "start_time": "2024-01-02T13:52:28.152068Z"
    }
   },
   "id": "24d8807e060c6357",
   "execution_count": 45
  },
  {
   "cell_type": "code",
   "outputs": [
    {
     "data": {
      "text/plain": "(99303, 13)"
     },
     "execution_count": 28,
     "metadata": {},
     "output_type": "execute_result"
    }
   ],
   "source": [
    "df.dropna(subset=[\"bedrooms\"]).shape"
   ],
   "metadata": {
    "collapsed": false,
    "ExecuteTime": {
     "end_time": "2024-01-02T13:37:29.305183Z",
     "start_time": "2024-01-02T13:37:29.295211Z"
    }
   },
   "id": "d92498577660ba6c",
   "execution_count": 28
  },
  {
   "cell_type": "markdown",
   "source": [
    "## Marketing"
   ],
   "metadata": {
    "collapsed": false
   },
   "id": "2719ecee9c562980"
  },
  {
   "cell_type": "code",
   "outputs": [],
   "source": [
    "df = pd.read_csv(\"dataset/BankMarketing/bank-additional-full.csv\", sep=\";\")"
   ],
   "metadata": {
    "collapsed": false,
    "ExecuteTime": {
     "end_time": "2024-01-02T14:15:33.141798Z",
     "start_time": "2024-01-02T14:15:33.088892Z"
    }
   },
   "id": "7afc73a6d386b1b4",
   "execution_count": 57
  },
  {
   "cell_type": "code",
   "outputs": [],
   "source": [
    "df.drop(columns=[\"emp.var.rate\", \"cons.price.idx\", \"euribor3m\", \"nr.employed\", \"cons.conf.idx\"], inplace=True)"
   ],
   "metadata": {
    "collapsed": false,
    "ExecuteTime": {
     "end_time": "2024-01-02T14:16:47.261538Z",
     "start_time": "2024-01-02T14:16:47.246674Z"
    }
   },
   "id": "fd614f8f2b3fc30b",
   "execution_count": 59
  },
  {
   "cell_type": "code",
   "outputs": [
    {
     "data": {
      "text/plain": "(41188, 17)"
     },
     "execution_count": 60,
     "metadata": {},
     "output_type": "execute_result"
    }
   ],
   "source": [
    "df.shape"
   ],
   "metadata": {
    "collapsed": false,
    "ExecuteTime": {
     "end_time": "2024-01-02T14:16:52.573514Z",
     "start_time": "2024-01-02T14:16:52.566055Z"
    }
   },
   "id": "38e493922f5a39ab",
   "execution_count": 60
  },
  {
   "cell_type": "code",
   "outputs": [
    {
     "data": {
      "text/plain": "   age        job  marital    education  default housing loan    contact  \\\n0   56  housemaid  married     basic.4y       no      no   no  telephone   \n1   57   services  married  high.school  unknown      no   no  telephone   \n2   37   services  married  high.school       no     yes   no  telephone   \n3   40     admin.  married     basic.6y       no      no   no  telephone   \n4   56   services  married  high.school       no      no  yes  telephone   \n\n  month day_of_week  duration  campaign  pdays  previous     poutcome   y  \n0   may         mon       261         1    999         0  nonexistent  no  \n1   may         mon       149         1    999         0  nonexistent  no  \n2   may         mon       226         1    999         0  nonexistent  no  \n3   may         mon       151         1    999         0  nonexistent  no  \n4   may         mon       307         1    999         0  nonexistent  no  ",
      "text/html": "<div>\n<style scoped>\n    .dataframe tbody tr th:only-of-type {\n        vertical-align: middle;\n    }\n\n    .dataframe tbody tr th {\n        vertical-align: top;\n    }\n\n    .dataframe thead th {\n        text-align: right;\n    }\n</style>\n<table border=\"1\" class=\"dataframe\">\n  <thead>\n    <tr style=\"text-align: right;\">\n      <th></th>\n      <th>age</th>\n      <th>job</th>\n      <th>marital</th>\n      <th>education</th>\n      <th>default</th>\n      <th>housing</th>\n      <th>loan</th>\n      <th>contact</th>\n      <th>month</th>\n      <th>day_of_week</th>\n      <th>duration</th>\n      <th>campaign</th>\n      <th>pdays</th>\n      <th>previous</th>\n      <th>poutcome</th>\n      <th>y</th>\n    </tr>\n  </thead>\n  <tbody>\n    <tr>\n      <th>0</th>\n      <td>56</td>\n      <td>housemaid</td>\n      <td>married</td>\n      <td>basic.4y</td>\n      <td>no</td>\n      <td>no</td>\n      <td>no</td>\n      <td>telephone</td>\n      <td>may</td>\n      <td>mon</td>\n      <td>261</td>\n      <td>1</td>\n      <td>999</td>\n      <td>0</td>\n      <td>nonexistent</td>\n      <td>no</td>\n    </tr>\n    <tr>\n      <th>1</th>\n      <td>57</td>\n      <td>services</td>\n      <td>married</td>\n      <td>high.school</td>\n      <td>unknown</td>\n      <td>no</td>\n      <td>no</td>\n      <td>telephone</td>\n      <td>may</td>\n      <td>mon</td>\n      <td>149</td>\n      <td>1</td>\n      <td>999</td>\n      <td>0</td>\n      <td>nonexistent</td>\n      <td>no</td>\n    </tr>\n    <tr>\n      <th>2</th>\n      <td>37</td>\n      <td>services</td>\n      <td>married</td>\n      <td>high.school</td>\n      <td>no</td>\n      <td>yes</td>\n      <td>no</td>\n      <td>telephone</td>\n      <td>may</td>\n      <td>mon</td>\n      <td>226</td>\n      <td>1</td>\n      <td>999</td>\n      <td>0</td>\n      <td>nonexistent</td>\n      <td>no</td>\n    </tr>\n    <tr>\n      <th>3</th>\n      <td>40</td>\n      <td>admin.</td>\n      <td>married</td>\n      <td>basic.6y</td>\n      <td>no</td>\n      <td>no</td>\n      <td>no</td>\n      <td>telephone</td>\n      <td>may</td>\n      <td>mon</td>\n      <td>151</td>\n      <td>1</td>\n      <td>999</td>\n      <td>0</td>\n      <td>nonexistent</td>\n      <td>no</td>\n    </tr>\n    <tr>\n      <th>4</th>\n      <td>56</td>\n      <td>services</td>\n      <td>married</td>\n      <td>high.school</td>\n      <td>no</td>\n      <td>no</td>\n      <td>yes</td>\n      <td>telephone</td>\n      <td>may</td>\n      <td>mon</td>\n      <td>307</td>\n      <td>1</td>\n      <td>999</td>\n      <td>0</td>\n      <td>nonexistent</td>\n      <td>no</td>\n    </tr>\n  </tbody>\n</table>\n</div>"
     },
     "execution_count": 66,
     "metadata": {},
     "output_type": "execute_result"
    }
   ],
   "source": [
    "df.head()"
   ],
   "metadata": {
    "collapsed": false,
    "ExecuteTime": {
     "end_time": "2024-01-02T15:34:31.886632Z",
     "start_time": "2024-01-02T15:34:31.882845Z"
    }
   },
   "id": "aba8778bd25ec623",
   "execution_count": 66
  },
  {
   "cell_type": "code",
   "outputs": [],
   "source": [
    "df.to_csv(\"dataset/BankMarketing/bank-final.csv\", index=False)"
   ],
   "metadata": {
    "collapsed": false,
    "ExecuteTime": {
     "end_time": "2024-01-02T15:42:24.419904Z",
     "start_time": "2024-01-02T15:42:24.354490Z"
    }
   },
   "id": "34dcd0749742bbb9",
   "execution_count": 68
  },
  {
   "cell_type": "markdown",
   "source": [
    "## PM"
   ],
   "metadata": {
    "collapsed": false
   },
   "id": "49e039a93cda8302"
  },
  {
   "cell_type": "code",
   "outputs": [],
   "source": [
    "df = pd.read_csv(\"dataset/BeijingPM/PRSA_data_2010.1.1-2014.12.31.csv\")"
   ],
   "metadata": {
    "collapsed": false,
    "ExecuteTime": {
     "end_time": "2024-01-02T15:44:22.914536Z",
     "start_time": "2024-01-02T15:44:22.890842Z"
    }
   },
   "id": "151c6e686d116dbf",
   "execution_count": 69
  },
  {
   "cell_type": "code",
   "outputs": [
    {
     "data": {
      "text/plain": "(43824, 13)"
     },
     "execution_count": 70,
     "metadata": {},
     "output_type": "execute_result"
    }
   ],
   "source": [
    "df.shape"
   ],
   "metadata": {
    "collapsed": false,
    "ExecuteTime": {
     "end_time": "2024-01-02T15:44:25.949576Z",
     "start_time": "2024-01-02T15:44:25.944281Z"
    }
   },
   "id": "2fb64aa23b227177",
   "execution_count": 70
  },
  {
   "cell_type": "code",
   "outputs": [
    {
     "data": {
      "text/plain": "    year  month  day  hour  pm2.5  DEWP  TEMP    PRES cbwd   Iws  Is  Ir\n24  2010      1    2     0  129.0   -16  -4.0  1020.0   SE  1.79   0   0\n25  2010      1    2     1  148.0   -15  -4.0  1020.0   SE  2.68   0   0\n26  2010      1    2     2  159.0   -11  -5.0  1021.0   SE  3.57   0   0\n27  2010      1    2     3  181.0    -7  -5.0  1022.0   SE  5.36   1   0\n28  2010      1    2     4  138.0    -7  -5.0  1022.0   SE  6.25   2   0",
      "text/html": "<div>\n<style scoped>\n    .dataframe tbody tr th:only-of-type {\n        vertical-align: middle;\n    }\n\n    .dataframe tbody tr th {\n        vertical-align: top;\n    }\n\n    .dataframe thead th {\n        text-align: right;\n    }\n</style>\n<table border=\"1\" class=\"dataframe\">\n  <thead>\n    <tr style=\"text-align: right;\">\n      <th></th>\n      <th>year</th>\n      <th>month</th>\n      <th>day</th>\n      <th>hour</th>\n      <th>pm2.5</th>\n      <th>DEWP</th>\n      <th>TEMP</th>\n      <th>PRES</th>\n      <th>cbwd</th>\n      <th>Iws</th>\n      <th>Is</th>\n      <th>Ir</th>\n    </tr>\n  </thead>\n  <tbody>\n    <tr>\n      <th>24</th>\n      <td>2010</td>\n      <td>1</td>\n      <td>2</td>\n      <td>0</td>\n      <td>129.0</td>\n      <td>-16</td>\n      <td>-4.0</td>\n      <td>1020.0</td>\n      <td>SE</td>\n      <td>1.79</td>\n      <td>0</td>\n      <td>0</td>\n    </tr>\n    <tr>\n      <th>25</th>\n      <td>2010</td>\n      <td>1</td>\n      <td>2</td>\n      <td>1</td>\n      <td>148.0</td>\n      <td>-15</td>\n      <td>-4.0</td>\n      <td>1020.0</td>\n      <td>SE</td>\n      <td>2.68</td>\n      <td>0</td>\n      <td>0</td>\n    </tr>\n    <tr>\n      <th>26</th>\n      <td>2010</td>\n      <td>1</td>\n      <td>2</td>\n      <td>2</td>\n      <td>159.0</td>\n      <td>-11</td>\n      <td>-5.0</td>\n      <td>1021.0</td>\n      <td>SE</td>\n      <td>3.57</td>\n      <td>0</td>\n      <td>0</td>\n    </tr>\n    <tr>\n      <th>27</th>\n      <td>2010</td>\n      <td>1</td>\n      <td>2</td>\n      <td>3</td>\n      <td>181.0</td>\n      <td>-7</td>\n      <td>-5.0</td>\n      <td>1022.0</td>\n      <td>SE</td>\n      <td>5.36</td>\n      <td>1</td>\n      <td>0</td>\n    </tr>\n    <tr>\n      <th>28</th>\n      <td>2010</td>\n      <td>1</td>\n      <td>2</td>\n      <td>4</td>\n      <td>138.0</td>\n      <td>-7</td>\n      <td>-5.0</td>\n      <td>1022.0</td>\n      <td>SE</td>\n      <td>6.25</td>\n      <td>2</td>\n      <td>0</td>\n    </tr>\n  </tbody>\n</table>\n</div>"
     },
     "execution_count": 88,
     "metadata": {},
     "output_type": "execute_result"
    }
   ],
   "source": [
    "df.head()"
   ],
   "metadata": {
    "collapsed": false,
    "ExecuteTime": {
     "end_time": "2024-01-02T16:11:14.791708Z",
     "start_time": "2024-01-02T16:11:14.788574Z"
    }
   },
   "id": "f85ee5ae4bdf5ad",
   "execution_count": 88
  },
  {
   "cell_type": "code",
   "outputs": [],
   "source": [
    "df.drop(columns=[\"No\"], inplace=True)"
   ],
   "metadata": {
    "collapsed": false,
    "ExecuteTime": {
     "end_time": "2024-01-02T16:11:12.569362Z",
     "start_time": "2024-01-02T16:11:12.561727Z"
    }
   },
   "id": "9034c242ad6e31d9",
   "execution_count": 87
  },
  {
   "cell_type": "code",
   "outputs": [],
   "source": [
    "df.dropna(inplace=True)"
   ],
   "metadata": {
    "collapsed": false,
    "ExecuteTime": {
     "end_time": "2024-01-02T16:09:58.782552Z",
     "start_time": "2024-01-02T16:09:58.776923Z"
    }
   },
   "id": "7f47422a27a04663",
   "execution_count": 83
  },
  {
   "cell_type": "code",
   "outputs": [
    {
     "data": {
      "text/plain": "No       0\nyear     0\nmonth    0\nday      0\nhour     0\npm2.5    0\nDEWP     0\nTEMP     0\nPRES     0\ncbwd     0\nIws      0\nIs       0\nIr       0\ndtype: int64"
     },
     "execution_count": 85,
     "metadata": {},
     "output_type": "execute_result"
    }
   ],
   "source": [
    "df.isna().sum()"
   ],
   "metadata": {
    "collapsed": false,
    "ExecuteTime": {
     "end_time": "2024-01-02T16:10:08.144349Z",
     "start_time": "2024-01-02T16:10:08.139204Z"
    }
   },
   "id": "c52888264a0260a9",
   "execution_count": 85
  },
  {
   "cell_type": "code",
   "outputs": [],
   "source": [
    "df.to_csv(\"dataset/BeijingPM/PRSA_data_final.csv\", index=False)"
   ],
   "metadata": {
    "collapsed": false,
    "ExecuteTime": {
     "end_time": "2024-01-02T16:12:00.406218Z",
     "start_time": "2024-01-02T16:12:00.336171Z"
    }
   },
   "id": "8e313906d2e812be",
   "execution_count": 89
  },
  {
   "cell_type": "markdown",
   "source": [
    "## Sharing"
   ],
   "metadata": {
    "collapsed": false
   },
   "id": "e0289bfdc4c6d6ae"
  },
  {
   "cell_type": "code",
   "outputs": [],
   "source": [
    "df = pd.read_csv(\"dataset/BikeSharing/hour.csv\")"
   ],
   "metadata": {
    "collapsed": false,
    "ExecuteTime": {
     "end_time": "2024-01-02T16:20:07.226594Z",
     "start_time": "2024-01-02T16:20:07.209611Z"
    }
   },
   "id": "f43381d4b2f0222b",
   "execution_count": 94
  },
  {
   "cell_type": "code",
   "outputs": [
    {
     "data": {
      "text/plain": "(17379, 17)"
     },
     "execution_count": 95,
     "metadata": {},
     "output_type": "execute_result"
    }
   ],
   "source": [
    "df.shape"
   ],
   "metadata": {
    "collapsed": false,
    "ExecuteTime": {
     "end_time": "2024-01-02T16:20:10.874241Z",
     "start_time": "2024-01-02T16:20:10.868529Z"
    }
   },
   "id": "6674f0803a43f8c7",
   "execution_count": 95
  },
  {
   "cell_type": "code",
   "outputs": [],
   "source": [
    "df.drop(columns=[\"instant\"], inplace=True)"
   ],
   "metadata": {
    "collapsed": false,
    "ExecuteTime": {
     "end_time": "2024-01-02T16:20:34.269779Z",
     "start_time": "2024-01-02T16:20:34.257590Z"
    }
   },
   "id": "3e2076426629221b",
   "execution_count": 96
  },
  {
   "cell_type": "code",
   "outputs": [
    {
     "data": {
      "text/plain": "       dteday  season  yr  mnth  hr  holiday  weekday  workingday  weathersit  \\\n0  2011-01-01       1   0     1   0        0        6           0           1   \n1  2011-01-01       1   0     1   1        0        6           0           1   \n2  2011-01-01       1   0     1   2        0        6           0           1   \n3  2011-01-01       1   0     1   3        0        6           0           1   \n4  2011-01-01       1   0     1   4        0        6           0           1   \n\n   temp   atemp   hum  windspeed  casual  registered  cnt  \n0  0.24  0.2879  0.81        0.0       3          13   16  \n1  0.22  0.2727  0.80        0.0       8          32   40  \n2  0.22  0.2727  0.80        0.0       5          27   32  \n3  0.24  0.2879  0.75        0.0       3          10   13  \n4  0.24  0.2879  0.75        0.0       0           1    1  ",
      "text/html": "<div>\n<style scoped>\n    .dataframe tbody tr th:only-of-type {\n        vertical-align: middle;\n    }\n\n    .dataframe tbody tr th {\n        vertical-align: top;\n    }\n\n    .dataframe thead th {\n        text-align: right;\n    }\n</style>\n<table border=\"1\" class=\"dataframe\">\n  <thead>\n    <tr style=\"text-align: right;\">\n      <th></th>\n      <th>dteday</th>\n      <th>season</th>\n      <th>yr</th>\n      <th>mnth</th>\n      <th>hr</th>\n      <th>holiday</th>\n      <th>weekday</th>\n      <th>workingday</th>\n      <th>weathersit</th>\n      <th>temp</th>\n      <th>atemp</th>\n      <th>hum</th>\n      <th>windspeed</th>\n      <th>casual</th>\n      <th>registered</th>\n      <th>cnt</th>\n    </tr>\n  </thead>\n  <tbody>\n    <tr>\n      <th>0</th>\n      <td>2011-01-01</td>\n      <td>1</td>\n      <td>0</td>\n      <td>1</td>\n      <td>0</td>\n      <td>0</td>\n      <td>6</td>\n      <td>0</td>\n      <td>1</td>\n      <td>0.24</td>\n      <td>0.2879</td>\n      <td>0.81</td>\n      <td>0.0</td>\n      <td>3</td>\n      <td>13</td>\n      <td>16</td>\n    </tr>\n    <tr>\n      <th>1</th>\n      <td>2011-01-01</td>\n      <td>1</td>\n      <td>0</td>\n      <td>1</td>\n      <td>1</td>\n      <td>0</td>\n      <td>6</td>\n      <td>0</td>\n      <td>1</td>\n      <td>0.22</td>\n      <td>0.2727</td>\n      <td>0.80</td>\n      <td>0.0</td>\n      <td>8</td>\n      <td>32</td>\n      <td>40</td>\n    </tr>\n    <tr>\n      <th>2</th>\n      <td>2011-01-01</td>\n      <td>1</td>\n      <td>0</td>\n      <td>1</td>\n      <td>2</td>\n      <td>0</td>\n      <td>6</td>\n      <td>0</td>\n      <td>1</td>\n      <td>0.22</td>\n      <td>0.2727</td>\n      <td>0.80</td>\n      <td>0.0</td>\n      <td>5</td>\n      <td>27</td>\n      <td>32</td>\n    </tr>\n    <tr>\n      <th>3</th>\n      <td>2011-01-01</td>\n      <td>1</td>\n      <td>0</td>\n      <td>1</td>\n      <td>3</td>\n      <td>0</td>\n      <td>6</td>\n      <td>0</td>\n      <td>1</td>\n      <td>0.24</td>\n      <td>0.2879</td>\n      <td>0.75</td>\n      <td>0.0</td>\n      <td>3</td>\n      <td>10</td>\n      <td>13</td>\n    </tr>\n    <tr>\n      <th>4</th>\n      <td>2011-01-01</td>\n      <td>1</td>\n      <td>0</td>\n      <td>1</td>\n      <td>4</td>\n      <td>0</td>\n      <td>6</td>\n      <td>0</td>\n      <td>1</td>\n      <td>0.24</td>\n      <td>0.2879</td>\n      <td>0.75</td>\n      <td>0.0</td>\n      <td>0</td>\n      <td>1</td>\n      <td>1</td>\n    </tr>\n  </tbody>\n</table>\n</div>"
     },
     "execution_count": 97,
     "metadata": {},
     "output_type": "execute_result"
    }
   ],
   "source": [
    "df.head()"
   ],
   "metadata": {
    "collapsed": false,
    "ExecuteTime": {
     "end_time": "2024-01-02T16:20:38.441457Z",
     "start_time": "2024-01-02T16:20:38.438262Z"
    }
   },
   "id": "eab2d49a3ee574bc",
   "execution_count": 97
  },
  {
   "cell_type": "code",
   "outputs": [],
   "source": [
    "df.to_csv(\"dataset/BikeSharing/final.csv\", index=False)"
   ],
   "metadata": {
    "collapsed": false,
    "ExecuteTime": {
     "end_time": "2024-01-02T16:21:10.776799Z",
     "start_time": "2024-01-02T16:21:10.735277Z"
    }
   },
   "id": "a3aeeeedf08aa445",
   "execution_count": 98
  },
  {
   "cell_type": "markdown",
   "source": [
    "## Diabetes"
   ],
   "metadata": {
    "collapsed": false
   },
   "id": "b7c17a537d1dde56"
  },
  {
   "cell_type": "code",
   "outputs": [],
   "source": [
    "df = pd.read_csv(\"dataset/Diabetes/diabetic_data.csv\")\n",
    "df1 = pd.read_csv(\"dataset/Diabetes/IDS_mapping.csv\")\n"
   ],
   "metadata": {
    "collapsed": false,
    "ExecuteTime": {
     "end_time": "2024-01-02T16:23:21.567122Z",
     "start_time": "2024-01-02T16:23:21.358356Z"
    }
   },
   "id": "b1259369f1999410",
   "execution_count": 99
  },
  {
   "cell_type": "code",
   "outputs": [
    {
     "data": {
      "text/plain": "((101766, 50), (67, 2))"
     },
     "execution_count": 100,
     "metadata": {},
     "output_type": "execute_result"
    }
   ],
   "source": [
    "df.shape, df1.shape"
   ],
   "metadata": {
    "collapsed": false,
    "ExecuteTime": {
     "end_time": "2024-01-02T16:23:28.120391Z",
     "start_time": "2024-01-02T16:23:28.115709Z"
    }
   },
   "id": "e105b2381a79cef3",
   "execution_count": 100
  },
  {
   "cell_type": "code",
   "outputs": [
    {
     "data": {
      "text/plain": "   admission_type_id                                        description\n0                  1                                          Emergency\n1                  2                                             Urgent\n2                  3                                           Elective\n3                  4                                            Newborn\n4                  5                                      Not Available\n..               ...                                                ...\n62                22   Transfer from hospital inpt/same fac reslt in...\n63                23                          Born inside this hospital\n64                24                         Born outside this hospital\n65                25            Transfer from Ambulatory Surgery Center\n66                26                              Transfer from Hospice\n\n[67 rows x 2 columns]",
      "text/html": "<div>\n<style scoped>\n    .dataframe tbody tr th:only-of-type {\n        vertical-align: middle;\n    }\n\n    .dataframe tbody tr th {\n        vertical-align: top;\n    }\n\n    .dataframe thead th {\n        text-align: right;\n    }\n</style>\n<table border=\"1\" class=\"dataframe\">\n  <thead>\n    <tr style=\"text-align: right;\">\n      <th></th>\n      <th>admission_type_id</th>\n      <th>description</th>\n    </tr>\n  </thead>\n  <tbody>\n    <tr>\n      <th>0</th>\n      <td>1</td>\n      <td>Emergency</td>\n    </tr>\n    <tr>\n      <th>1</th>\n      <td>2</td>\n      <td>Urgent</td>\n    </tr>\n    <tr>\n      <th>2</th>\n      <td>3</td>\n      <td>Elective</td>\n    </tr>\n    <tr>\n      <th>3</th>\n      <td>4</td>\n      <td>Newborn</td>\n    </tr>\n    <tr>\n      <th>4</th>\n      <td>5</td>\n      <td>Not Available</td>\n    </tr>\n    <tr>\n      <th>...</th>\n      <td>...</td>\n      <td>...</td>\n    </tr>\n    <tr>\n      <th>62</th>\n      <td>22</td>\n      <td>Transfer from hospital inpt/same fac reslt in...</td>\n    </tr>\n    <tr>\n      <th>63</th>\n      <td>23</td>\n      <td>Born inside this hospital</td>\n    </tr>\n    <tr>\n      <th>64</th>\n      <td>24</td>\n      <td>Born outside this hospital</td>\n    </tr>\n    <tr>\n      <th>65</th>\n      <td>25</td>\n      <td>Transfer from Ambulatory Surgery Center</td>\n    </tr>\n    <tr>\n      <th>66</th>\n      <td>26</td>\n      <td>Transfer from Hospice</td>\n    </tr>\n  </tbody>\n</table>\n<p>67 rows × 2 columns</p>\n</div>"
     },
     "execution_count": 102,
     "metadata": {},
     "output_type": "execute_result"
    }
   ],
   "source": [
    "df1"
   ],
   "metadata": {
    "collapsed": false,
    "ExecuteTime": {
     "end_time": "2024-01-02T16:23:43.900817Z",
     "start_time": "2024-01-02T16:23:43.896808Z"
    }
   },
   "id": "ce38f5f6d2e641e2",
   "execution_count": 102
  },
  {
   "cell_type": "code",
   "outputs": [],
   "source": [
    "df.drop(columns=[\"encounter_id\", \"patient_nbr\", \"payer_code\", \"discharge_disposition_id\", \"admission_source_id\", \"weight\"], inplace=True)"
   ],
   "metadata": {
    "collapsed": false,
    "ExecuteTime": {
     "end_time": "2024-01-02T16:48:28.730926Z",
     "start_time": "2024-01-02T16:48:28.699313Z"
    }
   },
   "id": "aae3d4aeab1dbcfd",
   "execution_count": 110
  },
  {
   "cell_type": "code",
   "outputs": [
    {
     "data": {
      "text/plain": "              race  gender      age  admission_type_id  time_in_hospital  \\\n0        Caucasian  Female   [0-10)                  6                 1   \n1        Caucasian  Female  [10-20)                  1                 3   \n2  AfricanAmerican  Female  [20-30)                  1                 2   \n3        Caucasian    Male  [30-40)                  1                 2   \n4        Caucasian    Male  [40-50)                  1                 1   \n\n          medical_specialty  num_lab_procedures  num_procedures  \\\n0  Pediatrics-Endocrinology                  41               0   \n1                         ?                  59               0   \n2                         ?                  11               5   \n3                         ?                  44               1   \n4                         ?                  51               0   \n\n   num_medications  number_outpatient  ...  citoglipton  insulin  \\\n0                1                  0  ...           No       No   \n1               18                  0  ...           No       Up   \n2               13                  2  ...           No       No   \n3               16                  0  ...           No       Up   \n4                8                  0  ...           No   Steady   \n\n  glyburide-metformin glipizide-metformin glimepiride-pioglitazone  \\\n0                  No                  No                       No   \n1                  No                  No                       No   \n2                  No                  No                       No   \n3                  No                  No                       No   \n4                  No                  No                       No   \n\n   metformin-rosiglitazone metformin-pioglitazone change diabetesMed  \\\n0                       No                     No     No          No   \n1                       No                     No     Ch         Yes   \n2                       No                     No     No         Yes   \n3                       No                     No     Ch         Yes   \n4                       No                     No     Ch         Yes   \n\n  readmitted  \n0         NO  \n1        >30  \n2         NO  \n3         NO  \n4         NO  \n\n[5 rows x 44 columns]",
      "text/html": "<div>\n<style scoped>\n    .dataframe tbody tr th:only-of-type {\n        vertical-align: middle;\n    }\n\n    .dataframe tbody tr th {\n        vertical-align: top;\n    }\n\n    .dataframe thead th {\n        text-align: right;\n    }\n</style>\n<table border=\"1\" class=\"dataframe\">\n  <thead>\n    <tr style=\"text-align: right;\">\n      <th></th>\n      <th>race</th>\n      <th>gender</th>\n      <th>age</th>\n      <th>admission_type_id</th>\n      <th>time_in_hospital</th>\n      <th>medical_specialty</th>\n      <th>num_lab_procedures</th>\n      <th>num_procedures</th>\n      <th>num_medications</th>\n      <th>number_outpatient</th>\n      <th>...</th>\n      <th>citoglipton</th>\n      <th>insulin</th>\n      <th>glyburide-metformin</th>\n      <th>glipizide-metformin</th>\n      <th>glimepiride-pioglitazone</th>\n      <th>metformin-rosiglitazone</th>\n      <th>metformin-pioglitazone</th>\n      <th>change</th>\n      <th>diabetesMed</th>\n      <th>readmitted</th>\n    </tr>\n  </thead>\n  <tbody>\n    <tr>\n      <th>0</th>\n      <td>Caucasian</td>\n      <td>Female</td>\n      <td>[0-10)</td>\n      <td>6</td>\n      <td>1</td>\n      <td>Pediatrics-Endocrinology</td>\n      <td>41</td>\n      <td>0</td>\n      <td>1</td>\n      <td>0</td>\n      <td>...</td>\n      <td>No</td>\n      <td>No</td>\n      <td>No</td>\n      <td>No</td>\n      <td>No</td>\n      <td>No</td>\n      <td>No</td>\n      <td>No</td>\n      <td>No</td>\n      <td>NO</td>\n    </tr>\n    <tr>\n      <th>1</th>\n      <td>Caucasian</td>\n      <td>Female</td>\n      <td>[10-20)</td>\n      <td>1</td>\n      <td>3</td>\n      <td>?</td>\n      <td>59</td>\n      <td>0</td>\n      <td>18</td>\n      <td>0</td>\n      <td>...</td>\n      <td>No</td>\n      <td>Up</td>\n      <td>No</td>\n      <td>No</td>\n      <td>No</td>\n      <td>No</td>\n      <td>No</td>\n      <td>Ch</td>\n      <td>Yes</td>\n      <td>&gt;30</td>\n    </tr>\n    <tr>\n      <th>2</th>\n      <td>AfricanAmerican</td>\n      <td>Female</td>\n      <td>[20-30)</td>\n      <td>1</td>\n      <td>2</td>\n      <td>?</td>\n      <td>11</td>\n      <td>5</td>\n      <td>13</td>\n      <td>2</td>\n      <td>...</td>\n      <td>No</td>\n      <td>No</td>\n      <td>No</td>\n      <td>No</td>\n      <td>No</td>\n      <td>No</td>\n      <td>No</td>\n      <td>No</td>\n      <td>Yes</td>\n      <td>NO</td>\n    </tr>\n    <tr>\n      <th>3</th>\n      <td>Caucasian</td>\n      <td>Male</td>\n      <td>[30-40)</td>\n      <td>1</td>\n      <td>2</td>\n      <td>?</td>\n      <td>44</td>\n      <td>1</td>\n      <td>16</td>\n      <td>0</td>\n      <td>...</td>\n      <td>No</td>\n      <td>Up</td>\n      <td>No</td>\n      <td>No</td>\n      <td>No</td>\n      <td>No</td>\n      <td>No</td>\n      <td>Ch</td>\n      <td>Yes</td>\n      <td>NO</td>\n    </tr>\n    <tr>\n      <th>4</th>\n      <td>Caucasian</td>\n      <td>Male</td>\n      <td>[40-50)</td>\n      <td>1</td>\n      <td>1</td>\n      <td>?</td>\n      <td>51</td>\n      <td>0</td>\n      <td>8</td>\n      <td>0</td>\n      <td>...</td>\n      <td>No</td>\n      <td>Steady</td>\n      <td>No</td>\n      <td>No</td>\n      <td>No</td>\n      <td>No</td>\n      <td>No</td>\n      <td>Ch</td>\n      <td>Yes</td>\n      <td>NO</td>\n    </tr>\n  </tbody>\n</table>\n<p>5 rows × 44 columns</p>\n</div>"
     },
     "execution_count": 111,
     "metadata": {},
     "output_type": "execute_result"
    }
   ],
   "source": [
    "df.head()"
   ],
   "metadata": {
    "collapsed": false,
    "ExecuteTime": {
     "end_time": "2024-01-02T16:48:29.769478Z",
     "start_time": "2024-01-02T16:48:29.767181Z"
    }
   },
   "id": "e369921ec8b01c8f",
   "execution_count": 111
  },
  {
   "cell_type": "code",
   "outputs": [
    {
     "data": {
      "text/plain": "96420"
     },
     "execution_count": 107,
     "metadata": {},
     "output_type": "execute_result"
    }
   ],
   "source": [
    "df[\"max_glu_serum\"].isna().sum()"
   ],
   "metadata": {
    "collapsed": false,
    "ExecuteTime": {
     "end_time": "2024-01-02T16:45:32.228555Z",
     "start_time": "2024-01-02T16:45:32.219923Z"
    }
   },
   "id": "96a0570888b9218",
   "execution_count": 107
  },
  {
   "cell_type": "code",
   "outputs": [
    {
     "data": {
      "text/plain": "           race  gender  admission_type_id  time_in_hospital  \\\nage                                                            \n[0-10)      161     161                161               161   \n[10-20)     691     691                691               691   \n[20-30)    1657    1657               1657              1657   \n[30-40)    3775    3775               3775              3775   \n[40-50)    9685    9685               9685              9685   \n[50-60)   17256   17256              17256             17256   \n[60-70)   22483   22483              22483             22483   \n[70-80)   26068   26068              26068             26068   \n[80-90)   17197   17197              17197             17197   \n[90-100)   2793    2793               2793              2793   \n\n          medical_specialty  num_lab_procedures  num_procedures  \\\nage                                                               \n[0-10)                  161                 161             161   \n[10-20)                 691                 691             691   \n[20-30)                1657                1657            1657   \n[30-40)                3775                3775            3775   \n[40-50)                9685                9685            9685   \n[50-60)               17256               17256           17256   \n[60-70)               22483               22483           22483   \n[70-80)               26068               26068           26068   \n[80-90)               17197               17197           17197   \n[90-100)               2793                2793            2793   \n\n          num_medications  number_outpatient  number_emergency  ...  \\\nage                                                             ...   \n[0-10)                161                161               161  ...   \n[10-20)               691                691               691  ...   \n[20-30)              1657               1657              1657  ...   \n[30-40)              3775               3775              3775  ...   \n[40-50)              9685               9685              9685  ...   \n[50-60)             17256              17256             17256  ...   \n[60-70)             22483              22483             22483  ...   \n[70-80)             26068              26068             26068  ...   \n[80-90)             17197              17197             17197  ...   \n[90-100)             2793               2793              2793  ...   \n\n          citoglipton  insulin  glyburide-metformin  glipizide-metformin  \\\nage                                                                        \n[0-10)            161      161                  161                  161   \n[10-20)           691      691                  691                  691   \n[20-30)          1657     1657                 1657                 1657   \n[30-40)          3775     3775                 3775                 3775   \n[40-50)          9685     9685                 9685                 9685   \n[50-60)         17256    17256                17256                17256   \n[60-70)         22483    22483                22483                22483   \n[70-80)         26068    26068                26068                26068   \n[80-90)         17197    17197                17197                17197   \n[90-100)         2793     2793                 2793                 2793   \n\n          glimepiride-pioglitazone  metformin-rosiglitazone  \\\nage                                                           \n[0-10)                         161                      161   \n[10-20)                        691                      691   \n[20-30)                       1657                     1657   \n[30-40)                       3775                     3775   \n[40-50)                       9685                     9685   \n[50-60)                      17256                    17256   \n[60-70)                      22483                    22483   \n[70-80)                      26068                    26068   \n[80-90)                      17197                    17197   \n[90-100)                      2793                     2793   \n\n          metformin-pioglitazone  change  diabetesMed  readmitted  \nage                                                                \n[0-10)                       161     161          161         161  \n[10-20)                      691     691          691         691  \n[20-30)                     1657    1657         1657        1657  \n[30-40)                     3775    3775         3775        3775  \n[40-50)                     9685    9685         9685        9685  \n[50-60)                    17256   17256        17256       17256  \n[60-70)                    22483   22483        22483       22483  \n[70-80)                    26068   26068        26068       26068  \n[80-90)                    17197   17197        17197       17197  \n[90-100)                    2793    2793         2793        2793  \n\n[10 rows x 43 columns]",
      "text/html": "<div>\n<style scoped>\n    .dataframe tbody tr th:only-of-type {\n        vertical-align: middle;\n    }\n\n    .dataframe tbody tr th {\n        vertical-align: top;\n    }\n\n    .dataframe thead th {\n        text-align: right;\n    }\n</style>\n<table border=\"1\" class=\"dataframe\">\n  <thead>\n    <tr style=\"text-align: right;\">\n      <th></th>\n      <th>race</th>\n      <th>gender</th>\n      <th>admission_type_id</th>\n      <th>time_in_hospital</th>\n      <th>medical_specialty</th>\n      <th>num_lab_procedures</th>\n      <th>num_procedures</th>\n      <th>num_medications</th>\n      <th>number_outpatient</th>\n      <th>number_emergency</th>\n      <th>...</th>\n      <th>citoglipton</th>\n      <th>insulin</th>\n      <th>glyburide-metformin</th>\n      <th>glipizide-metformin</th>\n      <th>glimepiride-pioglitazone</th>\n      <th>metformin-rosiglitazone</th>\n      <th>metformin-pioglitazone</th>\n      <th>change</th>\n      <th>diabetesMed</th>\n      <th>readmitted</th>\n    </tr>\n    <tr>\n      <th>age</th>\n      <th></th>\n      <th></th>\n      <th></th>\n      <th></th>\n      <th></th>\n      <th></th>\n      <th></th>\n      <th></th>\n      <th></th>\n      <th></th>\n      <th></th>\n      <th></th>\n      <th></th>\n      <th></th>\n      <th></th>\n      <th></th>\n      <th></th>\n      <th></th>\n      <th></th>\n      <th></th>\n      <th></th>\n    </tr>\n  </thead>\n  <tbody>\n    <tr>\n      <th>[0-10)</th>\n      <td>161</td>\n      <td>161</td>\n      <td>161</td>\n      <td>161</td>\n      <td>161</td>\n      <td>161</td>\n      <td>161</td>\n      <td>161</td>\n      <td>161</td>\n      <td>161</td>\n      <td>...</td>\n      <td>161</td>\n      <td>161</td>\n      <td>161</td>\n      <td>161</td>\n      <td>161</td>\n      <td>161</td>\n      <td>161</td>\n      <td>161</td>\n      <td>161</td>\n      <td>161</td>\n    </tr>\n    <tr>\n      <th>[10-20)</th>\n      <td>691</td>\n      <td>691</td>\n      <td>691</td>\n      <td>691</td>\n      <td>691</td>\n      <td>691</td>\n      <td>691</td>\n      <td>691</td>\n      <td>691</td>\n      <td>691</td>\n      <td>...</td>\n      <td>691</td>\n      <td>691</td>\n      <td>691</td>\n      <td>691</td>\n      <td>691</td>\n      <td>691</td>\n      <td>691</td>\n      <td>691</td>\n      <td>691</td>\n      <td>691</td>\n    </tr>\n    <tr>\n      <th>[20-30)</th>\n      <td>1657</td>\n      <td>1657</td>\n      <td>1657</td>\n      <td>1657</td>\n      <td>1657</td>\n      <td>1657</td>\n      <td>1657</td>\n      <td>1657</td>\n      <td>1657</td>\n      <td>1657</td>\n      <td>...</td>\n      <td>1657</td>\n      <td>1657</td>\n      <td>1657</td>\n      <td>1657</td>\n      <td>1657</td>\n      <td>1657</td>\n      <td>1657</td>\n      <td>1657</td>\n      <td>1657</td>\n      <td>1657</td>\n    </tr>\n    <tr>\n      <th>[30-40)</th>\n      <td>3775</td>\n      <td>3775</td>\n      <td>3775</td>\n      <td>3775</td>\n      <td>3775</td>\n      <td>3775</td>\n      <td>3775</td>\n      <td>3775</td>\n      <td>3775</td>\n      <td>3775</td>\n      <td>...</td>\n      <td>3775</td>\n      <td>3775</td>\n      <td>3775</td>\n      <td>3775</td>\n      <td>3775</td>\n      <td>3775</td>\n      <td>3775</td>\n      <td>3775</td>\n      <td>3775</td>\n      <td>3775</td>\n    </tr>\n    <tr>\n      <th>[40-50)</th>\n      <td>9685</td>\n      <td>9685</td>\n      <td>9685</td>\n      <td>9685</td>\n      <td>9685</td>\n      <td>9685</td>\n      <td>9685</td>\n      <td>9685</td>\n      <td>9685</td>\n      <td>9685</td>\n      <td>...</td>\n      <td>9685</td>\n      <td>9685</td>\n      <td>9685</td>\n      <td>9685</td>\n      <td>9685</td>\n      <td>9685</td>\n      <td>9685</td>\n      <td>9685</td>\n      <td>9685</td>\n      <td>9685</td>\n    </tr>\n    <tr>\n      <th>[50-60)</th>\n      <td>17256</td>\n      <td>17256</td>\n      <td>17256</td>\n      <td>17256</td>\n      <td>17256</td>\n      <td>17256</td>\n      <td>17256</td>\n      <td>17256</td>\n      <td>17256</td>\n      <td>17256</td>\n      <td>...</td>\n      <td>17256</td>\n      <td>17256</td>\n      <td>17256</td>\n      <td>17256</td>\n      <td>17256</td>\n      <td>17256</td>\n      <td>17256</td>\n      <td>17256</td>\n      <td>17256</td>\n      <td>17256</td>\n    </tr>\n    <tr>\n      <th>[60-70)</th>\n      <td>22483</td>\n      <td>22483</td>\n      <td>22483</td>\n      <td>22483</td>\n      <td>22483</td>\n      <td>22483</td>\n      <td>22483</td>\n      <td>22483</td>\n      <td>22483</td>\n      <td>22483</td>\n      <td>...</td>\n      <td>22483</td>\n      <td>22483</td>\n      <td>22483</td>\n      <td>22483</td>\n      <td>22483</td>\n      <td>22483</td>\n      <td>22483</td>\n      <td>22483</td>\n      <td>22483</td>\n      <td>22483</td>\n    </tr>\n    <tr>\n      <th>[70-80)</th>\n      <td>26068</td>\n      <td>26068</td>\n      <td>26068</td>\n      <td>26068</td>\n      <td>26068</td>\n      <td>26068</td>\n      <td>26068</td>\n      <td>26068</td>\n      <td>26068</td>\n      <td>26068</td>\n      <td>...</td>\n      <td>26068</td>\n      <td>26068</td>\n      <td>26068</td>\n      <td>26068</td>\n      <td>26068</td>\n      <td>26068</td>\n      <td>26068</td>\n      <td>26068</td>\n      <td>26068</td>\n      <td>26068</td>\n    </tr>\n    <tr>\n      <th>[80-90)</th>\n      <td>17197</td>\n      <td>17197</td>\n      <td>17197</td>\n      <td>17197</td>\n      <td>17197</td>\n      <td>17197</td>\n      <td>17197</td>\n      <td>17197</td>\n      <td>17197</td>\n      <td>17197</td>\n      <td>...</td>\n      <td>17197</td>\n      <td>17197</td>\n      <td>17197</td>\n      <td>17197</td>\n      <td>17197</td>\n      <td>17197</td>\n      <td>17197</td>\n      <td>17197</td>\n      <td>17197</td>\n      <td>17197</td>\n    </tr>\n    <tr>\n      <th>[90-100)</th>\n      <td>2793</td>\n      <td>2793</td>\n      <td>2793</td>\n      <td>2793</td>\n      <td>2793</td>\n      <td>2793</td>\n      <td>2793</td>\n      <td>2793</td>\n      <td>2793</td>\n      <td>2793</td>\n      <td>...</td>\n      <td>2793</td>\n      <td>2793</td>\n      <td>2793</td>\n      <td>2793</td>\n      <td>2793</td>\n      <td>2793</td>\n      <td>2793</td>\n      <td>2793</td>\n      <td>2793</td>\n      <td>2793</td>\n    </tr>\n  </tbody>\n</table>\n<p>10 rows × 43 columns</p>\n</div>"
     },
     "execution_count": 112,
     "metadata": {},
     "output_type": "execute_result"
    }
   ],
   "source": [
    "df.groupby(\"age\").count()"
   ],
   "metadata": {
    "collapsed": false,
    "ExecuteTime": {
     "end_time": "2024-01-02T16:48:41.036348Z",
     "start_time": "2024-01-02T16:48:40.975650Z"
    }
   },
   "id": "394b73d7c2ec8e7e",
   "execution_count": 112
  },
  {
   "cell_type": "code",
   "outputs": [],
   "source": [
    "df.to_csv(\"dataset/Diabetes/diabetic_data_final.csv\", index=False)"
   ],
   "metadata": {
    "collapsed": false,
    "ExecuteTime": {
     "end_time": "2024-01-02T16:49:50.548130Z",
     "start_time": "2024-01-02T16:49:50.291476Z"
    }
   },
   "id": "9812219118d9af9",
   "execution_count": 113
  },
  {
   "cell_type": "markdown",
   "source": [
    "## Sensor"
   ],
   "metadata": {
    "collapsed": false
   },
   "id": "aeb6a0a5277bc0f1"
  },
  {
   "cell_type": "code",
   "outputs": [],
   "source": [
    "df = pd.read_csv(\"dataset/EnvironmentalSensorTelemetry/iot_telemetry_data.csv\")"
   ],
   "metadata": {
    "collapsed": false,
    "ExecuteTime": {
     "end_time": "2024-01-02T19:09:44.764332Z",
     "start_time": "2024-01-02T19:09:44.527125Z"
    }
   },
   "id": "7a164ee3b25275be",
   "execution_count": 114
  },
  {
   "cell_type": "code",
   "outputs": [
    {
     "data": {
      "text/plain": "(405184, 9)"
     },
     "execution_count": 115,
     "metadata": {},
     "output_type": "execute_result"
    }
   ],
   "source": [
    "df.shape"
   ],
   "metadata": {
    "collapsed": false,
    "ExecuteTime": {
     "end_time": "2024-01-02T19:09:47.313Z",
     "start_time": "2024-01-02T19:09:47.308897Z"
    }
   },
   "id": "3124cf6e6b234f17",
   "execution_count": 115
  },
  {
   "cell_type": "code",
   "outputs": [
    {
     "data": {
      "text/plain": "             ts             device        co   humidity  light       lpg  \\\n0  1.594512e+09  b8:27:eb:bf:9d:51  0.004956  51.000000  False  0.007651   \n1  1.594512e+09  00:0f:00:70:91:0a  0.002840  76.000000  False  0.005114   \n2  1.594512e+09  b8:27:eb:bf:9d:51  0.004976  50.900000  False  0.007673   \n3  1.594512e+09  1c:bf:ce:15:ec:4d  0.004403  76.800003   True  0.007023   \n4  1.594512e+09  b8:27:eb:bf:9d:51  0.004967  50.900000  False  0.007664   \n\n   motion     smoke       temp  \n0   False  0.020411  22.700000  \n1   False  0.013275  19.700001  \n2   False  0.020475  22.600000  \n3   False  0.018628  27.000000  \n4   False  0.020448  22.600000  ",
      "text/html": "<div>\n<style scoped>\n    .dataframe tbody tr th:only-of-type {\n        vertical-align: middle;\n    }\n\n    .dataframe tbody tr th {\n        vertical-align: top;\n    }\n\n    .dataframe thead th {\n        text-align: right;\n    }\n</style>\n<table border=\"1\" class=\"dataframe\">\n  <thead>\n    <tr style=\"text-align: right;\">\n      <th></th>\n      <th>ts</th>\n      <th>device</th>\n      <th>co</th>\n      <th>humidity</th>\n      <th>light</th>\n      <th>lpg</th>\n      <th>motion</th>\n      <th>smoke</th>\n      <th>temp</th>\n    </tr>\n  </thead>\n  <tbody>\n    <tr>\n      <th>0</th>\n      <td>1.594512e+09</td>\n      <td>b8:27:eb:bf:9d:51</td>\n      <td>0.004956</td>\n      <td>51.000000</td>\n      <td>False</td>\n      <td>0.007651</td>\n      <td>False</td>\n      <td>0.020411</td>\n      <td>22.700000</td>\n    </tr>\n    <tr>\n      <th>1</th>\n      <td>1.594512e+09</td>\n      <td>00:0f:00:70:91:0a</td>\n      <td>0.002840</td>\n      <td>76.000000</td>\n      <td>False</td>\n      <td>0.005114</td>\n      <td>False</td>\n      <td>0.013275</td>\n      <td>19.700001</td>\n    </tr>\n    <tr>\n      <th>2</th>\n      <td>1.594512e+09</td>\n      <td>b8:27:eb:bf:9d:51</td>\n      <td>0.004976</td>\n      <td>50.900000</td>\n      <td>False</td>\n      <td>0.007673</td>\n      <td>False</td>\n      <td>0.020475</td>\n      <td>22.600000</td>\n    </tr>\n    <tr>\n      <th>3</th>\n      <td>1.594512e+09</td>\n      <td>1c:bf:ce:15:ec:4d</td>\n      <td>0.004403</td>\n      <td>76.800003</td>\n      <td>True</td>\n      <td>0.007023</td>\n      <td>False</td>\n      <td>0.018628</td>\n      <td>27.000000</td>\n    </tr>\n    <tr>\n      <th>4</th>\n      <td>1.594512e+09</td>\n      <td>b8:27:eb:bf:9d:51</td>\n      <td>0.004967</td>\n      <td>50.900000</td>\n      <td>False</td>\n      <td>0.007664</td>\n      <td>False</td>\n      <td>0.020448</td>\n      <td>22.600000</td>\n    </tr>\n  </tbody>\n</table>\n</div>"
     },
     "execution_count": 116,
     "metadata": {},
     "output_type": "execute_result"
    }
   ],
   "source": [
    "df.head()"
   ],
   "metadata": {
    "collapsed": false,
    "ExecuteTime": {
     "end_time": "2024-01-02T19:09:51.724348Z",
     "start_time": "2024-01-02T19:09:51.719518Z"
    }
   },
   "id": "85a9cfd4e85db38d",
   "execution_count": 116
  },
  {
   "cell_type": "code",
   "outputs": [
    {
     "data": {
      "text/plain": "                       ts      co  humidity   light     lpg  motion   smoke  \\\ndevice                                                                        \n00:0f:00:70:91:0a  111815  111815    111815  111815  111815  111815  111815   \n1c:bf:ce:15:ec:4d  105918  105918    105918  105918  105918  105918  105918   \nb8:27:eb:bf:9d:51  187451  187451    187451  187451  187451  187451  187451   \n\n                     temp  \ndevice                     \n00:0f:00:70:91:0a  111815  \n1c:bf:ce:15:ec:4d  105918  \nb8:27:eb:bf:9d:51  187451  ",
      "text/html": "<div>\n<style scoped>\n    .dataframe tbody tr th:only-of-type {\n        vertical-align: middle;\n    }\n\n    .dataframe tbody tr th {\n        vertical-align: top;\n    }\n\n    .dataframe thead th {\n        text-align: right;\n    }\n</style>\n<table border=\"1\" class=\"dataframe\">\n  <thead>\n    <tr style=\"text-align: right;\">\n      <th></th>\n      <th>ts</th>\n      <th>co</th>\n      <th>humidity</th>\n      <th>light</th>\n      <th>lpg</th>\n      <th>motion</th>\n      <th>smoke</th>\n      <th>temp</th>\n    </tr>\n    <tr>\n      <th>device</th>\n      <th></th>\n      <th></th>\n      <th></th>\n      <th></th>\n      <th></th>\n      <th></th>\n      <th></th>\n      <th></th>\n    </tr>\n  </thead>\n  <tbody>\n    <tr>\n      <th>00:0f:00:70:91:0a</th>\n      <td>111815</td>\n      <td>111815</td>\n      <td>111815</td>\n      <td>111815</td>\n      <td>111815</td>\n      <td>111815</td>\n      <td>111815</td>\n      <td>111815</td>\n    </tr>\n    <tr>\n      <th>1c:bf:ce:15:ec:4d</th>\n      <td>105918</td>\n      <td>105918</td>\n      <td>105918</td>\n      <td>105918</td>\n      <td>105918</td>\n      <td>105918</td>\n      <td>105918</td>\n      <td>105918</td>\n    </tr>\n    <tr>\n      <th>b8:27:eb:bf:9d:51</th>\n      <td>187451</td>\n      <td>187451</td>\n      <td>187451</td>\n      <td>187451</td>\n      <td>187451</td>\n      <td>187451</td>\n      <td>187451</td>\n      <td>187451</td>\n    </tr>\n  </tbody>\n</table>\n</div>"
     },
     "execution_count": 117,
     "metadata": {},
     "output_type": "execute_result"
    }
   ],
   "source": [
    "df.groupby(\"device\").count()"
   ],
   "metadata": {
    "collapsed": false,
    "ExecuteTime": {
     "end_time": "2024-01-02T19:11:37.380658Z",
     "start_time": "2024-01-02T19:11:37.365814Z"
    }
   },
   "id": "f5e3cea396de5d97",
   "execution_count": 117
  },
  {
   "cell_type": "markdown",
   "source": [
    "## Geolocation"
   ],
   "metadata": {
    "collapsed": false
   },
   "id": "85818664f83b25fb"
  },
  {
   "cell_type": "code",
   "outputs": [],
   "source": [
    "df = pd.read_csv(\"Dataset/GeolocationData/cities.csv\")"
   ],
   "metadata": {
    "collapsed": false,
    "ExecuteTime": {
     "end_time": "2024-01-02T19:22:37.763151Z",
     "start_time": "2024-01-02T19:22:37.640247Z"
    }
   },
   "id": "6138ec7b9e944de8",
   "execution_count": 128
  },
  {
   "cell_type": "code",
   "outputs": [
    {
     "data": {
      "text/plain": "(148061, 11)"
     },
     "execution_count": 129,
     "metadata": {},
     "output_type": "execute_result"
    }
   ],
   "source": [
    "df.shape"
   ],
   "metadata": {
    "collapsed": false,
    "ExecuteTime": {
     "end_time": "2024-01-02T19:22:42.818266Z",
     "start_time": "2024-01-02T19:22:42.812500Z"
    }
   },
   "id": "95e4e230fa9e31ec",
   "execution_count": 129
  },
  {
   "cell_type": "code",
   "outputs": [
    {
     "data": {
      "text/plain": "        name state_code  state_name country_code country_name  latitude  \\\n0  Ashkāsham        BDS  Badakhshan           AF  Afghanistan  36.68333   \n1   Fayzabad        BDS  Badakhshan           AF  Afghanistan  37.11664   \n2       Jurm        BDS  Badakhshan           AF  Afghanistan  36.86477   \n3    Khandūd        BDS  Badakhshan           AF  Afghanistan  36.95127   \n4  Rāghistān        BDS  Badakhshan           AF  Afghanistan  37.66079   \n\n   longitude  \n0   71.53333  \n1   70.58002  \n2   70.83421  \n3   72.31800  \n4   70.67346  ",
      "text/html": "<div>\n<style scoped>\n    .dataframe tbody tr th:only-of-type {\n        vertical-align: middle;\n    }\n\n    .dataframe tbody tr th {\n        vertical-align: top;\n    }\n\n    .dataframe thead th {\n        text-align: right;\n    }\n</style>\n<table border=\"1\" class=\"dataframe\">\n  <thead>\n    <tr style=\"text-align: right;\">\n      <th></th>\n      <th>name</th>\n      <th>state_code</th>\n      <th>state_name</th>\n      <th>country_code</th>\n      <th>country_name</th>\n      <th>latitude</th>\n      <th>longitude</th>\n    </tr>\n  </thead>\n  <tbody>\n    <tr>\n      <th>0</th>\n      <td>Ashkāsham</td>\n      <td>BDS</td>\n      <td>Badakhshan</td>\n      <td>AF</td>\n      <td>Afghanistan</td>\n      <td>36.68333</td>\n      <td>71.53333</td>\n    </tr>\n    <tr>\n      <th>1</th>\n      <td>Fayzabad</td>\n      <td>BDS</td>\n      <td>Badakhshan</td>\n      <td>AF</td>\n      <td>Afghanistan</td>\n      <td>37.11664</td>\n      <td>70.58002</td>\n    </tr>\n    <tr>\n      <th>2</th>\n      <td>Jurm</td>\n      <td>BDS</td>\n      <td>Badakhshan</td>\n      <td>AF</td>\n      <td>Afghanistan</td>\n      <td>36.86477</td>\n      <td>70.83421</td>\n    </tr>\n    <tr>\n      <th>3</th>\n      <td>Khandūd</td>\n      <td>BDS</td>\n      <td>Badakhshan</td>\n      <td>AF</td>\n      <td>Afghanistan</td>\n      <td>36.95127</td>\n      <td>72.31800</td>\n    </tr>\n    <tr>\n      <th>4</th>\n      <td>Rāghistān</td>\n      <td>BDS</td>\n      <td>Badakhshan</td>\n      <td>AF</td>\n      <td>Afghanistan</td>\n      <td>37.66079</td>\n      <td>70.67346</td>\n    </tr>\n  </tbody>\n</table>\n</div>"
     },
     "execution_count": 132,
     "metadata": {},
     "output_type": "execute_result"
    }
   ],
   "source": [
    "df.head()"
   ],
   "metadata": {
    "collapsed": false,
    "ExecuteTime": {
     "end_time": "2024-01-02T19:23:29.902363Z",
     "start_time": "2024-01-02T19:23:29.892330Z"
    }
   },
   "id": "b94c7ef6087fdfb5",
   "execution_count": 132
  },
  {
   "cell_type": "code",
   "outputs": [],
   "source": [
    "df.drop(columns=[\"wikiDataId\", \"country_id\", \"state_id\",\"id\"] , inplace=True)"
   ],
   "metadata": {
    "collapsed": false,
    "ExecuteTime": {
     "end_time": "2024-01-02T19:22:54.885368Z",
     "start_time": "2024-01-02T19:22:54.878506Z"
    }
   },
   "id": "6e5ca1657cfc2de3",
   "execution_count": 131
  },
  {
   "cell_type": "code",
   "outputs": [],
   "source": [
    "df.to_csv(\"dataset/GeolocationData/final.csv\", index=False)"
   ],
   "metadata": {
    "collapsed": false,
    "ExecuteTime": {
     "end_time": "2024-01-02T19:23:47.213931Z",
     "start_time": "2024-01-02T19:23:47.039756Z"
    }
   },
   "id": "4f4167c95653c501",
   "execution_count": 133
  },
  {
   "cell_type": "markdown",
   "source": [
    "## HAR70"
   ],
   "metadata": {
    "collapsed": false
   },
   "id": "f75ab05fa7f1175c"
  },
  {
   "cell_type": "code",
   "outputs": [],
   "source": [
    "data = [] \n",
    "for i in range(17):\n",
    "    df1 = pd.read_csv(f\"dataset/HAR70/har70plus/{str(501+i)}.csv\")\n",
    "    cols = df.columns\n",
    "    data.append(df1)\n",
    "    \n",
    "df = pd.concat(data, ignore_index=True)\n",
    "    "
   ],
   "metadata": {
    "collapsed": false,
    "ExecuteTime": {
     "end_time": "2024-01-02T20:11:32.052777Z",
     "start_time": "2024-01-02T20:11:30.895486Z"
    }
   },
   "id": "ff17021d1d4e4b69",
   "execution_count": 138
  },
  {
   "cell_type": "code",
   "outputs": [
    {
     "data": {
      "text/plain": "(2117883, 8)"
     },
     "execution_count": 139,
     "metadata": {},
     "output_type": "execute_result"
    }
   ],
   "source": [
    "df.shape"
   ],
   "metadata": {
    "collapsed": false,
    "ExecuteTime": {
     "end_time": "2024-01-02T20:11:33.138556Z",
     "start_time": "2024-01-02T20:11:33.134558Z"
    }
   },
   "id": "4054bc7e5307458e",
   "execution_count": 139
  },
  {
   "cell_type": "code",
   "outputs": [
    {
     "data": {
      "text/plain": "                 timestamp    back_x    back_y    back_z   thigh_x   thigh_y  \\\n0  2021-03-24 14:42:03.839 -0.999023 -0.063477  0.140625 -0.980469 -0.112061   \n1  2021-03-24 14:42:03.859 -0.980225 -0.079346  0.140625 -0.961182 -0.121582   \n2  2021-03-24 14:42:03.880 -0.950195 -0.076416  0.140625 -0.949463 -0.080566   \n3  2021-03-24 14:42:03.900 -0.954834 -0.059082  0.140381 -0.957520 -0.046143   \n4  2021-03-24 14:42:03.920 -0.972412 -0.042969  0.142822 -0.977051 -0.023682   \n\n    thigh_z  label  \n0 -0.048096      6  \n1 -0.051758      6  \n2 -0.067139      6  \n3 -0.050781      6  \n4 -0.026611      6  ",
      "text/html": "<div>\n<style scoped>\n    .dataframe tbody tr th:only-of-type {\n        vertical-align: middle;\n    }\n\n    .dataframe tbody tr th {\n        vertical-align: top;\n    }\n\n    .dataframe thead th {\n        text-align: right;\n    }\n</style>\n<table border=\"1\" class=\"dataframe\">\n  <thead>\n    <tr style=\"text-align: right;\">\n      <th></th>\n      <th>timestamp</th>\n      <th>back_x</th>\n      <th>back_y</th>\n      <th>back_z</th>\n      <th>thigh_x</th>\n      <th>thigh_y</th>\n      <th>thigh_z</th>\n      <th>label</th>\n    </tr>\n  </thead>\n  <tbody>\n    <tr>\n      <th>0</th>\n      <td>2021-03-24 14:42:03.839</td>\n      <td>-0.999023</td>\n      <td>-0.063477</td>\n      <td>0.140625</td>\n      <td>-0.980469</td>\n      <td>-0.112061</td>\n      <td>-0.048096</td>\n      <td>6</td>\n    </tr>\n    <tr>\n      <th>1</th>\n      <td>2021-03-24 14:42:03.859</td>\n      <td>-0.980225</td>\n      <td>-0.079346</td>\n      <td>0.140625</td>\n      <td>-0.961182</td>\n      <td>-0.121582</td>\n      <td>-0.051758</td>\n      <td>6</td>\n    </tr>\n    <tr>\n      <th>2</th>\n      <td>2021-03-24 14:42:03.880</td>\n      <td>-0.950195</td>\n      <td>-0.076416</td>\n      <td>0.140625</td>\n      <td>-0.949463</td>\n      <td>-0.080566</td>\n      <td>-0.067139</td>\n      <td>6</td>\n    </tr>\n    <tr>\n      <th>3</th>\n      <td>2021-03-24 14:42:03.900</td>\n      <td>-0.954834</td>\n      <td>-0.059082</td>\n      <td>0.140381</td>\n      <td>-0.957520</td>\n      <td>-0.046143</td>\n      <td>-0.050781</td>\n      <td>6</td>\n    </tr>\n    <tr>\n      <th>4</th>\n      <td>2021-03-24 14:42:03.920</td>\n      <td>-0.972412</td>\n      <td>-0.042969</td>\n      <td>0.142822</td>\n      <td>-0.977051</td>\n      <td>-0.023682</td>\n      <td>-0.026611</td>\n      <td>6</td>\n    </tr>\n  </tbody>\n</table>\n</div>"
     },
     "execution_count": 140,
     "metadata": {},
     "output_type": "execute_result"
    }
   ],
   "source": [
    "df.head()"
   ],
   "metadata": {
    "collapsed": false,
    "ExecuteTime": {
     "end_time": "2024-01-02T20:11:33.919049Z",
     "start_time": "2024-01-02T20:11:33.916718Z"
    }
   },
   "id": "861bc64b0e5782ef",
   "execution_count": 140
  },
  {
   "cell_type": "code",
   "outputs": [],
   "source": [
    "df.to_csv(\"dataset/HAR70/final.csv\", index=False)"
   ],
   "metadata": {
    "collapsed": false,
    "ExecuteTime": {
     "end_time": "2024-01-02T20:12:51.863746Z",
     "start_time": "2024-01-02T20:12:46.972509Z"
    }
   },
   "id": "fcaf042bff130192",
   "execution_count": 141
  },
  {
   "cell_type": "markdown",
   "source": [
    "## Power"
   ],
   "metadata": {
    "collapsed": false
   },
   "id": "891e2e735bcdf064"
  },
  {
   "cell_type": "code",
   "outputs": [],
   "source": [
    "df = pd.read_csv(\"dataset/HouseholdPowerConsumption/household_power_consumption.csv\", encoding=\"utf-8\", sep=\";\", low_memory=False)"
   ],
   "metadata": {
    "collapsed": false,
    "ExecuteTime": {
     "end_time": "2024-01-02T20:21:12.433530Z",
     "start_time": "2024-01-02T20:21:11.576735Z"
    }
   },
   "id": "94db0534d0e6bae8",
   "execution_count": 147
  },
  {
   "cell_type": "code",
   "outputs": [
    {
     "data": {
      "text/plain": "(2075259, 9)"
     },
     "execution_count": 148,
     "metadata": {},
     "output_type": "execute_result"
    }
   ],
   "source": [
    "df.shape"
   ],
   "metadata": {
    "collapsed": false,
    "ExecuteTime": {
     "end_time": "2024-01-02T20:21:13.417874Z",
     "start_time": "2024-01-02T20:21:13.414149Z"
    }
   },
   "id": "2f370d486c6cc1bb",
   "execution_count": 148
  },
  {
   "cell_type": "code",
   "outputs": [
    {
     "data": {
      "text/plain": "         Date      Time Global_active_power Global_reactive_power  Voltage  \\\n0  16/12/2006  17:24:00               4.216                 0.418  234.840   \n1  16/12/2006  17:25:00               5.360                 0.436  233.630   \n2  16/12/2006  17:26:00               5.374                 0.498  233.290   \n3  16/12/2006  17:27:00               5.388                 0.502  233.740   \n4  16/12/2006  17:28:00               3.666                 0.528  235.680   \n\n  Global_intensity Sub_metering_1 Sub_metering_2  Sub_metering_3  \n0           18.400          0.000          1.000            17.0  \n1           23.000          0.000          1.000            16.0  \n2           23.000          0.000          2.000            17.0  \n3           23.000          0.000          1.000            17.0  \n4           15.800          0.000          1.000            17.0  ",
      "text/html": "<div>\n<style scoped>\n    .dataframe tbody tr th:only-of-type {\n        vertical-align: middle;\n    }\n\n    .dataframe tbody tr th {\n        vertical-align: top;\n    }\n\n    .dataframe thead th {\n        text-align: right;\n    }\n</style>\n<table border=\"1\" class=\"dataframe\">\n  <thead>\n    <tr style=\"text-align: right;\">\n      <th></th>\n      <th>Date</th>\n      <th>Time</th>\n      <th>Global_active_power</th>\n      <th>Global_reactive_power</th>\n      <th>Voltage</th>\n      <th>Global_intensity</th>\n      <th>Sub_metering_1</th>\n      <th>Sub_metering_2</th>\n      <th>Sub_metering_3</th>\n    </tr>\n  </thead>\n  <tbody>\n    <tr>\n      <th>0</th>\n      <td>16/12/2006</td>\n      <td>17:24:00</td>\n      <td>4.216</td>\n      <td>0.418</td>\n      <td>234.840</td>\n      <td>18.400</td>\n      <td>0.000</td>\n      <td>1.000</td>\n      <td>17.0</td>\n    </tr>\n    <tr>\n      <th>1</th>\n      <td>16/12/2006</td>\n      <td>17:25:00</td>\n      <td>5.360</td>\n      <td>0.436</td>\n      <td>233.630</td>\n      <td>23.000</td>\n      <td>0.000</td>\n      <td>1.000</td>\n      <td>16.0</td>\n    </tr>\n    <tr>\n      <th>2</th>\n      <td>16/12/2006</td>\n      <td>17:26:00</td>\n      <td>5.374</td>\n      <td>0.498</td>\n      <td>233.290</td>\n      <td>23.000</td>\n      <td>0.000</td>\n      <td>2.000</td>\n      <td>17.0</td>\n    </tr>\n    <tr>\n      <th>3</th>\n      <td>16/12/2006</td>\n      <td>17:27:00</td>\n      <td>5.388</td>\n      <td>0.502</td>\n      <td>233.740</td>\n      <td>23.000</td>\n      <td>0.000</td>\n      <td>1.000</td>\n      <td>17.0</td>\n    </tr>\n    <tr>\n      <th>4</th>\n      <td>16/12/2006</td>\n      <td>17:28:00</td>\n      <td>3.666</td>\n      <td>0.528</td>\n      <td>235.680</td>\n      <td>15.800</td>\n      <td>0.000</td>\n      <td>1.000</td>\n      <td>17.0</td>\n    </tr>\n  </tbody>\n</table>\n</div>"
     },
     "execution_count": 149,
     "metadata": {},
     "output_type": "execute_result"
    }
   ],
   "source": [
    "df.head()"
   ],
   "metadata": {
    "collapsed": false,
    "ExecuteTime": {
     "end_time": "2024-01-02T20:21:14.597527Z",
     "start_time": "2024-01-02T20:21:14.591422Z"
    }
   },
   "id": "58e2ffba54171718",
   "execution_count": 149
  },
  {
   "cell_type": "code",
   "outputs": [],
   "source": [
    "df.to_csv(\"dataset/HouseholdPowerConsumption/household_power_consumption_final.csv\", index=False)"
   ],
   "metadata": {
    "collapsed": false,
    "ExecuteTime": {
     "end_time": "2024-01-02T20:22:22.327600Z",
     "start_time": "2024-01-02T20:22:20.211450Z"
    }
   },
   "id": "fda87d6942c0588e",
   "execution_count": 150
  },
  {
   "cell_type": "markdown",
   "source": [
    "## Metro"
   ],
   "metadata": {
    "collapsed": false
   },
   "id": "b80f48f7d9887438"
  },
  {
   "cell_type": "code",
   "outputs": [],
   "source": [
    "df = pd.read_csv(\"dataset/MetroInterstateTraffic/Metro_Interstate_Traffic_Volume.csv\")"
   ],
   "metadata": {
    "collapsed": false,
    "ExecuteTime": {
     "end_time": "2024-01-02T20:24:30.125134Z",
     "start_time": "2024-01-02T20:24:30.095356Z"
    }
   },
   "id": "18484426b649ee6",
   "execution_count": 151
  },
  {
   "cell_type": "code",
   "outputs": [],
   "source": [
    "df[\"holiday\"].fillna(\"Nothing\", inplace=True)"
   ],
   "metadata": {
    "collapsed": false,
    "ExecuteTime": {
     "end_time": "2024-01-02T20:42:10.761052Z",
     "start_time": "2024-01-02T20:42:10.753945Z"
    }
   },
   "id": "627d095e20b93f7",
   "execution_count": 156
  },
  {
   "cell_type": "code",
   "outputs": [
    {
     "data": {
      "text/plain": "(48204, 9)"
     },
     "execution_count": 152,
     "metadata": {},
     "output_type": "execute_result"
    }
   ],
   "source": [
    "df.shape"
   ],
   "metadata": {
    "collapsed": false,
    "ExecuteTime": {
     "end_time": "2024-01-02T20:24:32.911063Z",
     "start_time": "2024-01-02T20:24:32.905147Z"
    }
   },
   "id": "bc4f856f17c02705",
   "execution_count": 152
  },
  {
   "cell_type": "code",
   "outputs": [
    {
     "data": {
      "text/plain": "   holiday    temp  rain_1h  snow_1h  clouds_all weather_main  \\\n0  Nothing  288.28      0.0      0.0          40       Clouds   \n1  Nothing  289.36      0.0      0.0          75       Clouds   \n2  Nothing  289.58      0.0      0.0          90       Clouds   \n3  Nothing  290.13      0.0      0.0          90       Clouds   \n4  Nothing  291.14      0.0      0.0          75       Clouds   \n\n  weather_description            date_time  traffic_volume  \n0    scattered clouds  2012-10-02 09:00:00            5545  \n1       broken clouds  2012-10-02 10:00:00            4516  \n2     overcast clouds  2012-10-02 11:00:00            4767  \n3     overcast clouds  2012-10-02 12:00:00            5026  \n4       broken clouds  2012-10-02 13:00:00            4918  ",
      "text/html": "<div>\n<style scoped>\n    .dataframe tbody tr th:only-of-type {\n        vertical-align: middle;\n    }\n\n    .dataframe tbody tr th {\n        vertical-align: top;\n    }\n\n    .dataframe thead th {\n        text-align: right;\n    }\n</style>\n<table border=\"1\" class=\"dataframe\">\n  <thead>\n    <tr style=\"text-align: right;\">\n      <th></th>\n      <th>holiday</th>\n      <th>temp</th>\n      <th>rain_1h</th>\n      <th>snow_1h</th>\n      <th>clouds_all</th>\n      <th>weather_main</th>\n      <th>weather_description</th>\n      <th>date_time</th>\n      <th>traffic_volume</th>\n    </tr>\n  </thead>\n  <tbody>\n    <tr>\n      <th>0</th>\n      <td>Nothing</td>\n      <td>288.28</td>\n      <td>0.0</td>\n      <td>0.0</td>\n      <td>40</td>\n      <td>Clouds</td>\n      <td>scattered clouds</td>\n      <td>2012-10-02 09:00:00</td>\n      <td>5545</td>\n    </tr>\n    <tr>\n      <th>1</th>\n      <td>Nothing</td>\n      <td>289.36</td>\n      <td>0.0</td>\n      <td>0.0</td>\n      <td>75</td>\n      <td>Clouds</td>\n      <td>broken clouds</td>\n      <td>2012-10-02 10:00:00</td>\n      <td>4516</td>\n    </tr>\n    <tr>\n      <th>2</th>\n      <td>Nothing</td>\n      <td>289.58</td>\n      <td>0.0</td>\n      <td>0.0</td>\n      <td>90</td>\n      <td>Clouds</td>\n      <td>overcast clouds</td>\n      <td>2012-10-02 11:00:00</td>\n      <td>4767</td>\n    </tr>\n    <tr>\n      <th>3</th>\n      <td>Nothing</td>\n      <td>290.13</td>\n      <td>0.0</td>\n      <td>0.0</td>\n      <td>90</td>\n      <td>Clouds</td>\n      <td>overcast clouds</td>\n      <td>2012-10-02 12:00:00</td>\n      <td>5026</td>\n    </tr>\n    <tr>\n      <th>4</th>\n      <td>Nothing</td>\n      <td>291.14</td>\n      <td>0.0</td>\n      <td>0.0</td>\n      <td>75</td>\n      <td>Clouds</td>\n      <td>broken clouds</td>\n      <td>2012-10-02 13:00:00</td>\n      <td>4918</td>\n    </tr>\n  </tbody>\n</table>\n</div>"
     },
     "execution_count": 158,
     "metadata": {},
     "output_type": "execute_result"
    }
   ],
   "source": [
    "df.head()"
   ],
   "metadata": {
    "collapsed": false,
    "ExecuteTime": {
     "end_time": "2024-01-02T20:42:21.885043Z",
     "start_time": "2024-01-02T20:42:21.880393Z"
    }
   },
   "id": "a9889e5575048f3",
   "execution_count": 158
  },
  {
   "cell_type": "code",
   "outputs": [
    {
     "data": {
      "text/plain": "                            temp  rain_1h  snow_1h  clouds_all  weather_main  \\\nholiday                                                                        \nChristmas Day                  6        6        6           6             6   \nColumbus Day                   5        5        5           5             5   \nIndependence Day               5        5        5           5             5   \nLabor Day                      7        7        7           7             7   \nMartin Luther King Jr Day      6        6        6           6             6   \nMemorial Day                   5        5        5           5             5   \nNew Years Day                  6        6        6           6             6   \nNothing                    48143    48143    48143       48143         48143   \nState Fair                     5        5        5           5             5   \nThanksgiving Day               6        6        6           6             6   \nVeterans Day                   5        5        5           5             5   \nWashingtons Birthday           5        5        5           5             5   \n\n                           weather_description  date_time  traffic_volume  \nholiday                                                                    \nChristmas Day                                6          6               6  \nColumbus Day                                 5          5               5  \nIndependence Day                             5          5               5  \nLabor Day                                    7          7               7  \nMartin Luther King Jr Day                    6          6               6  \nMemorial Day                                 5          5               5  \nNew Years Day                                6          6               6  \nNothing                                  48143      48143           48143  \nState Fair                                   5          5               5  \nThanksgiving Day                             6          6               6  \nVeterans Day                                 5          5               5  \nWashingtons Birthday                         5          5               5  ",
      "text/html": "<div>\n<style scoped>\n    .dataframe tbody tr th:only-of-type {\n        vertical-align: middle;\n    }\n\n    .dataframe tbody tr th {\n        vertical-align: top;\n    }\n\n    .dataframe thead th {\n        text-align: right;\n    }\n</style>\n<table border=\"1\" class=\"dataframe\">\n  <thead>\n    <tr style=\"text-align: right;\">\n      <th></th>\n      <th>temp</th>\n      <th>rain_1h</th>\n      <th>snow_1h</th>\n      <th>clouds_all</th>\n      <th>weather_main</th>\n      <th>weather_description</th>\n      <th>date_time</th>\n      <th>traffic_volume</th>\n    </tr>\n    <tr>\n      <th>holiday</th>\n      <th></th>\n      <th></th>\n      <th></th>\n      <th></th>\n      <th></th>\n      <th></th>\n      <th></th>\n      <th></th>\n    </tr>\n  </thead>\n  <tbody>\n    <tr>\n      <th>Christmas Day</th>\n      <td>6</td>\n      <td>6</td>\n      <td>6</td>\n      <td>6</td>\n      <td>6</td>\n      <td>6</td>\n      <td>6</td>\n      <td>6</td>\n    </tr>\n    <tr>\n      <th>Columbus Day</th>\n      <td>5</td>\n      <td>5</td>\n      <td>5</td>\n      <td>5</td>\n      <td>5</td>\n      <td>5</td>\n      <td>5</td>\n      <td>5</td>\n    </tr>\n    <tr>\n      <th>Independence Day</th>\n      <td>5</td>\n      <td>5</td>\n      <td>5</td>\n      <td>5</td>\n      <td>5</td>\n      <td>5</td>\n      <td>5</td>\n      <td>5</td>\n    </tr>\n    <tr>\n      <th>Labor Day</th>\n      <td>7</td>\n      <td>7</td>\n      <td>7</td>\n      <td>7</td>\n      <td>7</td>\n      <td>7</td>\n      <td>7</td>\n      <td>7</td>\n    </tr>\n    <tr>\n      <th>Martin Luther King Jr Day</th>\n      <td>6</td>\n      <td>6</td>\n      <td>6</td>\n      <td>6</td>\n      <td>6</td>\n      <td>6</td>\n      <td>6</td>\n      <td>6</td>\n    </tr>\n    <tr>\n      <th>Memorial Day</th>\n      <td>5</td>\n      <td>5</td>\n      <td>5</td>\n      <td>5</td>\n      <td>5</td>\n      <td>5</td>\n      <td>5</td>\n      <td>5</td>\n    </tr>\n    <tr>\n      <th>New Years Day</th>\n      <td>6</td>\n      <td>6</td>\n      <td>6</td>\n      <td>6</td>\n      <td>6</td>\n      <td>6</td>\n      <td>6</td>\n      <td>6</td>\n    </tr>\n    <tr>\n      <th>Nothing</th>\n      <td>48143</td>\n      <td>48143</td>\n      <td>48143</td>\n      <td>48143</td>\n      <td>48143</td>\n      <td>48143</td>\n      <td>48143</td>\n      <td>48143</td>\n    </tr>\n    <tr>\n      <th>State Fair</th>\n      <td>5</td>\n      <td>5</td>\n      <td>5</td>\n      <td>5</td>\n      <td>5</td>\n      <td>5</td>\n      <td>5</td>\n      <td>5</td>\n    </tr>\n    <tr>\n      <th>Thanksgiving Day</th>\n      <td>6</td>\n      <td>6</td>\n      <td>6</td>\n      <td>6</td>\n      <td>6</td>\n      <td>6</td>\n      <td>6</td>\n      <td>6</td>\n    </tr>\n    <tr>\n      <th>Veterans Day</th>\n      <td>5</td>\n      <td>5</td>\n      <td>5</td>\n      <td>5</td>\n      <td>5</td>\n      <td>5</td>\n      <td>5</td>\n      <td>5</td>\n    </tr>\n    <tr>\n      <th>Washingtons Birthday</th>\n      <td>5</td>\n      <td>5</td>\n      <td>5</td>\n      <td>5</td>\n      <td>5</td>\n      <td>5</td>\n      <td>5</td>\n      <td>5</td>\n    </tr>\n  </tbody>\n</table>\n</div>"
     },
     "execution_count": 157,
     "metadata": {},
     "output_type": "execute_result"
    }
   ],
   "source": [
    "df.groupby(\"holiday\").count()"
   ],
   "metadata": {
    "collapsed": false,
    "ExecuteTime": {
     "end_time": "2024-01-02T20:42:13.924930Z",
     "start_time": "2024-01-02T20:42:13.913429Z"
    }
   },
   "id": "f2a686f50d992ba9",
   "execution_count": 157
  },
  {
   "cell_type": "code",
   "outputs": [],
   "source": [
    "df.to_csv(\"dataset/MetroInterstateTraffic/Metro_Interstate_Traffic_Volume_Final.csv\", index=False)"
   ],
   "metadata": {
    "collapsed": false,
    "ExecuteTime": {
     "end_time": "2024-01-02T20:43:28.550844Z",
     "start_time": "2024-01-02T20:43:28.483801Z"
    }
   },
   "id": "d6c6120bede21b32",
   "execution_count": 159
  },
  {
   "cell_type": "markdown",
   "source": [
    "## Metro PT"
   ],
   "metadata": {
    "collapsed": false
   },
   "id": "d6746b39757d26e8"
  },
  {
   "cell_type": "code",
   "outputs": [],
   "source": [
    "df = pd.read_csv(\"dataset/MetroPTDataset/MetroPT3.csv\")"
   ],
   "metadata": {
    "collapsed": false,
    "ExecuteTime": {
     "end_time": "2024-01-02T20:48:25.585825Z",
     "start_time": "2024-01-02T20:48:24.190493Z"
    }
   },
   "id": "499e2afe459ff6cc",
   "execution_count": 160
  },
  {
   "cell_type": "code",
   "outputs": [
    {
     "data": {
      "text/plain": "(1516948, 17)"
     },
     "execution_count": 161,
     "metadata": {},
     "output_type": "execute_result"
    }
   ],
   "source": [
    "df.shape"
   ],
   "metadata": {
    "collapsed": false,
    "ExecuteTime": {
     "end_time": "2024-01-02T20:48:28.607955Z",
     "start_time": "2024-01-02T20:48:28.598952Z"
    }
   },
   "id": "7933ab59be9bcaae",
   "execution_count": 161
  },
  {
   "cell_type": "code",
   "outputs": [],
   "source": [
    "df.drop(columns=[\"Unnamed: 0\"], inplace=True)"
   ],
   "metadata": {
    "collapsed": false,
    "ExecuteTime": {
     "end_time": "2024-01-02T20:49:36.347774Z",
     "start_time": "2024-01-02T20:49:36.304701Z"
    }
   },
   "id": "705430f6414abc33",
   "execution_count": 163
  },
  {
   "cell_type": "code",
   "outputs": [
    {
     "data": {
      "text/plain": "             timestamp    TP2    TP3     H1  DV_pressure  Reservoirs  \\\n0  2020-02-01 00:00:00 -0.012  9.358  9.340       -0.024       9.358   \n1  2020-02-01 00:00:10 -0.014  9.348  9.332       -0.022       9.348   \n2  2020-02-01 00:00:19 -0.012  9.338  9.322       -0.022       9.338   \n3  2020-02-01 00:00:29 -0.012  9.328  9.312       -0.022       9.328   \n4  2020-02-01 00:00:39 -0.012  9.318  9.302       -0.022       9.318   \n\n   Oil_temperature  Motor_current  COMP  DV_eletric  Towers  MPG  LPS  \\\n0           53.600         0.0400   1.0         0.0     1.0  1.0  0.0   \n1           53.675         0.0400   1.0         0.0     1.0  1.0  0.0   \n2           53.600         0.0425   1.0         0.0     1.0  1.0  0.0   \n3           53.425         0.0400   1.0         0.0     1.0  1.0  0.0   \n4           53.475         0.0400   1.0         0.0     1.0  1.0  0.0   \n\n   Pressure_switch  Oil_level  Caudal_impulses  \n0              1.0        1.0              1.0  \n1              1.0        1.0              1.0  \n2              1.0        1.0              1.0  \n3              1.0        1.0              1.0  \n4              1.0        1.0              1.0  ",
      "text/html": "<div>\n<style scoped>\n    .dataframe tbody tr th:only-of-type {\n        vertical-align: middle;\n    }\n\n    .dataframe tbody tr th {\n        vertical-align: top;\n    }\n\n    .dataframe thead th {\n        text-align: right;\n    }\n</style>\n<table border=\"1\" class=\"dataframe\">\n  <thead>\n    <tr style=\"text-align: right;\">\n      <th></th>\n      <th>timestamp</th>\n      <th>TP2</th>\n      <th>TP3</th>\n      <th>H1</th>\n      <th>DV_pressure</th>\n      <th>Reservoirs</th>\n      <th>Oil_temperature</th>\n      <th>Motor_current</th>\n      <th>COMP</th>\n      <th>DV_eletric</th>\n      <th>Towers</th>\n      <th>MPG</th>\n      <th>LPS</th>\n      <th>Pressure_switch</th>\n      <th>Oil_level</th>\n      <th>Caudal_impulses</th>\n    </tr>\n  </thead>\n  <tbody>\n    <tr>\n      <th>0</th>\n      <td>2020-02-01 00:00:00</td>\n      <td>-0.012</td>\n      <td>9.358</td>\n      <td>9.340</td>\n      <td>-0.024</td>\n      <td>9.358</td>\n      <td>53.600</td>\n      <td>0.0400</td>\n      <td>1.0</td>\n      <td>0.0</td>\n      <td>1.0</td>\n      <td>1.0</td>\n      <td>0.0</td>\n      <td>1.0</td>\n      <td>1.0</td>\n      <td>1.0</td>\n    </tr>\n    <tr>\n      <th>1</th>\n      <td>2020-02-01 00:00:10</td>\n      <td>-0.014</td>\n      <td>9.348</td>\n      <td>9.332</td>\n      <td>-0.022</td>\n      <td>9.348</td>\n      <td>53.675</td>\n      <td>0.0400</td>\n      <td>1.0</td>\n      <td>0.0</td>\n      <td>1.0</td>\n      <td>1.0</td>\n      <td>0.0</td>\n      <td>1.0</td>\n      <td>1.0</td>\n      <td>1.0</td>\n    </tr>\n    <tr>\n      <th>2</th>\n      <td>2020-02-01 00:00:19</td>\n      <td>-0.012</td>\n      <td>9.338</td>\n      <td>9.322</td>\n      <td>-0.022</td>\n      <td>9.338</td>\n      <td>53.600</td>\n      <td>0.0425</td>\n      <td>1.0</td>\n      <td>0.0</td>\n      <td>1.0</td>\n      <td>1.0</td>\n      <td>0.0</td>\n      <td>1.0</td>\n      <td>1.0</td>\n      <td>1.0</td>\n    </tr>\n    <tr>\n      <th>3</th>\n      <td>2020-02-01 00:00:29</td>\n      <td>-0.012</td>\n      <td>9.328</td>\n      <td>9.312</td>\n      <td>-0.022</td>\n      <td>9.328</td>\n      <td>53.425</td>\n      <td>0.0400</td>\n      <td>1.0</td>\n      <td>0.0</td>\n      <td>1.0</td>\n      <td>1.0</td>\n      <td>0.0</td>\n      <td>1.0</td>\n      <td>1.0</td>\n      <td>1.0</td>\n    </tr>\n    <tr>\n      <th>4</th>\n      <td>2020-02-01 00:00:39</td>\n      <td>-0.012</td>\n      <td>9.318</td>\n      <td>9.302</td>\n      <td>-0.022</td>\n      <td>9.318</td>\n      <td>53.475</td>\n      <td>0.0400</td>\n      <td>1.0</td>\n      <td>0.0</td>\n      <td>1.0</td>\n      <td>1.0</td>\n      <td>0.0</td>\n      <td>1.0</td>\n      <td>1.0</td>\n      <td>1.0</td>\n    </tr>\n  </tbody>\n</table>\n</div>"
     },
     "execution_count": 164,
     "metadata": {},
     "output_type": "execute_result"
    }
   ],
   "source": [
    "df.head()"
   ],
   "metadata": {
    "collapsed": false,
    "ExecuteTime": {
     "end_time": "2024-01-02T20:49:37.061763Z",
     "start_time": "2024-01-02T20:49:37.058725Z"
    }
   },
   "id": "ed98b61d90834f47",
   "execution_count": 164
  },
  {
   "cell_type": "code",
   "outputs": [],
   "source": [
    "df.to_csv(\"dataset/MetroPTDataset/MetroPT3_final.csv\", index=False)"
   ],
   "metadata": {
    "collapsed": false,
    "ExecuteTime": {
     "end_time": "2024-01-02T20:50:15.290190Z",
     "start_time": "2024-01-02T20:50:09.086735Z"
    }
   },
   "id": "98dafc480253e4a8",
   "execution_count": 165
  },
  {
   "cell_type": "markdown",
   "source": [
    "## Retail"
   ],
   "metadata": {
    "collapsed": false
   },
   "id": "bd2e42a6b4f5bac6"
  },
  {
   "cell_type": "code",
   "outputs": [],
   "source": [
    "df1 = pd.read_csv(\"dataset/OnlineRetail/online_retail_II_0910.csv\")\n",
    "df2 = pd.read_csv(\"dataset/OnlineRetail/online_retail_II_1011.csv\")"
   ],
   "metadata": {
    "collapsed": false,
    "ExecuteTime": {
     "end_time": "2024-01-02T20:58:46.462244Z",
     "start_time": "2024-01-02T20:58:45.853277Z"
    }
   },
   "id": "86df2a98f34ab4fc",
   "execution_count": 175
  },
  {
   "cell_type": "code",
   "outputs": [
    {
     "data": {
      "text/plain": "((525461, 8), (541910, 8))"
     },
     "execution_count": 176,
     "metadata": {},
     "output_type": "execute_result"
    }
   ],
   "source": [
    "df1.shape, df2.shape"
   ],
   "metadata": {
    "collapsed": false,
    "ExecuteTime": {
     "end_time": "2024-01-02T20:58:46.902867Z",
     "start_time": "2024-01-02T20:58:46.894314Z"
    }
   },
   "id": "c3f646379bec5e58",
   "execution_count": 176
  },
  {
   "cell_type": "code",
   "outputs": [
    {
     "data": {
      "text/plain": "  Invoice StockCode                          Description  Quantity  \\\n0  489434     85048  15CM CHRISTMAS GLASS BALL 20 LIGHTS        12   \n1  489434    79323P                   PINK CHERRY LIGHTS        12   \n2  489434    79323W                  WHITE CHERRY LIGHTS        12   \n3  489434     22041         RECORD FRAME 7\" SINGLE SIZE         48   \n4  489434     21232       STRAWBERRY CERAMIC TRINKET BOX        24   \n\n    InvoiceDate  Price  Customer ID         Country  \n0  12/1/09 7:45   6.95      13085.0  United Kingdom  \n1  12/1/09 7:45   6.75      13085.0  United Kingdom  \n2  12/1/09 7:45   6.75      13085.0  United Kingdom  \n3  12/1/09 7:45   2.10      13085.0  United Kingdom  \n4  12/1/09 7:45   1.25      13085.0  United Kingdom  ",
      "text/html": "<div>\n<style scoped>\n    .dataframe tbody tr th:only-of-type {\n        vertical-align: middle;\n    }\n\n    .dataframe tbody tr th {\n        vertical-align: top;\n    }\n\n    .dataframe thead th {\n        text-align: right;\n    }\n</style>\n<table border=\"1\" class=\"dataframe\">\n  <thead>\n    <tr style=\"text-align: right;\">\n      <th></th>\n      <th>Invoice</th>\n      <th>StockCode</th>\n      <th>Description</th>\n      <th>Quantity</th>\n      <th>InvoiceDate</th>\n      <th>Price</th>\n      <th>Customer ID</th>\n      <th>Country</th>\n    </tr>\n  </thead>\n  <tbody>\n    <tr>\n      <th>0</th>\n      <td>489434</td>\n      <td>85048</td>\n      <td>15CM CHRISTMAS GLASS BALL 20 LIGHTS</td>\n      <td>12</td>\n      <td>12/1/09 7:45</td>\n      <td>6.95</td>\n      <td>13085.0</td>\n      <td>United Kingdom</td>\n    </tr>\n    <tr>\n      <th>1</th>\n      <td>489434</td>\n      <td>79323P</td>\n      <td>PINK CHERRY LIGHTS</td>\n      <td>12</td>\n      <td>12/1/09 7:45</td>\n      <td>6.75</td>\n      <td>13085.0</td>\n      <td>United Kingdom</td>\n    </tr>\n    <tr>\n      <th>2</th>\n      <td>489434</td>\n      <td>79323W</td>\n      <td>WHITE CHERRY LIGHTS</td>\n      <td>12</td>\n      <td>12/1/09 7:45</td>\n      <td>6.75</td>\n      <td>13085.0</td>\n      <td>United Kingdom</td>\n    </tr>\n    <tr>\n      <th>3</th>\n      <td>489434</td>\n      <td>22041</td>\n      <td>RECORD FRAME 7\" SINGLE SIZE</td>\n      <td>48</td>\n      <td>12/1/09 7:45</td>\n      <td>2.10</td>\n      <td>13085.0</td>\n      <td>United Kingdom</td>\n    </tr>\n    <tr>\n      <th>4</th>\n      <td>489434</td>\n      <td>21232</td>\n      <td>STRAWBERRY CERAMIC TRINKET BOX</td>\n      <td>24</td>\n      <td>12/1/09 7:45</td>\n      <td>1.25</td>\n      <td>13085.0</td>\n      <td>United Kingdom</td>\n    </tr>\n  </tbody>\n</table>\n</div>"
     },
     "execution_count": 177,
     "metadata": {},
     "output_type": "execute_result"
    }
   ],
   "source": [
    "df1.head()"
   ],
   "metadata": {
    "collapsed": false,
    "ExecuteTime": {
     "end_time": "2024-01-02T20:58:49.170433Z",
     "start_time": "2024-01-02T20:58:49.100389Z"
    }
   },
   "id": "555c53d38b4885dd",
   "execution_count": 177
  },
  {
   "cell_type": "code",
   "outputs": [
    {
     "data": {
      "text/plain": "  Invoice StockCode                          Description  Quantity  \\\n0  536365    85123A   WHITE HANGING HEART T-LIGHT HOLDER         6   \n1  536365     71053                  WHITE METAL LANTERN         6   \n2  536365    84406B       CREAM CUPID HEARTS COAT HANGER         8   \n3  536365    84029G  KNITTED UNION FLAG HOT WATER BOTTLE         6   \n4  536365    84029E       RED WOOLLY HOTTIE WHITE HEART.         6   \n\n    InvoiceDate  Price  Customer ID         Country  \n0  12/1/10 8:26   2.55      17850.0  United Kingdom  \n1  12/1/10 8:26   3.39      17850.0  United Kingdom  \n2  12/1/10 8:26   2.75      17850.0  United Kingdom  \n3  12/1/10 8:26   3.39      17850.0  United Kingdom  \n4  12/1/10 8:26   3.39      17850.0  United Kingdom  ",
      "text/html": "<div>\n<style scoped>\n    .dataframe tbody tr th:only-of-type {\n        vertical-align: middle;\n    }\n\n    .dataframe tbody tr th {\n        vertical-align: top;\n    }\n\n    .dataframe thead th {\n        text-align: right;\n    }\n</style>\n<table border=\"1\" class=\"dataframe\">\n  <thead>\n    <tr style=\"text-align: right;\">\n      <th></th>\n      <th>Invoice</th>\n      <th>StockCode</th>\n      <th>Description</th>\n      <th>Quantity</th>\n      <th>InvoiceDate</th>\n      <th>Price</th>\n      <th>Customer ID</th>\n      <th>Country</th>\n    </tr>\n  </thead>\n  <tbody>\n    <tr>\n      <th>0</th>\n      <td>536365</td>\n      <td>85123A</td>\n      <td>WHITE HANGING HEART T-LIGHT HOLDER</td>\n      <td>6</td>\n      <td>12/1/10 8:26</td>\n      <td>2.55</td>\n      <td>17850.0</td>\n      <td>United Kingdom</td>\n    </tr>\n    <tr>\n      <th>1</th>\n      <td>536365</td>\n      <td>71053</td>\n      <td>WHITE METAL LANTERN</td>\n      <td>6</td>\n      <td>12/1/10 8:26</td>\n      <td>3.39</td>\n      <td>17850.0</td>\n      <td>United Kingdom</td>\n    </tr>\n    <tr>\n      <th>2</th>\n      <td>536365</td>\n      <td>84406B</td>\n      <td>CREAM CUPID HEARTS COAT HANGER</td>\n      <td>8</td>\n      <td>12/1/10 8:26</td>\n      <td>2.75</td>\n      <td>17850.0</td>\n      <td>United Kingdom</td>\n    </tr>\n    <tr>\n      <th>3</th>\n      <td>536365</td>\n      <td>84029G</td>\n      <td>KNITTED UNION FLAG HOT WATER BOTTLE</td>\n      <td>6</td>\n      <td>12/1/10 8:26</td>\n      <td>3.39</td>\n      <td>17850.0</td>\n      <td>United Kingdom</td>\n    </tr>\n    <tr>\n      <th>4</th>\n      <td>536365</td>\n      <td>84029E</td>\n      <td>RED WOOLLY HOTTIE WHITE HEART.</td>\n      <td>6</td>\n      <td>12/1/10 8:26</td>\n      <td>3.39</td>\n      <td>17850.0</td>\n      <td>United Kingdom</td>\n    </tr>\n  </tbody>\n</table>\n</div>"
     },
     "execution_count": 178,
     "metadata": {},
     "output_type": "execute_result"
    }
   ],
   "source": [
    "df2.head()"
   ],
   "metadata": {
    "collapsed": false,
    "ExecuteTime": {
     "end_time": "2024-01-02T20:58:52.678637Z",
     "start_time": "2024-01-02T20:58:52.670041Z"
    }
   },
   "id": "854403cb8e03221a",
   "execution_count": 178
  },
  {
   "cell_type": "code",
   "outputs": [],
   "source": [
    "df = pd.concat([df1, df2], ignore_index=True)"
   ],
   "metadata": {
    "collapsed": false,
    "ExecuteTime": {
     "end_time": "2024-01-02T20:59:24.040371Z",
     "start_time": "2024-01-02T20:59:24.015245Z"
    }
   },
   "id": "af0c5a3adb5d8441",
   "execution_count": 179
  },
  {
   "cell_type": "code",
   "outputs": [
    {
     "data": {
      "text/plain": "(1067371, 8)"
     },
     "execution_count": 180,
     "metadata": {},
     "output_type": "execute_result"
    }
   ],
   "source": [
    "df.shape"
   ],
   "metadata": {
    "collapsed": false,
    "ExecuteTime": {
     "end_time": "2024-01-02T20:59:26.684177Z",
     "start_time": "2024-01-02T20:59:26.654145Z"
    }
   },
   "id": "d1feccd03e74b0d8",
   "execution_count": 180
  },
  {
   "cell_type": "code",
   "outputs": [
    {
     "data": {
      "text/plain": "  Invoice StockCode                          Description  Quantity  \\\n0  489434     85048  15CM CHRISTMAS GLASS BALL 20 LIGHTS        12   \n1  489434    79323P                   PINK CHERRY LIGHTS        12   \n2  489434    79323W                  WHITE CHERRY LIGHTS        12   \n3  489434     22041         RECORD FRAME 7\" SINGLE SIZE         48   \n4  489434     21232       STRAWBERRY CERAMIC TRINKET BOX        24   \n\n    InvoiceDate  Price  Customer ID         Country  \n0  12/1/09 7:45   6.95      13085.0  United Kingdom  \n1  12/1/09 7:45   6.75      13085.0  United Kingdom  \n2  12/1/09 7:45   6.75      13085.0  United Kingdom  \n3  12/1/09 7:45   2.10      13085.0  United Kingdom  \n4  12/1/09 7:45   1.25      13085.0  United Kingdom  ",
      "text/html": "<div>\n<style scoped>\n    .dataframe tbody tr th:only-of-type {\n        vertical-align: middle;\n    }\n\n    .dataframe tbody tr th {\n        vertical-align: top;\n    }\n\n    .dataframe thead th {\n        text-align: right;\n    }\n</style>\n<table border=\"1\" class=\"dataframe\">\n  <thead>\n    <tr style=\"text-align: right;\">\n      <th></th>\n      <th>Invoice</th>\n      <th>StockCode</th>\n      <th>Description</th>\n      <th>Quantity</th>\n      <th>InvoiceDate</th>\n      <th>Price</th>\n      <th>Customer ID</th>\n      <th>Country</th>\n    </tr>\n  </thead>\n  <tbody>\n    <tr>\n      <th>0</th>\n      <td>489434</td>\n      <td>85048</td>\n      <td>15CM CHRISTMAS GLASS BALL 20 LIGHTS</td>\n      <td>12</td>\n      <td>12/1/09 7:45</td>\n      <td>6.95</td>\n      <td>13085.0</td>\n      <td>United Kingdom</td>\n    </tr>\n    <tr>\n      <th>1</th>\n      <td>489434</td>\n      <td>79323P</td>\n      <td>PINK CHERRY LIGHTS</td>\n      <td>12</td>\n      <td>12/1/09 7:45</td>\n      <td>6.75</td>\n      <td>13085.0</td>\n      <td>United Kingdom</td>\n    </tr>\n    <tr>\n      <th>2</th>\n      <td>489434</td>\n      <td>79323W</td>\n      <td>WHITE CHERRY LIGHTS</td>\n      <td>12</td>\n      <td>12/1/09 7:45</td>\n      <td>6.75</td>\n      <td>13085.0</td>\n      <td>United Kingdom</td>\n    </tr>\n    <tr>\n      <th>3</th>\n      <td>489434</td>\n      <td>22041</td>\n      <td>RECORD FRAME 7\" SINGLE SIZE</td>\n      <td>48</td>\n      <td>12/1/09 7:45</td>\n      <td>2.10</td>\n      <td>13085.0</td>\n      <td>United Kingdom</td>\n    </tr>\n    <tr>\n      <th>4</th>\n      <td>489434</td>\n      <td>21232</td>\n      <td>STRAWBERRY CERAMIC TRINKET BOX</td>\n      <td>24</td>\n      <td>12/1/09 7:45</td>\n      <td>1.25</td>\n      <td>13085.0</td>\n      <td>United Kingdom</td>\n    </tr>\n  </tbody>\n</table>\n</div>"
     },
     "execution_count": 182,
     "metadata": {},
     "output_type": "execute_result"
    }
   ],
   "source": [
    "df.head()"
   ],
   "metadata": {
    "collapsed": false,
    "ExecuteTime": {
     "end_time": "2024-01-02T20:59:34.085650Z",
     "start_time": "2024-01-02T20:59:34.078304Z"
    }
   },
   "id": "56b5b87677fe0cd2",
   "execution_count": 182
  },
  {
   "cell_type": "code",
   "outputs": [],
   "source": [
    "df.to_csv(\"dataset/OnlineRetail/online_retail_final.csv\", index=False)"
   ],
   "metadata": {
    "collapsed": false,
    "ExecuteTime": {
     "end_time": "2024-01-02T21:00:21.652947Z",
     "start_time": "2024-01-02T21:00:20.199375Z"
    }
   },
   "id": "df2aba7310f28598",
   "execution_count": 183
  },
  {
   "cell_type": "markdown",
   "source": [
    "## Earthquake"
   ],
   "metadata": {
    "collapsed": false
   },
   "id": "ddd26010816c0258"
  },
  {
   "cell_type": "code",
   "outputs": [],
   "source": [
    "df = pd.read_csv(\"dataset/SignificantEarthquakes/Earthquakes.csv\")"
   ],
   "metadata": {
    "collapsed": false,
    "ExecuteTime": {
     "end_time": "2024-01-02T21:11:17.438588Z",
     "start_time": "2024-01-02T21:11:17.407474Z"
    }
   },
   "id": "8409ffff830ab3a5",
   "execution_count": 184
  },
  {
   "cell_type": "code",
   "outputs": [
    {
     "data": {
      "text/plain": "(23412, 7)"
     },
     "execution_count": 195,
     "metadata": {},
     "output_type": "execute_result"
    }
   ],
   "source": [
    "df.shape"
   ],
   "metadata": {
    "collapsed": false,
    "ExecuteTime": {
     "end_time": "2024-01-02T21:22:16.208159Z",
     "start_time": "2024-01-02T21:22:16.199747Z"
    }
   },
   "id": "4606d8dc7e78a66f",
   "execution_count": 195
  },
  {
   "cell_type": "code",
   "outputs": [
    {
     "data": {
      "text/plain": "         Date      Time  Latitude  Longitude  Depth  Magnitude Magnitude Type\n0  01/02/1965  13:44:18    19.246    145.616  131.6        6.0             MW\n1  01/04/1965  11:29:49     1.863    127.352   80.0        5.8             MW\n2  01/05/1965  18:05:58   -20.579   -173.972   20.0        6.2             MW\n3  01/08/1965  18:49:43   -59.076    -23.557   15.0        5.8             MW\n4  01/09/1965  13:32:50    11.938    126.427   15.0        5.8             MW",
      "text/html": "<div>\n<style scoped>\n    .dataframe tbody tr th:only-of-type {\n        vertical-align: middle;\n    }\n\n    .dataframe tbody tr th {\n        vertical-align: top;\n    }\n\n    .dataframe thead th {\n        text-align: right;\n    }\n</style>\n<table border=\"1\" class=\"dataframe\">\n  <thead>\n    <tr style=\"text-align: right;\">\n      <th></th>\n      <th>Date</th>\n      <th>Time</th>\n      <th>Latitude</th>\n      <th>Longitude</th>\n      <th>Depth</th>\n      <th>Magnitude</th>\n      <th>Magnitude Type</th>\n    </tr>\n  </thead>\n  <tbody>\n    <tr>\n      <th>0</th>\n      <td>01/02/1965</td>\n      <td>13:44:18</td>\n      <td>19.246</td>\n      <td>145.616</td>\n      <td>131.6</td>\n      <td>6.0</td>\n      <td>MW</td>\n    </tr>\n    <tr>\n      <th>1</th>\n      <td>01/04/1965</td>\n      <td>11:29:49</td>\n      <td>1.863</td>\n      <td>127.352</td>\n      <td>80.0</td>\n      <td>5.8</td>\n      <td>MW</td>\n    </tr>\n    <tr>\n      <th>2</th>\n      <td>01/05/1965</td>\n      <td>18:05:58</td>\n      <td>-20.579</td>\n      <td>-173.972</td>\n      <td>20.0</td>\n      <td>6.2</td>\n      <td>MW</td>\n    </tr>\n    <tr>\n      <th>3</th>\n      <td>01/08/1965</td>\n      <td>18:49:43</td>\n      <td>-59.076</td>\n      <td>-23.557</td>\n      <td>15.0</td>\n      <td>5.8</td>\n      <td>MW</td>\n    </tr>\n    <tr>\n      <th>4</th>\n      <td>01/09/1965</td>\n      <td>13:32:50</td>\n      <td>11.938</td>\n      <td>126.427</td>\n      <td>15.0</td>\n      <td>5.8</td>\n      <td>MW</td>\n    </tr>\n  </tbody>\n</table>\n</div>"
     },
     "execution_count": 196,
     "metadata": {},
     "output_type": "execute_result"
    }
   ],
   "source": [
    "df.head()"
   ],
   "metadata": {
    "collapsed": false,
    "ExecuteTime": {
     "end_time": "2024-01-02T21:22:16.842280Z",
     "start_time": "2024-01-02T21:22:16.831651Z"
    }
   },
   "id": "88673463311b7d8",
   "execution_count": 196
  },
  {
   "cell_type": "code",
   "outputs": [],
   "source": [
    "df.drop(columns=[\"Type\",\"Depth Error\", \"Depth Seismic Stations\", \"Magnitude Error\", \"Magnitude Seismic Stations\", \"Azimuthal Gap\", \"Horizontal Distance\", \"Horizontal Error\", \"Root Mean Square\", \"ID\", \"Source\", \"Location Source\", \"Magnitude Source\", \"Status\"], inplace=True)"
   ],
   "metadata": {
    "collapsed": false,
    "ExecuteTime": {
     "end_time": "2024-01-02T21:22:10.794126Z",
     "start_time": "2024-01-02T21:22:10.778774Z"
    }
   },
   "id": "29bd6fac02830c4f",
   "execution_count": 194
  },
  {
   "cell_type": "code",
   "outputs": [
    {
     "data": {
      "text/plain": "                  Date   Time  Latitude  Longitude   Type  Depth  Depth Error  \\\nLocation Source                                                                 \nAEI                  7      7         7          7      7      7            0   \nAEIC                40     40        40         40     40     40            0   \nAG                   1      1         1          1      1      1            0   \nAGS                 17     17        17         17     17     17            0   \nAK                  14     14        14         14     14     14           13   \nATH                 14     14        14         14     14     14            2   \nATLAS                3      3         3          3      3      3            0   \nB                    2      2         2          2      2      2            0   \nBEO                  1      1         1          1      1      1            0   \nBOU                  1      1         1          1      1      1            0   \nBRK                  1      1         1          1      1      1            0   \nCAR                  1      1         1          1      1      1            0   \nCASC                 4      4         4          4      4      4            0   \nCI                  61     61        61         61     61     61           48   \nCSEM                 1      1         1          1      1      1            0   \nG                    2      2         2          2      2      2            0   \nGCMT                56     56        56         56     56     56            0   \nGUC                 46     46        46         46     46     46            9   \nH                    7      7         7          7      7      7            0   \nHVO                 12     12        12         12     12     12            0   \nISCGEM            2581   2581      2581       2581   2581   2581            0   \nISK                 15     15        15         15     15     15            0   \nJMA                  3      3         3          3      3      3            0   \nLIM                  1      1         1          1      1      1            0   \nMDD                  2      2         2          2      2      2            0   \nNC                  54     54        54         54     54     54           51   \nNN                   4      4         4          4      4      4            4   \nOTT                  1      1         1          1      1      1            0   \nPGC                 19     19        19         19     19     19            1   \nPR                   1      1         1          1      1      1            1   \nROM                  7      7         7          7      7      7            0   \nRSPR                 3      3         3          3      3      3            0   \nSE                   1      1         1          1      1      1            1   \nSJA                  1      1         1          1      1      1            0   \nSLC                  1      1         1          1      1      1            0   \nSPE                 10     10        10         10     10     10            0   \nTAP                  1      1         1          1      1      1            0   \nTEH                  7      7         7          7      7      7            4   \nTHE                  3      3         3          3      3      3            1   \nTHR                  3      3         3          3      3      3            0   \nTUL                  2      2         2          2      2      2            1   \nU                    1      1         1          1      1      1            0   \nUCR                  1      1         1          1      1      1            0   \nUNM                 21     21        21         21     21     21            4   \nUS               20350  20350     20350      20350  20350  20350         4311   \nUS_WEL               4      4         4          4      4      4            4   \nUW                   6      6         6          6      6      6            6   \nWEL                 18     18        18         18     18     18            0   \n\n                 Depth Seismic Stations  Magnitude  Magnitude Type  \\\nLocation Source                                                      \nAEI                                   0          7               7   \nAEIC                                 35         40              40   \nAG                                    0          1               1   \nAGS                                   0         17              17   \nAK                                    1         14              14   \nATH                                  11         14              14   \nATLAS                                 0          3               0   \nB                                     0          2               2   \nBEO                                   1          1               1   \nBOU                                   0          1               1   \nBRK                                   0          1               1   \nCAR                                   1          1               1   \nCASC                                  1          4               4   \nCI                                   60         61              61   \nCSEM                                  1          1               1   \nG                                     0          2               2   \nGCMT                                  1         56              56   \nGUC                                  37         46              46   \nH                                     0          7               7   \nHVO                                   2         12              12   \nISCGEM                                0       2581            2581   \nISK                                  14         15              15   \nJMA                                   3          3               3   \nLIM                                   1          1               1   \nMDD                                   2          2               2   \nNC                                   51         54              54   \nNN                                    4          4               4   \nOTT                                   0          1               1   \nPGC                                  11         19              19   \nPR                                    1          1               1   \nROM                                   7          7               7   \nRSPR                                  3          3               3   \nSE                                    1          1               1   \nSJA                                   1          1               1   \nSLC                                   0          1               1   \nSPE                                   0         10              10   \nTAP                                   1          1               1   \nTEH                                   3          7               7   \nTHE                                   1          3               3   \nTHR                                   3          3               3   \nTUL                                   1          2               2   \nU                                     0          1               1   \nUCR                                   1          1               1   \nUNM                                  17         21              21   \nUS                                 6796      20350           20350   \nUS_WEL                                0          4               4   \nUW                                    6          6               6   \nWEL                                  18         18              18   \n\n                 Magnitude Error  Magnitude Seismic Stations  Azimuthal Gap  \\\nLocation Source                                                               \nAEI                            0                           1              0   \nAEIC                           0                           4             28   \nAG                             0                           0              0   \nAGS                            0                           7              0   \nAK                             1                           0              1   \nATH                            0                           0             11   \nATLAS                          0                           0              0   \nB                              0                           0              0   \nBEO                            0                           0              1   \nBOU                            0                           0              0   \nBRK                            0                           1              0   \nCAR                            0                           0              1   \nCASC                           0                           0              1   \nCI                            20                          61             60   \nCSEM                           0                           0              1   \nG                              0                           0              0   \nGCMT                           0                           0              1   \nGUC                            1                           3             37   \nH                              0                           0              0   \nHVO                            0                           3              2   \nISCGEM                         0                           0              0   \nISK                            0                           3             13   \nJMA                            0                           0              3   \nLIM                            0                           0              1   \nMDD                            0                           0              2   \nNC                             0                          51             52   \nNN                             4                           4              4   \nOTT                            0                           0              0   \nPGC                            0                           0              2   \nPR                             1                           1              1   \nROM                            0                           0              6   \nRSPR                           0                           0              3   \nSE                             0                           1              1   \nSJA                            0                           0              1   \nSLC                            0                           1              0   \nSPE                            0                           6              0   \nTAP                            0                           0              1   \nTEH                            3                           2              3   \nTHE                            0                           0              1   \nTHR                            0                           0              3   \nTUL                            0                           0              2   \nU                              0                           0              0   \nUCR                            0                           0              1   \nUNM                            0                           0             17   \nUS                           291                        2408           7014   \nUS_WEL                         1                           0              0   \nUW                             5                           6              6   \nWEL                            0                           1             18   \n\n                 Horizontal Distance  Horizontal Error  Root Mean Square  \\\nLocation Source                                                            \nAEI                                0                 0                 0   \nAEIC                               0                 0                 0   \nAG                                 0                 0                 0   \nAGS                                0                 0                 0   \nAK                                 0                12                14   \nATH                                0                 1                 2   \nATLAS                              0                 0                 0   \nB                                  0                 0                 0   \nBEO                                0                 0                 0   \nBOU                                0                 0                 0   \nBRK                                0                 0                 0   \nCAR                                0                 0                 0   \nCASC                               0                 0                 0   \nCI                                23                31                60   \nCSEM                               0                 0                 0   \nG                                  0                 0                 0   \nGCMT                               0                 0                 0   \nGUC                                0                 2                 9   \nH                                  0                 0                 0   \nHVO                                0                 0                 0   \nISCGEM                             0                 0                 0   \nISK                                0                 0                 0   \nJMA                                0                 0                 0   \nLIM                                0                 0                 0   \nMDD                                0                 0                 0   \nNC                                51                51                51   \nNN                                 4                 1                 4   \nOTT                                0                 0                 0   \nPGC                                0                 0                 1   \nPR                                 1                 1                 1   \nROM                                0                 0                 0   \nRSPR                               0                 0                 0   \nSE                                 0                 1                 1   \nSJA                                0                 0                 0   \nSLC                                0                 0                 0   \nSPE                                0                 0                 0   \nTAP                                0                 0                 0   \nTEH                                0                 1                 4   \nTHE                                0                 1                 1   \nTHR                                0                 0                 0   \nTUL                                0                 1                 1   \nU                                  0                 0                 0   \nUCR                                0                 0                 0   \nUNM                                0                 3                 4   \nUS                              1523              1044             17189   \nUS_WEL                             0                 0                 4   \nUW                                 2                 6                 6   \nWEL                                0                 0                 0   \n\n                    ID  Source  Magnitude Source  Status  \nLocation Source                                           \nAEI                  7       7                 7       7  \nAEIC                40      40                40      40  \nAG                   1       1                 1       1  \nAGS                 17      17                17      17  \nAK                  14      14                14      14  \nATH                 14      14                14      14  \nATLAS                3       3                 3       3  \nB                    2       2                 2       2  \nBEO                  1       1                 1       1  \nBOU                  1       1                 1       1  \nBRK                  1       1                 1       1  \nCAR                  1       1                 1       1  \nCASC                 4       4                 4       4  \nCI                  61      61                61      61  \nCSEM                 1       1                 1       1  \nG                    2       2                 2       2  \nGCMT                56      56                56      56  \nGUC                 46      46                46      46  \nH                    7       7                 7       7  \nHVO                 12      12                12      12  \nISCGEM            2581    2581              2581    2581  \nISK                 15      15                15      15  \nJMA                  3       3                 3       3  \nLIM                  1       1                 1       1  \nMDD                  2       2                 2       2  \nNC                  54      54                54      54  \nNN                   4       4                 4       4  \nOTT                  1       1                 1       1  \nPGC                 19      19                19      19  \nPR                   1       1                 1       1  \nROM                  7       7                 7       7  \nRSPR                 3       3                 3       3  \nSE                   1       1                 1       1  \nSJA                  1       1                 1       1  \nSLC                  1       1                 1       1  \nSPE                 10      10                10      10  \nTAP                  1       1                 1       1  \nTEH                  7       7                 7       7  \nTHE                  3       3                 3       3  \nTHR                  3       3                 3       3  \nTUL                  2       2                 2       2  \nU                    1       1                 1       1  \nUCR                  1       1                 1       1  \nUNM                 21      21                21      21  \nUS               20350   20350             20350   20350  \nUS_WEL               4       4                 4       4  \nUW                   6       6                 6       6  \nWEL                 18      18                18      18  ",
      "text/html": "<div>\n<style scoped>\n    .dataframe tbody tr th:only-of-type {\n        vertical-align: middle;\n    }\n\n    .dataframe tbody tr th {\n        vertical-align: top;\n    }\n\n    .dataframe thead th {\n        text-align: right;\n    }\n</style>\n<table border=\"1\" class=\"dataframe\">\n  <thead>\n    <tr style=\"text-align: right;\">\n      <th></th>\n      <th>Date</th>\n      <th>Time</th>\n      <th>Latitude</th>\n      <th>Longitude</th>\n      <th>Type</th>\n      <th>Depth</th>\n      <th>Depth Error</th>\n      <th>Depth Seismic Stations</th>\n      <th>Magnitude</th>\n      <th>Magnitude Type</th>\n      <th>Magnitude Error</th>\n      <th>Magnitude Seismic Stations</th>\n      <th>Azimuthal Gap</th>\n      <th>Horizontal Distance</th>\n      <th>Horizontal Error</th>\n      <th>Root Mean Square</th>\n      <th>ID</th>\n      <th>Source</th>\n      <th>Magnitude Source</th>\n      <th>Status</th>\n    </tr>\n    <tr>\n      <th>Location Source</th>\n      <th></th>\n      <th></th>\n      <th></th>\n      <th></th>\n      <th></th>\n      <th></th>\n      <th></th>\n      <th></th>\n      <th></th>\n      <th></th>\n      <th></th>\n      <th></th>\n      <th></th>\n      <th></th>\n      <th></th>\n      <th></th>\n      <th></th>\n      <th></th>\n      <th></th>\n      <th></th>\n    </tr>\n  </thead>\n  <tbody>\n    <tr>\n      <th>AEI</th>\n      <td>7</td>\n      <td>7</td>\n      <td>7</td>\n      <td>7</td>\n      <td>7</td>\n      <td>7</td>\n      <td>0</td>\n      <td>0</td>\n      <td>7</td>\n      <td>7</td>\n      <td>0</td>\n      <td>1</td>\n      <td>0</td>\n      <td>0</td>\n      <td>0</td>\n      <td>0</td>\n      <td>7</td>\n      <td>7</td>\n      <td>7</td>\n      <td>7</td>\n    </tr>\n    <tr>\n      <th>AEIC</th>\n      <td>40</td>\n      <td>40</td>\n      <td>40</td>\n      <td>40</td>\n      <td>40</td>\n      <td>40</td>\n      <td>0</td>\n      <td>35</td>\n      <td>40</td>\n      <td>40</td>\n      <td>0</td>\n      <td>4</td>\n      <td>28</td>\n      <td>0</td>\n      <td>0</td>\n      <td>0</td>\n      <td>40</td>\n      <td>40</td>\n      <td>40</td>\n      <td>40</td>\n    </tr>\n    <tr>\n      <th>AG</th>\n      <td>1</td>\n      <td>1</td>\n      <td>1</td>\n      <td>1</td>\n      <td>1</td>\n      <td>1</td>\n      <td>0</td>\n      <td>0</td>\n      <td>1</td>\n      <td>1</td>\n      <td>0</td>\n      <td>0</td>\n      <td>0</td>\n      <td>0</td>\n      <td>0</td>\n      <td>0</td>\n      <td>1</td>\n      <td>1</td>\n      <td>1</td>\n      <td>1</td>\n    </tr>\n    <tr>\n      <th>AGS</th>\n      <td>17</td>\n      <td>17</td>\n      <td>17</td>\n      <td>17</td>\n      <td>17</td>\n      <td>17</td>\n      <td>0</td>\n      <td>0</td>\n      <td>17</td>\n      <td>17</td>\n      <td>0</td>\n      <td>7</td>\n      <td>0</td>\n      <td>0</td>\n      <td>0</td>\n      <td>0</td>\n      <td>17</td>\n      <td>17</td>\n      <td>17</td>\n      <td>17</td>\n    </tr>\n    <tr>\n      <th>AK</th>\n      <td>14</td>\n      <td>14</td>\n      <td>14</td>\n      <td>14</td>\n      <td>14</td>\n      <td>14</td>\n      <td>13</td>\n      <td>1</td>\n      <td>14</td>\n      <td>14</td>\n      <td>1</td>\n      <td>0</td>\n      <td>1</td>\n      <td>0</td>\n      <td>12</td>\n      <td>14</td>\n      <td>14</td>\n      <td>14</td>\n      <td>14</td>\n      <td>14</td>\n    </tr>\n    <tr>\n      <th>ATH</th>\n      <td>14</td>\n      <td>14</td>\n      <td>14</td>\n      <td>14</td>\n      <td>14</td>\n      <td>14</td>\n      <td>2</td>\n      <td>11</td>\n      <td>14</td>\n      <td>14</td>\n      <td>0</td>\n      <td>0</td>\n      <td>11</td>\n      <td>0</td>\n      <td>1</td>\n      <td>2</td>\n      <td>14</td>\n      <td>14</td>\n      <td>14</td>\n      <td>14</td>\n    </tr>\n    <tr>\n      <th>ATLAS</th>\n      <td>3</td>\n      <td>3</td>\n      <td>3</td>\n      <td>3</td>\n      <td>3</td>\n      <td>3</td>\n      <td>0</td>\n      <td>0</td>\n      <td>3</td>\n      <td>0</td>\n      <td>0</td>\n      <td>0</td>\n      <td>0</td>\n      <td>0</td>\n      <td>0</td>\n      <td>0</td>\n      <td>3</td>\n      <td>3</td>\n      <td>3</td>\n      <td>3</td>\n    </tr>\n    <tr>\n      <th>B</th>\n      <td>2</td>\n      <td>2</td>\n      <td>2</td>\n      <td>2</td>\n      <td>2</td>\n      <td>2</td>\n      <td>0</td>\n      <td>0</td>\n      <td>2</td>\n      <td>2</td>\n      <td>0</td>\n      <td>0</td>\n      <td>0</td>\n      <td>0</td>\n      <td>0</td>\n      <td>0</td>\n      <td>2</td>\n      <td>2</td>\n      <td>2</td>\n      <td>2</td>\n    </tr>\n    <tr>\n      <th>BEO</th>\n      <td>1</td>\n      <td>1</td>\n      <td>1</td>\n      <td>1</td>\n      <td>1</td>\n      <td>1</td>\n      <td>0</td>\n      <td>1</td>\n      <td>1</td>\n      <td>1</td>\n      <td>0</td>\n      <td>0</td>\n      <td>1</td>\n      <td>0</td>\n      <td>0</td>\n      <td>0</td>\n      <td>1</td>\n      <td>1</td>\n      <td>1</td>\n      <td>1</td>\n    </tr>\n    <tr>\n      <th>BOU</th>\n      <td>1</td>\n      <td>1</td>\n      <td>1</td>\n      <td>1</td>\n      <td>1</td>\n      <td>1</td>\n      <td>0</td>\n      <td>0</td>\n      <td>1</td>\n      <td>1</td>\n      <td>0</td>\n      <td>0</td>\n      <td>0</td>\n      <td>0</td>\n      <td>0</td>\n      <td>0</td>\n      <td>1</td>\n      <td>1</td>\n      <td>1</td>\n      <td>1</td>\n    </tr>\n    <tr>\n      <th>BRK</th>\n      <td>1</td>\n      <td>1</td>\n      <td>1</td>\n      <td>1</td>\n      <td>1</td>\n      <td>1</td>\n      <td>0</td>\n      <td>0</td>\n      <td>1</td>\n      <td>1</td>\n      <td>0</td>\n      <td>1</td>\n      <td>0</td>\n      <td>0</td>\n      <td>0</td>\n      <td>0</td>\n      <td>1</td>\n      <td>1</td>\n      <td>1</td>\n      <td>1</td>\n    </tr>\n    <tr>\n      <th>CAR</th>\n      <td>1</td>\n      <td>1</td>\n      <td>1</td>\n      <td>1</td>\n      <td>1</td>\n      <td>1</td>\n      <td>0</td>\n      <td>1</td>\n      <td>1</td>\n      <td>1</td>\n      <td>0</td>\n      <td>0</td>\n      <td>1</td>\n      <td>0</td>\n      <td>0</td>\n      <td>0</td>\n      <td>1</td>\n      <td>1</td>\n      <td>1</td>\n      <td>1</td>\n    </tr>\n    <tr>\n      <th>CASC</th>\n      <td>4</td>\n      <td>4</td>\n      <td>4</td>\n      <td>4</td>\n      <td>4</td>\n      <td>4</td>\n      <td>0</td>\n      <td>1</td>\n      <td>4</td>\n      <td>4</td>\n      <td>0</td>\n      <td>0</td>\n      <td>1</td>\n      <td>0</td>\n      <td>0</td>\n      <td>0</td>\n      <td>4</td>\n      <td>4</td>\n      <td>4</td>\n      <td>4</td>\n    </tr>\n    <tr>\n      <th>CI</th>\n      <td>61</td>\n      <td>61</td>\n      <td>61</td>\n      <td>61</td>\n      <td>61</td>\n      <td>61</td>\n      <td>48</td>\n      <td>60</td>\n      <td>61</td>\n      <td>61</td>\n      <td>20</td>\n      <td>61</td>\n      <td>60</td>\n      <td>23</td>\n      <td>31</td>\n      <td>60</td>\n      <td>61</td>\n      <td>61</td>\n      <td>61</td>\n      <td>61</td>\n    </tr>\n    <tr>\n      <th>CSEM</th>\n      <td>1</td>\n      <td>1</td>\n      <td>1</td>\n      <td>1</td>\n      <td>1</td>\n      <td>1</td>\n      <td>0</td>\n      <td>1</td>\n      <td>1</td>\n      <td>1</td>\n      <td>0</td>\n      <td>0</td>\n      <td>1</td>\n      <td>0</td>\n      <td>0</td>\n      <td>0</td>\n      <td>1</td>\n      <td>1</td>\n      <td>1</td>\n      <td>1</td>\n    </tr>\n    <tr>\n      <th>G</th>\n      <td>2</td>\n      <td>2</td>\n      <td>2</td>\n      <td>2</td>\n      <td>2</td>\n      <td>2</td>\n      <td>0</td>\n      <td>0</td>\n      <td>2</td>\n      <td>2</td>\n      <td>0</td>\n      <td>0</td>\n      <td>0</td>\n      <td>0</td>\n      <td>0</td>\n      <td>0</td>\n      <td>2</td>\n      <td>2</td>\n      <td>2</td>\n      <td>2</td>\n    </tr>\n    <tr>\n      <th>GCMT</th>\n      <td>56</td>\n      <td>56</td>\n      <td>56</td>\n      <td>56</td>\n      <td>56</td>\n      <td>56</td>\n      <td>0</td>\n      <td>1</td>\n      <td>56</td>\n      <td>56</td>\n      <td>0</td>\n      <td>0</td>\n      <td>1</td>\n      <td>0</td>\n      <td>0</td>\n      <td>0</td>\n      <td>56</td>\n      <td>56</td>\n      <td>56</td>\n      <td>56</td>\n    </tr>\n    <tr>\n      <th>GUC</th>\n      <td>46</td>\n      <td>46</td>\n      <td>46</td>\n      <td>46</td>\n      <td>46</td>\n      <td>46</td>\n      <td>9</td>\n      <td>37</td>\n      <td>46</td>\n      <td>46</td>\n      <td>1</td>\n      <td>3</td>\n      <td>37</td>\n      <td>0</td>\n      <td>2</td>\n      <td>9</td>\n      <td>46</td>\n      <td>46</td>\n      <td>46</td>\n      <td>46</td>\n    </tr>\n    <tr>\n      <th>H</th>\n      <td>7</td>\n      <td>7</td>\n      <td>7</td>\n      <td>7</td>\n      <td>7</td>\n      <td>7</td>\n      <td>0</td>\n      <td>0</td>\n      <td>7</td>\n      <td>7</td>\n      <td>0</td>\n      <td>0</td>\n      <td>0</td>\n      <td>0</td>\n      <td>0</td>\n      <td>0</td>\n      <td>7</td>\n      <td>7</td>\n      <td>7</td>\n      <td>7</td>\n    </tr>\n    <tr>\n      <th>HVO</th>\n      <td>12</td>\n      <td>12</td>\n      <td>12</td>\n      <td>12</td>\n      <td>12</td>\n      <td>12</td>\n      <td>0</td>\n      <td>2</td>\n      <td>12</td>\n      <td>12</td>\n      <td>0</td>\n      <td>3</td>\n      <td>2</td>\n      <td>0</td>\n      <td>0</td>\n      <td>0</td>\n      <td>12</td>\n      <td>12</td>\n      <td>12</td>\n      <td>12</td>\n    </tr>\n    <tr>\n      <th>ISCGEM</th>\n      <td>2581</td>\n      <td>2581</td>\n      <td>2581</td>\n      <td>2581</td>\n      <td>2581</td>\n      <td>2581</td>\n      <td>0</td>\n      <td>0</td>\n      <td>2581</td>\n      <td>2581</td>\n      <td>0</td>\n      <td>0</td>\n      <td>0</td>\n      <td>0</td>\n      <td>0</td>\n      <td>0</td>\n      <td>2581</td>\n      <td>2581</td>\n      <td>2581</td>\n      <td>2581</td>\n    </tr>\n    <tr>\n      <th>ISK</th>\n      <td>15</td>\n      <td>15</td>\n      <td>15</td>\n      <td>15</td>\n      <td>15</td>\n      <td>15</td>\n      <td>0</td>\n      <td>14</td>\n      <td>15</td>\n      <td>15</td>\n      <td>0</td>\n      <td>3</td>\n      <td>13</td>\n      <td>0</td>\n      <td>0</td>\n      <td>0</td>\n      <td>15</td>\n      <td>15</td>\n      <td>15</td>\n      <td>15</td>\n    </tr>\n    <tr>\n      <th>JMA</th>\n      <td>3</td>\n      <td>3</td>\n      <td>3</td>\n      <td>3</td>\n      <td>3</td>\n      <td>3</td>\n      <td>0</td>\n      <td>3</td>\n      <td>3</td>\n      <td>3</td>\n      <td>0</td>\n      <td>0</td>\n      <td>3</td>\n      <td>0</td>\n      <td>0</td>\n      <td>0</td>\n      <td>3</td>\n      <td>3</td>\n      <td>3</td>\n      <td>3</td>\n    </tr>\n    <tr>\n      <th>LIM</th>\n      <td>1</td>\n      <td>1</td>\n      <td>1</td>\n      <td>1</td>\n      <td>1</td>\n      <td>1</td>\n      <td>0</td>\n      <td>1</td>\n      <td>1</td>\n      <td>1</td>\n      <td>0</td>\n      <td>0</td>\n      <td>1</td>\n      <td>0</td>\n      <td>0</td>\n      <td>0</td>\n      <td>1</td>\n      <td>1</td>\n      <td>1</td>\n      <td>1</td>\n    </tr>\n    <tr>\n      <th>MDD</th>\n      <td>2</td>\n      <td>2</td>\n      <td>2</td>\n      <td>2</td>\n      <td>2</td>\n      <td>2</td>\n      <td>0</td>\n      <td>2</td>\n      <td>2</td>\n      <td>2</td>\n      <td>0</td>\n      <td>0</td>\n      <td>2</td>\n      <td>0</td>\n      <td>0</td>\n      <td>0</td>\n      <td>2</td>\n      <td>2</td>\n      <td>2</td>\n      <td>2</td>\n    </tr>\n    <tr>\n      <th>NC</th>\n      <td>54</td>\n      <td>54</td>\n      <td>54</td>\n      <td>54</td>\n      <td>54</td>\n      <td>54</td>\n      <td>51</td>\n      <td>51</td>\n      <td>54</td>\n      <td>54</td>\n      <td>0</td>\n      <td>51</td>\n      <td>52</td>\n      <td>51</td>\n      <td>51</td>\n      <td>51</td>\n      <td>54</td>\n      <td>54</td>\n      <td>54</td>\n      <td>54</td>\n    </tr>\n    <tr>\n      <th>NN</th>\n      <td>4</td>\n      <td>4</td>\n      <td>4</td>\n      <td>4</td>\n      <td>4</td>\n      <td>4</td>\n      <td>4</td>\n      <td>4</td>\n      <td>4</td>\n      <td>4</td>\n      <td>4</td>\n      <td>4</td>\n      <td>4</td>\n      <td>4</td>\n      <td>1</td>\n      <td>4</td>\n      <td>4</td>\n      <td>4</td>\n      <td>4</td>\n      <td>4</td>\n    </tr>\n    <tr>\n      <th>OTT</th>\n      <td>1</td>\n      <td>1</td>\n      <td>1</td>\n      <td>1</td>\n      <td>1</td>\n      <td>1</td>\n      <td>0</td>\n      <td>0</td>\n      <td>1</td>\n      <td>1</td>\n      <td>0</td>\n      <td>0</td>\n      <td>0</td>\n      <td>0</td>\n      <td>0</td>\n      <td>0</td>\n      <td>1</td>\n      <td>1</td>\n      <td>1</td>\n      <td>1</td>\n    </tr>\n    <tr>\n      <th>PGC</th>\n      <td>19</td>\n      <td>19</td>\n      <td>19</td>\n      <td>19</td>\n      <td>19</td>\n      <td>19</td>\n      <td>1</td>\n      <td>11</td>\n      <td>19</td>\n      <td>19</td>\n      <td>0</td>\n      <td>0</td>\n      <td>2</td>\n      <td>0</td>\n      <td>0</td>\n      <td>1</td>\n      <td>19</td>\n      <td>19</td>\n      <td>19</td>\n      <td>19</td>\n    </tr>\n    <tr>\n      <th>PR</th>\n      <td>1</td>\n      <td>1</td>\n      <td>1</td>\n      <td>1</td>\n      <td>1</td>\n      <td>1</td>\n      <td>1</td>\n      <td>1</td>\n      <td>1</td>\n      <td>1</td>\n      <td>1</td>\n      <td>1</td>\n      <td>1</td>\n      <td>1</td>\n      <td>1</td>\n      <td>1</td>\n      <td>1</td>\n      <td>1</td>\n      <td>1</td>\n      <td>1</td>\n    </tr>\n    <tr>\n      <th>ROM</th>\n      <td>7</td>\n      <td>7</td>\n      <td>7</td>\n      <td>7</td>\n      <td>7</td>\n      <td>7</td>\n      <td>0</td>\n      <td>7</td>\n      <td>7</td>\n      <td>7</td>\n      <td>0</td>\n      <td>0</td>\n      <td>6</td>\n      <td>0</td>\n      <td>0</td>\n      <td>0</td>\n      <td>7</td>\n      <td>7</td>\n      <td>7</td>\n      <td>7</td>\n    </tr>\n    <tr>\n      <th>RSPR</th>\n      <td>3</td>\n      <td>3</td>\n      <td>3</td>\n      <td>3</td>\n      <td>3</td>\n      <td>3</td>\n      <td>0</td>\n      <td>3</td>\n      <td>3</td>\n      <td>3</td>\n      <td>0</td>\n      <td>0</td>\n      <td>3</td>\n      <td>0</td>\n      <td>0</td>\n      <td>0</td>\n      <td>3</td>\n      <td>3</td>\n      <td>3</td>\n      <td>3</td>\n    </tr>\n    <tr>\n      <th>SE</th>\n      <td>1</td>\n      <td>1</td>\n      <td>1</td>\n      <td>1</td>\n      <td>1</td>\n      <td>1</td>\n      <td>1</td>\n      <td>1</td>\n      <td>1</td>\n      <td>1</td>\n      <td>0</td>\n      <td>1</td>\n      <td>1</td>\n      <td>0</td>\n      <td>1</td>\n      <td>1</td>\n      <td>1</td>\n      <td>1</td>\n      <td>1</td>\n      <td>1</td>\n    </tr>\n    <tr>\n      <th>SJA</th>\n      <td>1</td>\n      <td>1</td>\n      <td>1</td>\n      <td>1</td>\n      <td>1</td>\n      <td>1</td>\n      <td>0</td>\n      <td>1</td>\n      <td>1</td>\n      <td>1</td>\n      <td>0</td>\n      <td>0</td>\n      <td>1</td>\n      <td>0</td>\n      <td>0</td>\n      <td>0</td>\n      <td>1</td>\n      <td>1</td>\n      <td>1</td>\n      <td>1</td>\n    </tr>\n    <tr>\n      <th>SLC</th>\n      <td>1</td>\n      <td>1</td>\n      <td>1</td>\n      <td>1</td>\n      <td>1</td>\n      <td>1</td>\n      <td>0</td>\n      <td>0</td>\n      <td>1</td>\n      <td>1</td>\n      <td>0</td>\n      <td>1</td>\n      <td>0</td>\n      <td>0</td>\n      <td>0</td>\n      <td>0</td>\n      <td>1</td>\n      <td>1</td>\n      <td>1</td>\n      <td>1</td>\n    </tr>\n    <tr>\n      <th>SPE</th>\n      <td>10</td>\n      <td>10</td>\n      <td>10</td>\n      <td>10</td>\n      <td>10</td>\n      <td>10</td>\n      <td>0</td>\n      <td>0</td>\n      <td>10</td>\n      <td>10</td>\n      <td>0</td>\n      <td>6</td>\n      <td>0</td>\n      <td>0</td>\n      <td>0</td>\n      <td>0</td>\n      <td>10</td>\n      <td>10</td>\n      <td>10</td>\n      <td>10</td>\n    </tr>\n    <tr>\n      <th>TAP</th>\n      <td>1</td>\n      <td>1</td>\n      <td>1</td>\n      <td>1</td>\n      <td>1</td>\n      <td>1</td>\n      <td>0</td>\n      <td>1</td>\n      <td>1</td>\n      <td>1</td>\n      <td>0</td>\n      <td>0</td>\n      <td>1</td>\n      <td>0</td>\n      <td>0</td>\n      <td>0</td>\n      <td>1</td>\n      <td>1</td>\n      <td>1</td>\n      <td>1</td>\n    </tr>\n    <tr>\n      <th>TEH</th>\n      <td>7</td>\n      <td>7</td>\n      <td>7</td>\n      <td>7</td>\n      <td>7</td>\n      <td>7</td>\n      <td>4</td>\n      <td>3</td>\n      <td>7</td>\n      <td>7</td>\n      <td>3</td>\n      <td>2</td>\n      <td>3</td>\n      <td>0</td>\n      <td>1</td>\n      <td>4</td>\n      <td>7</td>\n      <td>7</td>\n      <td>7</td>\n      <td>7</td>\n    </tr>\n    <tr>\n      <th>THE</th>\n      <td>3</td>\n      <td>3</td>\n      <td>3</td>\n      <td>3</td>\n      <td>3</td>\n      <td>3</td>\n      <td>1</td>\n      <td>1</td>\n      <td>3</td>\n      <td>3</td>\n      <td>0</td>\n      <td>0</td>\n      <td>1</td>\n      <td>0</td>\n      <td>1</td>\n      <td>1</td>\n      <td>3</td>\n      <td>3</td>\n      <td>3</td>\n      <td>3</td>\n    </tr>\n    <tr>\n      <th>THR</th>\n      <td>3</td>\n      <td>3</td>\n      <td>3</td>\n      <td>3</td>\n      <td>3</td>\n      <td>3</td>\n      <td>0</td>\n      <td>3</td>\n      <td>3</td>\n      <td>3</td>\n      <td>0</td>\n      <td>0</td>\n      <td>3</td>\n      <td>0</td>\n      <td>0</td>\n      <td>0</td>\n      <td>3</td>\n      <td>3</td>\n      <td>3</td>\n      <td>3</td>\n    </tr>\n    <tr>\n      <th>TUL</th>\n      <td>2</td>\n      <td>2</td>\n      <td>2</td>\n      <td>2</td>\n      <td>2</td>\n      <td>2</td>\n      <td>1</td>\n      <td>1</td>\n      <td>2</td>\n      <td>2</td>\n      <td>0</td>\n      <td>0</td>\n      <td>2</td>\n      <td>0</td>\n      <td>1</td>\n      <td>1</td>\n      <td>2</td>\n      <td>2</td>\n      <td>2</td>\n      <td>2</td>\n    </tr>\n    <tr>\n      <th>U</th>\n      <td>1</td>\n      <td>1</td>\n      <td>1</td>\n      <td>1</td>\n      <td>1</td>\n      <td>1</td>\n      <td>0</td>\n      <td>0</td>\n      <td>1</td>\n      <td>1</td>\n      <td>0</td>\n      <td>0</td>\n      <td>0</td>\n      <td>0</td>\n      <td>0</td>\n      <td>0</td>\n      <td>1</td>\n      <td>1</td>\n      <td>1</td>\n      <td>1</td>\n    </tr>\n    <tr>\n      <th>UCR</th>\n      <td>1</td>\n      <td>1</td>\n      <td>1</td>\n      <td>1</td>\n      <td>1</td>\n      <td>1</td>\n      <td>0</td>\n      <td>1</td>\n      <td>1</td>\n      <td>1</td>\n      <td>0</td>\n      <td>0</td>\n      <td>1</td>\n      <td>0</td>\n      <td>0</td>\n      <td>0</td>\n      <td>1</td>\n      <td>1</td>\n      <td>1</td>\n      <td>1</td>\n    </tr>\n    <tr>\n      <th>UNM</th>\n      <td>21</td>\n      <td>21</td>\n      <td>21</td>\n      <td>21</td>\n      <td>21</td>\n      <td>21</td>\n      <td>4</td>\n      <td>17</td>\n      <td>21</td>\n      <td>21</td>\n      <td>0</td>\n      <td>0</td>\n      <td>17</td>\n      <td>0</td>\n      <td>3</td>\n      <td>4</td>\n      <td>21</td>\n      <td>21</td>\n      <td>21</td>\n      <td>21</td>\n    </tr>\n    <tr>\n      <th>US</th>\n      <td>20350</td>\n      <td>20350</td>\n      <td>20350</td>\n      <td>20350</td>\n      <td>20350</td>\n      <td>20350</td>\n      <td>4311</td>\n      <td>6796</td>\n      <td>20350</td>\n      <td>20350</td>\n      <td>291</td>\n      <td>2408</td>\n      <td>7014</td>\n      <td>1523</td>\n      <td>1044</td>\n      <td>17189</td>\n      <td>20350</td>\n      <td>20350</td>\n      <td>20350</td>\n      <td>20350</td>\n    </tr>\n    <tr>\n      <th>US_WEL</th>\n      <td>4</td>\n      <td>4</td>\n      <td>4</td>\n      <td>4</td>\n      <td>4</td>\n      <td>4</td>\n      <td>4</td>\n      <td>0</td>\n      <td>4</td>\n      <td>4</td>\n      <td>1</td>\n      <td>0</td>\n      <td>0</td>\n      <td>0</td>\n      <td>0</td>\n      <td>4</td>\n      <td>4</td>\n      <td>4</td>\n      <td>4</td>\n      <td>4</td>\n    </tr>\n    <tr>\n      <th>UW</th>\n      <td>6</td>\n      <td>6</td>\n      <td>6</td>\n      <td>6</td>\n      <td>6</td>\n      <td>6</td>\n      <td>6</td>\n      <td>6</td>\n      <td>6</td>\n      <td>6</td>\n      <td>5</td>\n      <td>6</td>\n      <td>6</td>\n      <td>2</td>\n      <td>6</td>\n      <td>6</td>\n      <td>6</td>\n      <td>6</td>\n      <td>6</td>\n      <td>6</td>\n    </tr>\n    <tr>\n      <th>WEL</th>\n      <td>18</td>\n      <td>18</td>\n      <td>18</td>\n      <td>18</td>\n      <td>18</td>\n      <td>18</td>\n      <td>0</td>\n      <td>18</td>\n      <td>18</td>\n      <td>18</td>\n      <td>0</td>\n      <td>1</td>\n      <td>18</td>\n      <td>0</td>\n      <td>0</td>\n      <td>0</td>\n      <td>18</td>\n      <td>18</td>\n      <td>18</td>\n      <td>18</td>\n    </tr>\n  </tbody>\n</table>\n</div>"
     },
     "execution_count": 193,
     "metadata": {},
     "output_type": "execute_result"
    }
   ],
   "source": [
    "df.groupby(\"Location Source\").count()"
   ],
   "metadata": {
    "collapsed": false,
    "ExecuteTime": {
     "end_time": "2024-01-02T21:20:58.750349Z",
     "start_time": "2024-01-02T21:20:58.713569Z"
    }
   },
   "id": "2246b0263bb0a87d",
   "execution_count": 193
  },
  {
   "cell_type": "code",
   "outputs": [
    {
     "data": {
      "text/plain": "16315"
     },
     "execution_count": 188,
     "metadata": {},
     "output_type": "execute_result"
    }
   ],
   "source": [
    "df[\"Depth Seismic Stations\"].isnull().sum()"
   ],
   "metadata": {
    "collapsed": false,
    "ExecuteTime": {
     "end_time": "2024-01-02T21:14:09.905436Z",
     "start_time": "2024-01-02T21:14:09.885479Z"
    }
   },
   "id": "4e8712779cad1ff0",
   "execution_count": 188
  },
  {
   "cell_type": "code",
   "outputs": [
    {
     "data": {
      "text/plain": "23085"
     },
     "execution_count": 189,
     "metadata": {},
     "output_type": "execute_result"
    }
   ],
   "source": [
    "df[\"Magnitude Error\"].isnull().sum()"
   ],
   "metadata": {
    "collapsed": false,
    "ExecuteTime": {
     "end_time": "2024-01-02T21:14:25.319915Z",
     "start_time": "2024-01-02T21:14:25.291176Z"
    }
   },
   "id": "7ab9a2c0b3da762b",
   "execution_count": 189
  },
  {
   "cell_type": "code",
   "outputs": [
    {
     "data": {
      "text/plain": "20848"
     },
     "execution_count": 190,
     "metadata": {},
     "output_type": "execute_result"
    }
   ],
   "source": [
    "df[\"Magnitude Seismic Stations\"].isnull().sum()"
   ],
   "metadata": {
    "collapsed": false,
    "ExecuteTime": {
     "end_time": "2024-01-02T21:14:42.140366Z",
     "start_time": "2024-01-02T21:14:42.116876Z"
    }
   },
   "id": "88588b2e20bdb7c4",
   "execution_count": 190
  },
  {
   "cell_type": "code",
   "outputs": [],
   "source": [],
   "metadata": {
    "collapsed": false
   },
   "id": "77d24ff0cf644163"
  }
 ],
 "metadata": {
  "kernelspec": {
   "display_name": "Python 3",
   "language": "python",
   "name": "python3"
  },
  "language_info": {
   "codemirror_mode": {
    "name": "ipython",
    "version": 2
   },
   "file_extension": ".py",
   "mimetype": "text/x-python",
   "name": "python",
   "nbconvert_exporter": "python",
   "pygments_lexer": "ipython2",
   "version": "2.7.6"
  }
 },
 "nbformat": 4,
 "nbformat_minor": 5
}

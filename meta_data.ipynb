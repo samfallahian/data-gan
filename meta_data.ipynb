{
 "cells": [
  {
   "cell_type": "code",
   "execution_count": 1,
   "id": "initial_id",
   "metadata": {
    "collapsed": true,
    "ExecuteTime": {
     "end_time": "2024-01-03T17:52:01.325390Z",
     "start_time": "2024-01-03T17:51:59.068761Z"
    }
   },
   "outputs": [
    {
     "name": "stdout",
     "output_type": "stream",
     "text": [
      "1.8.0\n"
     ]
    }
   ],
   "source": [
    "import sdv\n",
    "import pandas as pd\n",
    "print(sdv.__version__)"
   ]
  },
  {
   "cell_type": "code",
   "outputs": [],
   "source": [
    "from sdv.metadata import SingleTableMetadata"
   ],
   "metadata": {
    "collapsed": false,
    "ExecuteTime": {
     "end_time": "2024-01-03T17:52:05.458820Z",
     "start_time": "2024-01-03T17:52:05.456074Z"
    }
   },
   "id": "a2e5a8aaf140ebcd",
   "execution_count": 2
  },
  {
   "cell_type": "markdown",
   "source": [
    "#### Air Quality"
   ],
   "metadata": {
    "collapsed": false
   },
   "id": "cede47896fffcf18"
  },
  {
   "cell_type": "code",
   "outputs": [],
   "source": [
    "df = pd.read_csv('dataset/AirQuality/AirQuality_final.csv')"
   ],
   "metadata": {
    "collapsed": false,
    "ExecuteTime": {
     "end_time": "2024-01-03T17:54:34.537860Z",
     "start_time": "2024-01-03T17:54:34.528175Z"
    }
   },
   "id": "97fb0ad5d76338f6",
   "execution_count": 3
  },
  {
   "cell_type": "code",
   "outputs": [],
   "source": [
    "df.drop(columns=[\"Date\", \"Time\"], inplace=True)"
   ],
   "metadata": {
    "collapsed": false,
    "ExecuteTime": {
     "end_time": "2024-01-03T18:10:36.557944Z",
     "start_time": "2024-01-03T18:10:36.555222Z"
    }
   },
   "id": "488da60130c1d377",
   "execution_count": 27
  },
  {
   "cell_type": "code",
   "outputs": [
    {
     "data": {
      "text/plain": "CO(GT)           float64\nPT08.S1(CO)        int64\nNMHC(GT)           int64\nC6H6(GT)         float64\nPT08.S2(NMHC)      int64\nNOx(GT)            int64\nPT08.S3(NOx)       int64\nNO2(GT)            int64\nPT08.S4(NO2)       int64\nPT08.S5(O3)        int64\nT                float64\nRH               float64\nAH               float64\nyear               int64\nmonth              int64\nday                int64\nhour               int64\ndtype: object"
     },
     "execution_count": 28,
     "metadata": {},
     "output_type": "execute_result"
    }
   ],
   "source": [
    "df.dtypes"
   ],
   "metadata": {
    "collapsed": false,
    "ExecuteTime": {
     "end_time": "2024-01-03T18:10:39.132939Z",
     "start_time": "2024-01-03T18:10:39.130632Z"
    }
   },
   "id": "4e618bce21f72e15",
   "execution_count": 28
  },
  {
   "cell_type": "code",
   "outputs": [
    {
     "data": {
      "text/plain": "   CO(GT)  PT08.S1(CO)  NMHC(GT)  C6H6(GT)  PT08.S2(NMHC)  NOx(GT)  \\\n0     2.6         1360       150      11.9           1046      166   \n1     2.0         1292       112       9.4            955      103   \n2     2.2         1402        88       9.0            939      131   \n3     2.2         1376        80       9.2            948      172   \n4     1.6         1272        51       6.5            836      131   \n\n   PT08.S3(NOx)  NO2(GT)  PT08.S4(NO2)  PT08.S5(O3)     T    RH      AH  year  \\\n0          1056      113          1692         1268  13.6  48.9  0.7578  2004   \n1          1174       92          1559          972  13.3  47.7  0.7255  2004   \n2          1140      114          1555         1074  11.9  54.0  0.7502  2004   \n3          1092      122          1584         1203  11.0  60.0  0.7867  2004   \n4          1205      116          1490         1110  11.2  59.6  0.7888  2004   \n\n   month  day  hour  \n0     10    3    18  \n1     10    3    19  \n2     10    3    20  \n3     10    3    21  \n4     10    3    22  ",
      "text/html": "<div>\n<style scoped>\n    .dataframe tbody tr th:only-of-type {\n        vertical-align: middle;\n    }\n\n    .dataframe tbody tr th {\n        vertical-align: top;\n    }\n\n    .dataframe thead th {\n        text-align: right;\n    }\n</style>\n<table border=\"1\" class=\"dataframe\">\n  <thead>\n    <tr style=\"text-align: right;\">\n      <th></th>\n      <th>CO(GT)</th>\n      <th>PT08.S1(CO)</th>\n      <th>NMHC(GT)</th>\n      <th>C6H6(GT)</th>\n      <th>PT08.S2(NMHC)</th>\n      <th>NOx(GT)</th>\n      <th>PT08.S3(NOx)</th>\n      <th>NO2(GT)</th>\n      <th>PT08.S4(NO2)</th>\n      <th>PT08.S5(O3)</th>\n      <th>T</th>\n      <th>RH</th>\n      <th>AH</th>\n      <th>year</th>\n      <th>month</th>\n      <th>day</th>\n      <th>hour</th>\n    </tr>\n  </thead>\n  <tbody>\n    <tr>\n      <th>0</th>\n      <td>2.6</td>\n      <td>1360</td>\n      <td>150</td>\n      <td>11.9</td>\n      <td>1046</td>\n      <td>166</td>\n      <td>1056</td>\n      <td>113</td>\n      <td>1692</td>\n      <td>1268</td>\n      <td>13.6</td>\n      <td>48.9</td>\n      <td>0.7578</td>\n      <td>2004</td>\n      <td>10</td>\n      <td>3</td>\n      <td>18</td>\n    </tr>\n    <tr>\n      <th>1</th>\n      <td>2.0</td>\n      <td>1292</td>\n      <td>112</td>\n      <td>9.4</td>\n      <td>955</td>\n      <td>103</td>\n      <td>1174</td>\n      <td>92</td>\n      <td>1559</td>\n      <td>972</td>\n      <td>13.3</td>\n      <td>47.7</td>\n      <td>0.7255</td>\n      <td>2004</td>\n      <td>10</td>\n      <td>3</td>\n      <td>19</td>\n    </tr>\n    <tr>\n      <th>2</th>\n      <td>2.2</td>\n      <td>1402</td>\n      <td>88</td>\n      <td>9.0</td>\n      <td>939</td>\n      <td>131</td>\n      <td>1140</td>\n      <td>114</td>\n      <td>1555</td>\n      <td>1074</td>\n      <td>11.9</td>\n      <td>54.0</td>\n      <td>0.7502</td>\n      <td>2004</td>\n      <td>10</td>\n      <td>3</td>\n      <td>20</td>\n    </tr>\n    <tr>\n      <th>3</th>\n      <td>2.2</td>\n      <td>1376</td>\n      <td>80</td>\n      <td>9.2</td>\n      <td>948</td>\n      <td>172</td>\n      <td>1092</td>\n      <td>122</td>\n      <td>1584</td>\n      <td>1203</td>\n      <td>11.0</td>\n      <td>60.0</td>\n      <td>0.7867</td>\n      <td>2004</td>\n      <td>10</td>\n      <td>3</td>\n      <td>21</td>\n    </tr>\n    <tr>\n      <th>4</th>\n      <td>1.6</td>\n      <td>1272</td>\n      <td>51</td>\n      <td>6.5</td>\n      <td>836</td>\n      <td>131</td>\n      <td>1205</td>\n      <td>116</td>\n      <td>1490</td>\n      <td>1110</td>\n      <td>11.2</td>\n      <td>59.6</td>\n      <td>0.7888</td>\n      <td>2004</td>\n      <td>10</td>\n      <td>3</td>\n      <td>22</td>\n    </tr>\n  </tbody>\n</table>\n</div>"
     },
     "execution_count": 29,
     "metadata": {},
     "output_type": "execute_result"
    }
   ],
   "source": [
    "df.head()"
   ],
   "metadata": {
    "collapsed": false,
    "ExecuteTime": {
     "end_time": "2024-01-03T18:10:41.383123Z",
     "start_time": "2024-01-03T18:10:41.381030Z"
    }
   },
   "id": "89e31fd7e14005ec",
   "execution_count": 29
  },
  {
   "cell_type": "code",
   "outputs": [
    {
     "name": "stdout",
     "output_type": "stream",
     "text": [
      "{'columns': {'CO(GT)': {'sdtype': 'numerical'}, 'PT08.S1(CO)': {'sdtype': 'numerical'}, 'NMHC(GT)': {'sdtype': 'numerical'}, 'C6H6(GT)': {'sdtype': 'numerical'}, 'PT08.S2(NMHC)': {'sdtype': 'numerical'}, 'NOx(GT)': {'sdtype': 'numerical'}, 'PT08.S3(NOx)': {'sdtype': 'numerical'}, 'NO2(GT)': {'sdtype': 'numerical'}, 'PT08.S4(NO2)': {'sdtype': 'numerical'}, 'PT08.S5(O3)': {'sdtype': 'numerical'}, 'T': {'sdtype': 'numerical'}, 'RH': {'sdtype': 'numerical'}, 'AH': {'sdtype': 'numerical'}, 'year': {'sdtype': 'categorical'}, 'month': {'sdtype': 'numerical'}, 'day': {'sdtype': 'numerical'}, 'hour': {'sdtype': 'numerical'}}, 'METADATA_SPEC_VERSION': 'SINGLE_TABLE_V1'}\n"
     ]
    }
   ],
   "source": [
    "metadata = SingleTableMetadata()\n",
    "metadata.detect_from_dataframe(df)\n",
    "python_dict = metadata.to_dict()\n",
    "print(python_dict)"
   ],
   "metadata": {
    "collapsed": false,
    "ExecuteTime": {
     "end_time": "2024-01-03T18:11:20.928972Z",
     "start_time": "2024-01-03T18:11:20.919245Z"
    }
   },
   "id": "39a0bc4835d73ce3",
   "execution_count": 30
  },
  {
   "cell_type": "code",
   "outputs": [],
   "source": [
    "metadata.save_to_json(filepath='dataset/AirQuality/meta_data.json')\n",
    "df.to_csv('dataset/AirQuality/AirQuality_final.csv', index=False)"
   ],
   "metadata": {
    "collapsed": false,
    "ExecuteTime": {
     "end_time": "2024-01-03T18:12:13.165414Z",
     "start_time": "2024-01-03T18:12:13.140865Z"
    }
   },
   "id": "c8658979bd8bef40",
   "execution_count": 31
  },
  {
   "cell_type": "markdown",
   "source": [
    "### Apartment Rent"
   ],
   "metadata": {
    "collapsed": false
   },
   "id": "23c2e56ad2556cf3"
  },
  {
   "cell_type": "code",
   "outputs": [],
   "source": [
    "df = pd.read_csv(\"dataset/ApartmentRent/apartments_for_rent_final.csv\")"
   ],
   "metadata": {
    "collapsed": false,
    "ExecuteTime": {
     "end_time": "2024-01-03T18:18:27.705101Z",
     "start_time": "2024-01-03T18:18:27.672325Z"
    }
   },
   "id": "d952a5494b010774",
   "execution_count": 32
  },
  {
   "cell_type": "code",
   "outputs": [
    {
     "data": {
      "text/plain": "   bathrooms  bedrooms fee   price  square_feet       cityname state\n0        1.0       1.0  No  2195.0        542.0  Redondo Beach    CA\n1        1.5       3.0  No  1250.0       1500.0   Newport News    VA\n2        2.0       3.0  No  1395.0       1650.0        Raleigh    NC\n3        1.0       2.0  No  1600.0        820.0      Vacaville    CA\n4        1.0       1.0  No   975.0        624.0    Albuquerque    NM",
      "text/html": "<div>\n<style scoped>\n    .dataframe tbody tr th:only-of-type {\n        vertical-align: middle;\n    }\n\n    .dataframe tbody tr th {\n        vertical-align: top;\n    }\n\n    .dataframe thead th {\n        text-align: right;\n    }\n</style>\n<table border=\"1\" class=\"dataframe\">\n  <thead>\n    <tr style=\"text-align: right;\">\n      <th></th>\n      <th>bathrooms</th>\n      <th>bedrooms</th>\n      <th>fee</th>\n      <th>price</th>\n      <th>square_feet</th>\n      <th>cityname</th>\n      <th>state</th>\n    </tr>\n  </thead>\n  <tbody>\n    <tr>\n      <th>0</th>\n      <td>1.0</td>\n      <td>1.0</td>\n      <td>No</td>\n      <td>2195.0</td>\n      <td>542.0</td>\n      <td>Redondo Beach</td>\n      <td>CA</td>\n    </tr>\n    <tr>\n      <th>1</th>\n      <td>1.5</td>\n      <td>3.0</td>\n      <td>No</td>\n      <td>1250.0</td>\n      <td>1500.0</td>\n      <td>Newport News</td>\n      <td>VA</td>\n    </tr>\n    <tr>\n      <th>2</th>\n      <td>2.0</td>\n      <td>3.0</td>\n      <td>No</td>\n      <td>1395.0</td>\n      <td>1650.0</td>\n      <td>Raleigh</td>\n      <td>NC</td>\n    </tr>\n    <tr>\n      <th>3</th>\n      <td>1.0</td>\n      <td>2.0</td>\n      <td>No</td>\n      <td>1600.0</td>\n      <td>820.0</td>\n      <td>Vacaville</td>\n      <td>CA</td>\n    </tr>\n    <tr>\n      <th>4</th>\n      <td>1.0</td>\n      <td>1.0</td>\n      <td>No</td>\n      <td>975.0</td>\n      <td>624.0</td>\n      <td>Albuquerque</td>\n      <td>NM</td>\n    </tr>\n  </tbody>\n</table>\n</div>"
     },
     "execution_count": 37,
     "metadata": {},
     "output_type": "execute_result"
    }
   ],
   "source": [
    "df.head()"
   ],
   "metadata": {
    "collapsed": false,
    "ExecuteTime": {
     "end_time": "2024-01-03T18:20:13.322700Z",
     "start_time": "2024-01-03T18:20:13.318129Z"
    }
   },
   "id": "29519c24c41356f3",
   "execution_count": 37
  },
  {
   "cell_type": "code",
   "outputs": [
    {
     "data": {
      "text/plain": "bathrooms      float64\nbedrooms       float64\nfee             object\nprice          float64\nsquare_feet    float64\ncityname        object\nstate           object\ndtype: object"
     },
     "execution_count": 38,
     "metadata": {},
     "output_type": "execute_result"
    }
   ],
   "source": [
    "df.dtypes"
   ],
   "metadata": {
    "collapsed": false,
    "ExecuteTime": {
     "end_time": "2024-01-03T18:20:13.726630Z",
     "start_time": "2024-01-03T18:20:13.723508Z"
    }
   },
   "id": "53ad5094c7443f4e",
   "execution_count": 38
  },
  {
   "cell_type": "code",
   "outputs": [],
   "source": [
    "df.drop(columns=[\"id\"], inplace=True)"
   ],
   "metadata": {
    "collapsed": false,
    "ExecuteTime": {
     "end_time": "2024-01-03T18:20:10.605350Z",
     "start_time": "2024-01-03T18:20:10.600529Z"
    }
   },
   "id": "8dc6a86c14ce58a4",
   "execution_count": 36
  },
  {
   "cell_type": "code",
   "outputs": [
    {
     "name": "stdout",
     "output_type": "stream",
     "text": [
      "{'columns': {'bathrooms': {'sdtype': 'numerical'}, 'bedrooms': {'sdtype': 'categorical'}, 'fee': {'sdtype': 'categorical'}, 'price': {'sdtype': 'numerical'}, 'square_feet': {'sdtype': 'numerical'}, 'cityname': {'sdtype': 'city', 'pii': True}, 'state': {'sdtype': 'administrative_unit', 'pii': True}}, 'METADATA_SPEC_VERSION': 'SINGLE_TABLE_V1'}\n"
     ]
    }
   ],
   "source": [
    "metadata = SingleTableMetadata()\n",
    "metadata.detect_from_dataframe(df)\n",
    "python_dict = metadata.to_dict()\n",
    "print(python_dict)"
   ],
   "metadata": {
    "collapsed": false,
    "ExecuteTime": {
     "end_time": "2024-01-03T18:20:26.361492Z",
     "start_time": "2024-01-03T18:20:26.339494Z"
    }
   },
   "id": "312b8a6f3dd0e0a5",
   "execution_count": 39
  },
  {
   "cell_type": "code",
   "outputs": [],
   "source": [
    "metadata.save_to_json(filepath='dataset/ApartmentRent/meta_data.json')\n",
    "df.to_csv('dataset/ApartmentRent/apartments_for_rent_final.csv', index=False)"
   ],
   "metadata": {
    "collapsed": false,
    "ExecuteTime": {
     "end_time": "2024-01-03T18:20:57.238935Z",
     "start_time": "2024-01-03T18:20:57.121325Z"
    }
   },
   "id": "62cd9ebc4069ae85",
   "execution_count": 40
  },
  {
   "cell_type": "markdown",
   "source": [
    "### Bank Marketing"
   ],
   "metadata": {
    "collapsed": false
   },
   "id": "6ffad3b4f5d41cdf"
  },
  {
   "cell_type": "code",
   "outputs": [],
   "source": [
    "df = pd.read_csv(\"dataset/BankMarketing/bank-final.csv\")"
   ],
   "metadata": {
    "collapsed": false,
    "ExecuteTime": {
     "end_time": "2024-01-03T18:23:22.659973Z",
     "start_time": "2024-01-03T18:23:22.629283Z"
    }
   },
   "id": "1216bfbc8b5d4728",
   "execution_count": 41
  },
  {
   "cell_type": "code",
   "outputs": [
    {
     "data": {
      "text/plain": "   age        job  marital    education  default housing loan    contact  \\\n0   56  housemaid  married     basic.4y       no      no   no  telephone   \n1   57   services  married  high.school  unknown      no   no  telephone   \n2   37   services  married  high.school       no     yes   no  telephone   \n3   40     admin.  married     basic.6y       no      no   no  telephone   \n4   56   services  married  high.school       no      no  yes  telephone   \n\n  month day_of_week  duration  campaign  previous     poutcome   y  \n0   may         mon       261         1         0  nonexistent  no  \n1   may         mon       149         1         0  nonexistent  no  \n2   may         mon       226         1         0  nonexistent  no  \n3   may         mon       151         1         0  nonexistent  no  \n4   may         mon       307         1         0  nonexistent  no  ",
      "text/html": "<div>\n<style scoped>\n    .dataframe tbody tr th:only-of-type {\n        vertical-align: middle;\n    }\n\n    .dataframe tbody tr th {\n        vertical-align: top;\n    }\n\n    .dataframe thead th {\n        text-align: right;\n    }\n</style>\n<table border=\"1\" class=\"dataframe\">\n  <thead>\n    <tr style=\"text-align: right;\">\n      <th></th>\n      <th>age</th>\n      <th>job</th>\n      <th>marital</th>\n      <th>education</th>\n      <th>default</th>\n      <th>housing</th>\n      <th>loan</th>\n      <th>contact</th>\n      <th>month</th>\n      <th>day_of_week</th>\n      <th>duration</th>\n      <th>campaign</th>\n      <th>previous</th>\n      <th>poutcome</th>\n      <th>y</th>\n    </tr>\n  </thead>\n  <tbody>\n    <tr>\n      <th>0</th>\n      <td>56</td>\n      <td>housemaid</td>\n      <td>married</td>\n      <td>basic.4y</td>\n      <td>no</td>\n      <td>no</td>\n      <td>no</td>\n      <td>telephone</td>\n      <td>may</td>\n      <td>mon</td>\n      <td>261</td>\n      <td>1</td>\n      <td>0</td>\n      <td>nonexistent</td>\n      <td>no</td>\n    </tr>\n    <tr>\n      <th>1</th>\n      <td>57</td>\n      <td>services</td>\n      <td>married</td>\n      <td>high.school</td>\n      <td>unknown</td>\n      <td>no</td>\n      <td>no</td>\n      <td>telephone</td>\n      <td>may</td>\n      <td>mon</td>\n      <td>149</td>\n      <td>1</td>\n      <td>0</td>\n      <td>nonexistent</td>\n      <td>no</td>\n    </tr>\n    <tr>\n      <th>2</th>\n      <td>37</td>\n      <td>services</td>\n      <td>married</td>\n      <td>high.school</td>\n      <td>no</td>\n      <td>yes</td>\n      <td>no</td>\n      <td>telephone</td>\n      <td>may</td>\n      <td>mon</td>\n      <td>226</td>\n      <td>1</td>\n      <td>0</td>\n      <td>nonexistent</td>\n      <td>no</td>\n    </tr>\n    <tr>\n      <th>3</th>\n      <td>40</td>\n      <td>admin.</td>\n      <td>married</td>\n      <td>basic.6y</td>\n      <td>no</td>\n      <td>no</td>\n      <td>no</td>\n      <td>telephone</td>\n      <td>may</td>\n      <td>mon</td>\n      <td>151</td>\n      <td>1</td>\n      <td>0</td>\n      <td>nonexistent</td>\n      <td>no</td>\n    </tr>\n    <tr>\n      <th>4</th>\n      <td>56</td>\n      <td>services</td>\n      <td>married</td>\n      <td>high.school</td>\n      <td>no</td>\n      <td>no</td>\n      <td>yes</td>\n      <td>telephone</td>\n      <td>may</td>\n      <td>mon</td>\n      <td>307</td>\n      <td>1</td>\n      <td>0</td>\n      <td>nonexistent</td>\n      <td>no</td>\n    </tr>\n  </tbody>\n</table>\n</div>"
     },
     "execution_count": 50,
     "metadata": {},
     "output_type": "execute_result"
    }
   ],
   "source": [
    "df.head()"
   ],
   "metadata": {
    "collapsed": false,
    "ExecuteTime": {
     "end_time": "2024-01-03T18:27:01.510409Z",
     "start_time": "2024-01-03T18:27:01.505454Z"
    }
   },
   "id": "dc65a61d9e7703ad",
   "execution_count": 50
  },
  {
   "cell_type": "code",
   "outputs": [
    {
     "data": {
      "text/plain": "age             int64\njob            object\nmarital        object\neducation      object\ndefault        object\nhousing        object\nloan           object\ncontact        object\nmonth          object\nday_of_week    object\nduration        int64\ncampaign        int64\nprevious        int64\npoutcome       object\ny              object\ndtype: object"
     },
     "execution_count": 51,
     "metadata": {},
     "output_type": "execute_result"
    }
   ],
   "source": [
    "df.dtypes"
   ],
   "metadata": {
    "collapsed": false,
    "ExecuteTime": {
     "end_time": "2024-01-03T18:27:01.857154Z",
     "start_time": "2024-01-03T18:27:01.853624Z"
    }
   },
   "id": "4c7da40b60f30a69",
   "execution_count": 51
  },
  {
   "cell_type": "code",
   "outputs": [],
   "source": [
    "df.drop(columns=[\"pdays\"],inplace=True)"
   ],
   "metadata": {
    "collapsed": false,
    "ExecuteTime": {
     "end_time": "2024-01-03T18:26:57.551424Z",
     "start_time": "2024-01-03T18:26:57.546508Z"
    }
   },
   "id": "7b73ec13c3ec91f6",
   "execution_count": 49
  },
  {
   "cell_type": "code",
   "outputs": [
    {
     "name": "stdout",
     "output_type": "stream",
     "text": [
      "{'columns': {'age': {'sdtype': 'numerical'}, 'job': {'sdtype': 'categorical'}, 'marital': {'sdtype': 'categorical'}, 'education': {'sdtype': 'categorical'}, 'default': {'sdtype': 'categorical'}, 'housing': {'sdtype': 'categorical'}, 'loan': {'sdtype': 'categorical'}, 'contact': {'sdtype': 'categorical'}, 'month': {'sdtype': 'categorical'}, 'day_of_week': {'sdtype': 'categorical'}, 'duration': {'sdtype': 'numerical'}, 'campaign': {'sdtype': 'numerical'}, 'previous': {'sdtype': 'categorical'}, 'poutcome': {'sdtype': 'categorical'}, 'y': {'sdtype': 'categorical'}}, 'METADATA_SPEC_VERSION': 'SINGLE_TABLE_V1'}\n"
     ]
    }
   ],
   "source": [
    "metadata = SingleTableMetadata()\n",
    "metadata.detect_from_dataframe(df)\n",
    "python_dict = metadata.to_dict()\n",
    "print(python_dict)"
   ],
   "metadata": {
    "collapsed": false,
    "ExecuteTime": {
     "end_time": "2024-01-03T18:28:52.881411Z",
     "start_time": "2024-01-03T18:28:52.836105Z"
    }
   },
   "id": "be98834617dda269",
   "execution_count": 56
  },
  {
   "cell_type": "code",
   "outputs": [],
   "source": [
    "metadata.update_column(\n",
    "    column_name='campaign',\n",
    "    sdtype='categorical')\n",
    "metadata.update_column(\n",
    "    column_name='previous',\n",
    "    sdtype='numerical')"
   ],
   "metadata": {
    "collapsed": false,
    "ExecuteTime": {
     "end_time": "2024-01-03T18:31:32.396986Z",
     "start_time": "2024-01-03T18:31:32.394673Z"
    }
   },
   "id": "811ef73a638da5ab",
   "execution_count": 60
  },
  {
   "cell_type": "code",
   "outputs": [
    {
     "name": "stdout",
     "output_type": "stream",
     "text": [
      "{'columns': {'age': {'sdtype': 'numerical'}, 'job': {'sdtype': 'categorical'}, 'marital': {'sdtype': 'categorical'}, 'education': {'sdtype': 'categorical'}, 'default': {'sdtype': 'categorical'}, 'housing': {'sdtype': 'categorical'}, 'loan': {'sdtype': 'categorical'}, 'contact': {'sdtype': 'categorical'}, 'month': {'sdtype': 'categorical'}, 'day_of_week': {'sdtype': 'categorical'}, 'duration': {'sdtype': 'numerical'}, 'campaign': {'sdtype': 'categorical'}, 'previous': {'sdtype': 'numerical'}, 'poutcome': {'sdtype': 'categorical'}, 'y': {'sdtype': 'categorical'}}, 'METADATA_SPEC_VERSION': 'SINGLE_TABLE_V1'}\n"
     ]
    }
   ],
   "source": [
    "python_dict = metadata.to_dict()\n",
    "print(python_dict)"
   ],
   "metadata": {
    "collapsed": false,
    "ExecuteTime": {
     "end_time": "2024-01-03T18:31:34.428769Z",
     "start_time": "2024-01-03T18:31:34.426450Z"
    }
   },
   "id": "529b1aad2ad58d9f",
   "execution_count": 61
  },
  {
   "cell_type": "code",
   "outputs": [],
   "source": [
    "metadata.save_to_json(filepath='dataset/BankMarketing/meta_data.json')\n",
    "df.to_csv('dataset/BankMarketing/bank-final.csv', index=False)"
   ],
   "metadata": {
    "collapsed": false,
    "ExecuteTime": {
     "end_time": "2024-01-03T18:35:47.281797Z",
     "start_time": "2024-01-03T18:35:47.224527Z"
    }
   },
   "id": "538e9a801eac80db",
   "execution_count": 62
  },
  {
   "cell_type": "code",
   "outputs": [],
   "source": [],
   "metadata": {
    "collapsed": false
   },
   "id": "542310d97d7339ce"
  }
 ],
 "metadata": {
  "kernelspec": {
   "display_name": "Python 3",
   "language": "python",
   "name": "python3"
  },
  "language_info": {
   "codemirror_mode": {
    "name": "ipython",
    "version": 2
   },
   "file_extension": ".py",
   "mimetype": "text/x-python",
   "name": "python",
   "nbconvert_exporter": "python",
   "pygments_lexer": "ipython2",
   "version": "2.7.6"
  }
 },
 "nbformat": 4,
 "nbformat_minor": 5
}

{
 "cells": [
  {
   "cell_type": "code",
   "execution_count": 1,
   "id": "initial_id",
   "metadata": {
    "collapsed": true,
    "ExecuteTime": {
     "end_time": "2024-01-09T18:08:03.508898Z",
     "start_time": "2024-01-09T18:08:00.584738Z"
    }
   },
   "outputs": [
    {
     "name": "stdout",
     "output_type": "stream",
     "text": [
      "1.8.0\n"
     ]
    }
   ],
   "source": [
    "import sdv\n",
    "import pandas as pd\n",
    "print(sdv.__version__)"
   ]
  },
  {
   "cell_type": "code",
   "outputs": [],
   "source": [
    "from sdv.metadata import SingleTableMetadata"
   ],
   "metadata": {
    "collapsed": false,
    "ExecuteTime": {
     "end_time": "2024-01-09T18:08:05.192362Z",
     "start_time": "2024-01-09T18:08:05.185414Z"
    }
   },
   "id": "a2e5a8aaf140ebcd",
   "execution_count": 2
  },
  {
   "cell_type": "markdown",
   "source": [
    "#### Air Quality"
   ],
   "metadata": {
    "collapsed": false
   },
   "id": "cede47896fffcf18"
  },
  {
   "cell_type": "code",
   "outputs": [],
   "source": [
    "df = pd.read_csv('dataset/AirQuality/AirQuality_final.csv')"
   ],
   "metadata": {
    "collapsed": false,
    "ExecuteTime": {
     "end_time": "2024-01-03T17:54:34.537860Z",
     "start_time": "2024-01-03T17:54:34.528175Z"
    }
   },
   "id": "97fb0ad5d76338f6",
   "execution_count": 3
  },
  {
   "cell_type": "code",
   "outputs": [],
   "source": [
    "df.drop(columns=[\"Date\", \"Time\"], inplace=True)"
   ],
   "metadata": {
    "collapsed": false,
    "ExecuteTime": {
     "end_time": "2024-01-03T18:10:36.557944Z",
     "start_time": "2024-01-03T18:10:36.555222Z"
    }
   },
   "id": "488da60130c1d377",
   "execution_count": 27
  },
  {
   "cell_type": "code",
   "outputs": [
    {
     "data": {
      "text/plain": "CO(GT)           float64\nPT08.S1(CO)        int64\nNMHC(GT)           int64\nC6H6(GT)         float64\nPT08.S2(NMHC)      int64\nNOx(GT)            int64\nPT08.S3(NOx)       int64\nNO2(GT)            int64\nPT08.S4(NO2)       int64\nPT08.S5(O3)        int64\nT                float64\nRH               float64\nAH               float64\nyear               int64\nmonth              int64\nday                int64\nhour               int64\ndtype: object"
     },
     "execution_count": 28,
     "metadata": {},
     "output_type": "execute_result"
    }
   ],
   "source": [
    "df.dtypes"
   ],
   "metadata": {
    "collapsed": false,
    "ExecuteTime": {
     "end_time": "2024-01-03T18:10:39.132939Z",
     "start_time": "2024-01-03T18:10:39.130632Z"
    }
   },
   "id": "4e618bce21f72e15",
   "execution_count": 28
  },
  {
   "cell_type": "code",
   "outputs": [
    {
     "data": {
      "text/plain": "   CO(GT)  PT08.S1(CO)  NMHC(GT)  C6H6(GT)  PT08.S2(NMHC)  NOx(GT)  \\\n0     2.6         1360       150      11.9           1046      166   \n1     2.0         1292       112       9.4            955      103   \n2     2.2         1402        88       9.0            939      131   \n3     2.2         1376        80       9.2            948      172   \n4     1.6         1272        51       6.5            836      131   \n\n   PT08.S3(NOx)  NO2(GT)  PT08.S4(NO2)  PT08.S5(O3)     T    RH      AH  year  \\\n0          1056      113          1692         1268  13.6  48.9  0.7578  2004   \n1          1174       92          1559          972  13.3  47.7  0.7255  2004   \n2          1140      114          1555         1074  11.9  54.0  0.7502  2004   \n3          1092      122          1584         1203  11.0  60.0  0.7867  2004   \n4          1205      116          1490         1110  11.2  59.6  0.7888  2004   \n\n   month  day  hour  \n0     10    3    18  \n1     10    3    19  \n2     10    3    20  \n3     10    3    21  \n4     10    3    22  ",
      "text/html": "<div>\n<style scoped>\n    .dataframe tbody tr th:only-of-type {\n        vertical-align: middle;\n    }\n\n    .dataframe tbody tr th {\n        vertical-align: top;\n    }\n\n    .dataframe thead th {\n        text-align: right;\n    }\n</style>\n<table border=\"1\" class=\"dataframe\">\n  <thead>\n    <tr style=\"text-align: right;\">\n      <th></th>\n      <th>CO(GT)</th>\n      <th>PT08.S1(CO)</th>\n      <th>NMHC(GT)</th>\n      <th>C6H6(GT)</th>\n      <th>PT08.S2(NMHC)</th>\n      <th>NOx(GT)</th>\n      <th>PT08.S3(NOx)</th>\n      <th>NO2(GT)</th>\n      <th>PT08.S4(NO2)</th>\n      <th>PT08.S5(O3)</th>\n      <th>T</th>\n      <th>RH</th>\n      <th>AH</th>\n      <th>year</th>\n      <th>month</th>\n      <th>day</th>\n      <th>hour</th>\n    </tr>\n  </thead>\n  <tbody>\n    <tr>\n      <th>0</th>\n      <td>2.6</td>\n      <td>1360</td>\n      <td>150</td>\n      <td>11.9</td>\n      <td>1046</td>\n      <td>166</td>\n      <td>1056</td>\n      <td>113</td>\n      <td>1692</td>\n      <td>1268</td>\n      <td>13.6</td>\n      <td>48.9</td>\n      <td>0.7578</td>\n      <td>2004</td>\n      <td>10</td>\n      <td>3</td>\n      <td>18</td>\n    </tr>\n    <tr>\n      <th>1</th>\n      <td>2.0</td>\n      <td>1292</td>\n      <td>112</td>\n      <td>9.4</td>\n      <td>955</td>\n      <td>103</td>\n      <td>1174</td>\n      <td>92</td>\n      <td>1559</td>\n      <td>972</td>\n      <td>13.3</td>\n      <td>47.7</td>\n      <td>0.7255</td>\n      <td>2004</td>\n      <td>10</td>\n      <td>3</td>\n      <td>19</td>\n    </tr>\n    <tr>\n      <th>2</th>\n      <td>2.2</td>\n      <td>1402</td>\n      <td>88</td>\n      <td>9.0</td>\n      <td>939</td>\n      <td>131</td>\n      <td>1140</td>\n      <td>114</td>\n      <td>1555</td>\n      <td>1074</td>\n      <td>11.9</td>\n      <td>54.0</td>\n      <td>0.7502</td>\n      <td>2004</td>\n      <td>10</td>\n      <td>3</td>\n      <td>20</td>\n    </tr>\n    <tr>\n      <th>3</th>\n      <td>2.2</td>\n      <td>1376</td>\n      <td>80</td>\n      <td>9.2</td>\n      <td>948</td>\n      <td>172</td>\n      <td>1092</td>\n      <td>122</td>\n      <td>1584</td>\n      <td>1203</td>\n      <td>11.0</td>\n      <td>60.0</td>\n      <td>0.7867</td>\n      <td>2004</td>\n      <td>10</td>\n      <td>3</td>\n      <td>21</td>\n    </tr>\n    <tr>\n      <th>4</th>\n      <td>1.6</td>\n      <td>1272</td>\n      <td>51</td>\n      <td>6.5</td>\n      <td>836</td>\n      <td>131</td>\n      <td>1205</td>\n      <td>116</td>\n      <td>1490</td>\n      <td>1110</td>\n      <td>11.2</td>\n      <td>59.6</td>\n      <td>0.7888</td>\n      <td>2004</td>\n      <td>10</td>\n      <td>3</td>\n      <td>22</td>\n    </tr>\n  </tbody>\n</table>\n</div>"
     },
     "execution_count": 29,
     "metadata": {},
     "output_type": "execute_result"
    }
   ],
   "source": [
    "df.head()"
   ],
   "metadata": {
    "collapsed": false,
    "ExecuteTime": {
     "end_time": "2024-01-03T18:10:41.383123Z",
     "start_time": "2024-01-03T18:10:41.381030Z"
    }
   },
   "id": "89e31fd7e14005ec",
   "execution_count": 29
  },
  {
   "cell_type": "code",
   "outputs": [
    {
     "name": "stdout",
     "output_type": "stream",
     "text": [
      "{'columns': {'CO(GT)': {'sdtype': 'numerical'}, 'PT08.S1(CO)': {'sdtype': 'numerical'}, 'NMHC(GT)': {'sdtype': 'numerical'}, 'C6H6(GT)': {'sdtype': 'numerical'}, 'PT08.S2(NMHC)': {'sdtype': 'numerical'}, 'NOx(GT)': {'sdtype': 'numerical'}, 'PT08.S3(NOx)': {'sdtype': 'numerical'}, 'NO2(GT)': {'sdtype': 'numerical'}, 'PT08.S4(NO2)': {'sdtype': 'numerical'}, 'PT08.S5(O3)': {'sdtype': 'numerical'}, 'T': {'sdtype': 'numerical'}, 'RH': {'sdtype': 'numerical'}, 'AH': {'sdtype': 'numerical'}, 'year': {'sdtype': 'categorical'}, 'month': {'sdtype': 'numerical'}, 'day': {'sdtype': 'numerical'}, 'hour': {'sdtype': 'numerical'}}, 'METADATA_SPEC_VERSION': 'SINGLE_TABLE_V1'}\n"
     ]
    }
   ],
   "source": [
    "metadata = SingleTableMetadata()\n",
    "metadata.detect_from_dataframe(df)\n",
    "python_dict = metadata.to_dict()\n",
    "print(python_dict)"
   ],
   "metadata": {
    "collapsed": false,
    "ExecuteTime": {
     "end_time": "2024-01-03T18:11:20.928972Z",
     "start_time": "2024-01-03T18:11:20.919245Z"
    }
   },
   "id": "39a0bc4835d73ce3",
   "execution_count": 30
  },
  {
   "cell_type": "code",
   "outputs": [],
   "source": [
    "metadata.save_to_json(filepath='dataset/AirQuality/meta_data.json')\n",
    "df.to_csv('dataset/AirQuality/AirQuality_final.csv', index=False)"
   ],
   "metadata": {
    "collapsed": false,
    "ExecuteTime": {
     "end_time": "2024-01-03T18:12:13.165414Z",
     "start_time": "2024-01-03T18:12:13.140865Z"
    }
   },
   "id": "c8658979bd8bef40",
   "execution_count": 31
  },
  {
   "cell_type": "markdown",
   "source": [
    "### Apartment Rent"
   ],
   "metadata": {
    "collapsed": false
   },
   "id": "23c2e56ad2556cf3"
  },
  {
   "cell_type": "code",
   "outputs": [],
   "source": [
    "df = pd.read_csv(\"dataset/ApartmentRent/apartments_for_rent_final.csv\")"
   ],
   "metadata": {
    "collapsed": false,
    "ExecuteTime": {
     "end_time": "2024-01-03T18:18:27.705101Z",
     "start_time": "2024-01-03T18:18:27.672325Z"
    }
   },
   "id": "d952a5494b010774",
   "execution_count": 32
  },
  {
   "cell_type": "code",
   "outputs": [
    {
     "data": {
      "text/plain": "   bathrooms  bedrooms fee   price  square_feet       cityname state\n0        1.0       1.0  No  2195.0        542.0  Redondo Beach    CA\n1        1.5       3.0  No  1250.0       1500.0   Newport News    VA\n2        2.0       3.0  No  1395.0       1650.0        Raleigh    NC\n3        1.0       2.0  No  1600.0        820.0      Vacaville    CA\n4        1.0       1.0  No   975.0        624.0    Albuquerque    NM",
      "text/html": "<div>\n<style scoped>\n    .dataframe tbody tr th:only-of-type {\n        vertical-align: middle;\n    }\n\n    .dataframe tbody tr th {\n        vertical-align: top;\n    }\n\n    .dataframe thead th {\n        text-align: right;\n    }\n</style>\n<table border=\"1\" class=\"dataframe\">\n  <thead>\n    <tr style=\"text-align: right;\">\n      <th></th>\n      <th>bathrooms</th>\n      <th>bedrooms</th>\n      <th>fee</th>\n      <th>price</th>\n      <th>square_feet</th>\n      <th>cityname</th>\n      <th>state</th>\n    </tr>\n  </thead>\n  <tbody>\n    <tr>\n      <th>0</th>\n      <td>1.0</td>\n      <td>1.0</td>\n      <td>No</td>\n      <td>2195.0</td>\n      <td>542.0</td>\n      <td>Redondo Beach</td>\n      <td>CA</td>\n    </tr>\n    <tr>\n      <th>1</th>\n      <td>1.5</td>\n      <td>3.0</td>\n      <td>No</td>\n      <td>1250.0</td>\n      <td>1500.0</td>\n      <td>Newport News</td>\n      <td>VA</td>\n    </tr>\n    <tr>\n      <th>2</th>\n      <td>2.0</td>\n      <td>3.0</td>\n      <td>No</td>\n      <td>1395.0</td>\n      <td>1650.0</td>\n      <td>Raleigh</td>\n      <td>NC</td>\n    </tr>\n    <tr>\n      <th>3</th>\n      <td>1.0</td>\n      <td>2.0</td>\n      <td>No</td>\n      <td>1600.0</td>\n      <td>820.0</td>\n      <td>Vacaville</td>\n      <td>CA</td>\n    </tr>\n    <tr>\n      <th>4</th>\n      <td>1.0</td>\n      <td>1.0</td>\n      <td>No</td>\n      <td>975.0</td>\n      <td>624.0</td>\n      <td>Albuquerque</td>\n      <td>NM</td>\n    </tr>\n  </tbody>\n</table>\n</div>"
     },
     "execution_count": 37,
     "metadata": {},
     "output_type": "execute_result"
    }
   ],
   "source": [
    "df.head()"
   ],
   "metadata": {
    "collapsed": false,
    "ExecuteTime": {
     "end_time": "2024-01-03T18:20:13.322700Z",
     "start_time": "2024-01-03T18:20:13.318129Z"
    }
   },
   "id": "29519c24c41356f3",
   "execution_count": 37
  },
  {
   "cell_type": "code",
   "outputs": [
    {
     "data": {
      "text/plain": "bathrooms      float64\nbedrooms       float64\nfee             object\nprice          float64\nsquare_feet    float64\ncityname        object\nstate           object\ndtype: object"
     },
     "execution_count": 38,
     "metadata": {},
     "output_type": "execute_result"
    }
   ],
   "source": [
    "df.dtypes"
   ],
   "metadata": {
    "collapsed": false,
    "ExecuteTime": {
     "end_time": "2024-01-03T18:20:13.726630Z",
     "start_time": "2024-01-03T18:20:13.723508Z"
    }
   },
   "id": "53ad5094c7443f4e",
   "execution_count": 38
  },
  {
   "cell_type": "code",
   "outputs": [],
   "source": [
    "df.drop(columns=[\"id\"], inplace=True)"
   ],
   "metadata": {
    "collapsed": false,
    "ExecuteTime": {
     "end_time": "2024-01-03T18:20:10.605350Z",
     "start_time": "2024-01-03T18:20:10.600529Z"
    }
   },
   "id": "8dc6a86c14ce58a4",
   "execution_count": 36
  },
  {
   "cell_type": "code",
   "outputs": [
    {
     "name": "stdout",
     "output_type": "stream",
     "text": [
      "{'columns': {'bathrooms': {'sdtype': 'numerical'}, 'bedrooms': {'sdtype': 'categorical'}, 'fee': {'sdtype': 'categorical'}, 'price': {'sdtype': 'numerical'}, 'square_feet': {'sdtype': 'numerical'}, 'cityname': {'sdtype': 'city', 'pii': True}, 'state': {'sdtype': 'administrative_unit', 'pii': True}}, 'METADATA_SPEC_VERSION': 'SINGLE_TABLE_V1'}\n"
     ]
    }
   ],
   "source": [
    "metadata = SingleTableMetadata()\n",
    "metadata.detect_from_dataframe(df)\n",
    "python_dict = metadata.to_dict()\n",
    "print(python_dict)"
   ],
   "metadata": {
    "collapsed": false,
    "ExecuteTime": {
     "end_time": "2024-01-03T18:20:26.361492Z",
     "start_time": "2024-01-03T18:20:26.339494Z"
    }
   },
   "id": "312b8a6f3dd0e0a5",
   "execution_count": 39
  },
  {
   "cell_type": "code",
   "outputs": [],
   "source": [
    "metadata.save_to_json(filepath='dataset/ApartmentRent/meta_data.json')\n",
    "df.to_csv('dataset/ApartmentRent/apartments_for_rent_final.csv', index=False)"
   ],
   "metadata": {
    "collapsed": false,
    "ExecuteTime": {
     "end_time": "2024-01-03T18:20:57.238935Z",
     "start_time": "2024-01-03T18:20:57.121325Z"
    }
   },
   "id": "62cd9ebc4069ae85",
   "execution_count": 40
  },
  {
   "cell_type": "markdown",
   "source": [
    "### Bank Marketing"
   ],
   "metadata": {
    "collapsed": false
   },
   "id": "6ffad3b4f5d41cdf"
  },
  {
   "cell_type": "code",
   "outputs": [],
   "source": [
    "df = pd.read_csv(\"dataset/BankMarketing/bank-final.csv\")"
   ],
   "metadata": {
    "collapsed": false,
    "ExecuteTime": {
     "end_time": "2024-01-03T18:23:22.659973Z",
     "start_time": "2024-01-03T18:23:22.629283Z"
    }
   },
   "id": "1216bfbc8b5d4728",
   "execution_count": 41
  },
  {
   "cell_type": "code",
   "outputs": [
    {
     "data": {
      "text/plain": "   age        job  marital    education  default housing loan    contact  \\\n0   56  housemaid  married     basic.4y       no      no   no  telephone   \n1   57   services  married  high.school  unknown      no   no  telephone   \n2   37   services  married  high.school       no     yes   no  telephone   \n3   40     admin.  married     basic.6y       no      no   no  telephone   \n4   56   services  married  high.school       no      no  yes  telephone   \n\n  month day_of_week  duration  campaign  previous     poutcome   y  \n0   may         mon       261         1         0  nonexistent  no  \n1   may         mon       149         1         0  nonexistent  no  \n2   may         mon       226         1         0  nonexistent  no  \n3   may         mon       151         1         0  nonexistent  no  \n4   may         mon       307         1         0  nonexistent  no  ",
      "text/html": "<div>\n<style scoped>\n    .dataframe tbody tr th:only-of-type {\n        vertical-align: middle;\n    }\n\n    .dataframe tbody tr th {\n        vertical-align: top;\n    }\n\n    .dataframe thead th {\n        text-align: right;\n    }\n</style>\n<table border=\"1\" class=\"dataframe\">\n  <thead>\n    <tr style=\"text-align: right;\">\n      <th></th>\n      <th>age</th>\n      <th>job</th>\n      <th>marital</th>\n      <th>education</th>\n      <th>default</th>\n      <th>housing</th>\n      <th>loan</th>\n      <th>contact</th>\n      <th>month</th>\n      <th>day_of_week</th>\n      <th>duration</th>\n      <th>campaign</th>\n      <th>previous</th>\n      <th>poutcome</th>\n      <th>y</th>\n    </tr>\n  </thead>\n  <tbody>\n    <tr>\n      <th>0</th>\n      <td>56</td>\n      <td>housemaid</td>\n      <td>married</td>\n      <td>basic.4y</td>\n      <td>no</td>\n      <td>no</td>\n      <td>no</td>\n      <td>telephone</td>\n      <td>may</td>\n      <td>mon</td>\n      <td>261</td>\n      <td>1</td>\n      <td>0</td>\n      <td>nonexistent</td>\n      <td>no</td>\n    </tr>\n    <tr>\n      <th>1</th>\n      <td>57</td>\n      <td>services</td>\n      <td>married</td>\n      <td>high.school</td>\n      <td>unknown</td>\n      <td>no</td>\n      <td>no</td>\n      <td>telephone</td>\n      <td>may</td>\n      <td>mon</td>\n      <td>149</td>\n      <td>1</td>\n      <td>0</td>\n      <td>nonexistent</td>\n      <td>no</td>\n    </tr>\n    <tr>\n      <th>2</th>\n      <td>37</td>\n      <td>services</td>\n      <td>married</td>\n      <td>high.school</td>\n      <td>no</td>\n      <td>yes</td>\n      <td>no</td>\n      <td>telephone</td>\n      <td>may</td>\n      <td>mon</td>\n      <td>226</td>\n      <td>1</td>\n      <td>0</td>\n      <td>nonexistent</td>\n      <td>no</td>\n    </tr>\n    <tr>\n      <th>3</th>\n      <td>40</td>\n      <td>admin.</td>\n      <td>married</td>\n      <td>basic.6y</td>\n      <td>no</td>\n      <td>no</td>\n      <td>no</td>\n      <td>telephone</td>\n      <td>may</td>\n      <td>mon</td>\n      <td>151</td>\n      <td>1</td>\n      <td>0</td>\n      <td>nonexistent</td>\n      <td>no</td>\n    </tr>\n    <tr>\n      <th>4</th>\n      <td>56</td>\n      <td>services</td>\n      <td>married</td>\n      <td>high.school</td>\n      <td>no</td>\n      <td>no</td>\n      <td>yes</td>\n      <td>telephone</td>\n      <td>may</td>\n      <td>mon</td>\n      <td>307</td>\n      <td>1</td>\n      <td>0</td>\n      <td>nonexistent</td>\n      <td>no</td>\n    </tr>\n  </tbody>\n</table>\n</div>"
     },
     "execution_count": 50,
     "metadata": {},
     "output_type": "execute_result"
    }
   ],
   "source": [
    "df.head()"
   ],
   "metadata": {
    "collapsed": false,
    "ExecuteTime": {
     "end_time": "2024-01-03T18:27:01.510409Z",
     "start_time": "2024-01-03T18:27:01.505454Z"
    }
   },
   "id": "dc65a61d9e7703ad",
   "execution_count": 50
  },
  {
   "cell_type": "code",
   "outputs": [
    {
     "data": {
      "text/plain": "age             int64\njob            object\nmarital        object\neducation      object\ndefault        object\nhousing        object\nloan           object\ncontact        object\nmonth          object\nday_of_week    object\nduration        int64\ncampaign        int64\nprevious        int64\npoutcome       object\ny              object\ndtype: object"
     },
     "execution_count": 51,
     "metadata": {},
     "output_type": "execute_result"
    }
   ],
   "source": [
    "df.dtypes"
   ],
   "metadata": {
    "collapsed": false,
    "ExecuteTime": {
     "end_time": "2024-01-03T18:27:01.857154Z",
     "start_time": "2024-01-03T18:27:01.853624Z"
    }
   },
   "id": "4c7da40b60f30a69",
   "execution_count": 51
  },
  {
   "cell_type": "code",
   "outputs": [],
   "source": [
    "df.drop(columns=[\"pdays\"],inplace=True)"
   ],
   "metadata": {
    "collapsed": false,
    "ExecuteTime": {
     "end_time": "2024-01-03T18:26:57.551424Z",
     "start_time": "2024-01-03T18:26:57.546508Z"
    }
   },
   "id": "7b73ec13c3ec91f6",
   "execution_count": 49
  },
  {
   "cell_type": "code",
   "outputs": [
    {
     "name": "stdout",
     "output_type": "stream",
     "text": [
      "{'columns': {'age': {'sdtype': 'numerical'}, 'job': {'sdtype': 'categorical'}, 'marital': {'sdtype': 'categorical'}, 'education': {'sdtype': 'categorical'}, 'default': {'sdtype': 'categorical'}, 'housing': {'sdtype': 'categorical'}, 'loan': {'sdtype': 'categorical'}, 'contact': {'sdtype': 'categorical'}, 'month': {'sdtype': 'categorical'}, 'day_of_week': {'sdtype': 'categorical'}, 'duration': {'sdtype': 'numerical'}, 'campaign': {'sdtype': 'numerical'}, 'previous': {'sdtype': 'categorical'}, 'poutcome': {'sdtype': 'categorical'}, 'y': {'sdtype': 'categorical'}}, 'METADATA_SPEC_VERSION': 'SINGLE_TABLE_V1'}\n"
     ]
    }
   ],
   "source": [
    "metadata = SingleTableMetadata()\n",
    "metadata.detect_from_dataframe(df)\n",
    "python_dict = metadata.to_dict()\n",
    "print(python_dict)"
   ],
   "metadata": {
    "collapsed": false,
    "ExecuteTime": {
     "end_time": "2024-01-03T18:28:52.881411Z",
     "start_time": "2024-01-03T18:28:52.836105Z"
    }
   },
   "id": "be98834617dda269",
   "execution_count": 56
  },
  {
   "cell_type": "code",
   "outputs": [],
   "source": [
    "metadata.update_column(\n",
    "    column_name='campaign',\n",
    "    sdtype='categorical')\n",
    "metadata.update_column(\n",
    "    column_name='previous',\n",
    "    sdtype='numerical')"
   ],
   "metadata": {
    "collapsed": false,
    "ExecuteTime": {
     "end_time": "2024-01-03T18:31:32.396986Z",
     "start_time": "2024-01-03T18:31:32.394673Z"
    }
   },
   "id": "811ef73a638da5ab",
   "execution_count": 60
  },
  {
   "cell_type": "code",
   "outputs": [
    {
     "name": "stdout",
     "output_type": "stream",
     "text": [
      "{'columns': {'age': {'sdtype': 'numerical'}, 'job': {'sdtype': 'categorical'}, 'marital': {'sdtype': 'categorical'}, 'education': {'sdtype': 'categorical'}, 'default': {'sdtype': 'categorical'}, 'housing': {'sdtype': 'categorical'}, 'loan': {'sdtype': 'categorical'}, 'contact': {'sdtype': 'categorical'}, 'month': {'sdtype': 'categorical'}, 'day_of_week': {'sdtype': 'categorical'}, 'duration': {'sdtype': 'numerical'}, 'campaign': {'sdtype': 'categorical'}, 'previous': {'sdtype': 'numerical'}, 'poutcome': {'sdtype': 'categorical'}, 'y': {'sdtype': 'categorical'}}, 'METADATA_SPEC_VERSION': 'SINGLE_TABLE_V1'}\n"
     ]
    }
   ],
   "source": [
    "python_dict = metadata.to_dict()\n",
    "print(python_dict)"
   ],
   "metadata": {
    "collapsed": false,
    "ExecuteTime": {
     "end_time": "2024-01-03T18:31:34.428769Z",
     "start_time": "2024-01-03T18:31:34.426450Z"
    }
   },
   "id": "529b1aad2ad58d9f",
   "execution_count": 61
  },
  {
   "cell_type": "code",
   "outputs": [],
   "source": [
    "metadata.save_to_json(filepath='dataset/BankMarketing/meta_data.json')\n",
    "df.to_csv('dataset/BankMarketing/bank-final.csv', index=False)"
   ],
   "metadata": {
    "collapsed": false,
    "ExecuteTime": {
     "end_time": "2024-01-03T18:35:47.281797Z",
     "start_time": "2024-01-03T18:35:47.224527Z"
    }
   },
   "id": "538e9a801eac80db",
   "execution_count": 62
  },
  {
   "cell_type": "markdown",
   "source": [
    "### Beijing PM"
   ],
   "metadata": {
    "collapsed": false
   },
   "id": "990843bd583ac619"
  },
  {
   "cell_type": "code",
   "outputs": [],
   "source": [
    "df = pd.read_csv(\"dataset/BeijingPM/PRSA_data_final.csv\")"
   ],
   "metadata": {
    "collapsed": false,
    "ExecuteTime": {
     "end_time": "2024-01-09T18:17:04.669404Z",
     "start_time": "2024-01-09T18:17:04.646634Z"
    }
   },
   "id": "ea9016eb400c5c5d",
   "execution_count": 3
  },
  {
   "cell_type": "code",
   "outputs": [
    {
     "data": {
      "text/plain": "(41757, 12)"
     },
     "execution_count": 4,
     "metadata": {},
     "output_type": "execute_result"
    }
   ],
   "source": [
    "df.shape"
   ],
   "metadata": {
    "collapsed": false,
    "ExecuteTime": {
     "end_time": "2024-01-09T18:17:10.649743Z",
     "start_time": "2024-01-09T18:17:10.627060Z"
    }
   },
   "id": "8b69bf13468280a8",
   "execution_count": 4
  },
  {
   "cell_type": "code",
   "outputs": [
    {
     "data": {
      "text/plain": "   year  month  day  hour  pm2.5  DEWP  TEMP    PRES cbwd   Iws  Is  Ir\n0  2010      1    2     0  129.0   -16  -4.0  1020.0   SE  1.79   0   0\n1  2010      1    2     1  148.0   -15  -4.0  1020.0   SE  2.68   0   0\n2  2010      1    2     2  159.0   -11  -5.0  1021.0   SE  3.57   0   0\n3  2010      1    2     3  181.0    -7  -5.0  1022.0   SE  5.36   1   0\n4  2010      1    2     4  138.0    -7  -5.0  1022.0   SE  6.25   2   0",
      "text/html": "<div>\n<style scoped>\n    .dataframe tbody tr th:only-of-type {\n        vertical-align: middle;\n    }\n\n    .dataframe tbody tr th {\n        vertical-align: top;\n    }\n\n    .dataframe thead th {\n        text-align: right;\n    }\n</style>\n<table border=\"1\" class=\"dataframe\">\n  <thead>\n    <tr style=\"text-align: right;\">\n      <th></th>\n      <th>year</th>\n      <th>month</th>\n      <th>day</th>\n      <th>hour</th>\n      <th>pm2.5</th>\n      <th>DEWP</th>\n      <th>TEMP</th>\n      <th>PRES</th>\n      <th>cbwd</th>\n      <th>Iws</th>\n      <th>Is</th>\n      <th>Ir</th>\n    </tr>\n  </thead>\n  <tbody>\n    <tr>\n      <th>0</th>\n      <td>2010</td>\n      <td>1</td>\n      <td>2</td>\n      <td>0</td>\n      <td>129.0</td>\n      <td>-16</td>\n      <td>-4.0</td>\n      <td>1020.0</td>\n      <td>SE</td>\n      <td>1.79</td>\n      <td>0</td>\n      <td>0</td>\n    </tr>\n    <tr>\n      <th>1</th>\n      <td>2010</td>\n      <td>1</td>\n      <td>2</td>\n      <td>1</td>\n      <td>148.0</td>\n      <td>-15</td>\n      <td>-4.0</td>\n      <td>1020.0</td>\n      <td>SE</td>\n      <td>2.68</td>\n      <td>0</td>\n      <td>0</td>\n    </tr>\n    <tr>\n      <th>2</th>\n      <td>2010</td>\n      <td>1</td>\n      <td>2</td>\n      <td>2</td>\n      <td>159.0</td>\n      <td>-11</td>\n      <td>-5.0</td>\n      <td>1021.0</td>\n      <td>SE</td>\n      <td>3.57</td>\n      <td>0</td>\n      <td>0</td>\n    </tr>\n    <tr>\n      <th>3</th>\n      <td>2010</td>\n      <td>1</td>\n      <td>2</td>\n      <td>3</td>\n      <td>181.0</td>\n      <td>-7</td>\n      <td>-5.0</td>\n      <td>1022.0</td>\n      <td>SE</td>\n      <td>5.36</td>\n      <td>1</td>\n      <td>0</td>\n    </tr>\n    <tr>\n      <th>4</th>\n      <td>2010</td>\n      <td>1</td>\n      <td>2</td>\n      <td>4</td>\n      <td>138.0</td>\n      <td>-7</td>\n      <td>-5.0</td>\n      <td>1022.0</td>\n      <td>SE</td>\n      <td>6.25</td>\n      <td>2</td>\n      <td>0</td>\n    </tr>\n  </tbody>\n</table>\n</div>"
     },
     "execution_count": 5,
     "metadata": {},
     "output_type": "execute_result"
    }
   ],
   "source": [
    "df.head()"
   ],
   "metadata": {
    "collapsed": false,
    "ExecuteTime": {
     "end_time": "2024-01-09T18:17:17.077717Z",
     "start_time": "2024-01-09T18:17:17.072647Z"
    }
   },
   "id": "914d707bc4cc4c5b",
   "execution_count": 5
  },
  {
   "cell_type": "code",
   "outputs": [
    {
     "name": "stdout",
     "output_type": "stream",
     "text": [
      "{'columns': {'year': {'sdtype': 'categorical'}, 'month': {'sdtype': 'numerical'}, 'day': {'sdtype': 'numerical'}, 'hour': {'sdtype': 'numerical'}, 'pm2.5': {'sdtype': 'numerical'}, 'DEWP': {'sdtype': 'numerical'}, 'TEMP': {'sdtype': 'numerical'}, 'PRES': {'sdtype': 'numerical'}, 'cbwd': {'sdtype': 'categorical'}, 'Iws': {'sdtype': 'numerical'}, 'Is': {'sdtype': 'numerical'}, 'Ir': {'sdtype': 'numerical'}}, 'METADATA_SPEC_VERSION': 'SINGLE_TABLE_V1'}\n"
     ]
    }
   ],
   "source": [
    "metadata = SingleTableMetadata()\n",
    "metadata.detect_from_dataframe(df)\n",
    "python_dict = metadata.to_dict()\n",
    "print(python_dict)"
   ],
   "metadata": {
    "collapsed": false,
    "ExecuteTime": {
     "end_time": "2024-01-09T18:18:54.755332Z",
     "start_time": "2024-01-09T18:18:54.737725Z"
    }
   },
   "id": "e332dd85c69fef33",
   "execution_count": 6
  },
  {
   "cell_type": "code",
   "outputs": [],
   "source": [
    "metadata.update_column(\n",
    "    column_name='month',\n",
    "    sdtype='categorical')\n",
    "metadata.update_column(\n",
    "    column_name='day',\n",
    "    sdtype='categorical')\n",
    "metadata.update_column(\n",
    "    column_name='hour',\n",
    "    sdtype='categorical')"
   ],
   "metadata": {
    "collapsed": false,
    "ExecuteTime": {
     "end_time": "2024-01-09T18:22:45.917366Z",
     "start_time": "2024-01-09T18:22:45.914935Z"
    }
   },
   "id": "e1823dc7dec4670d",
   "execution_count": 14
  },
  {
   "cell_type": "code",
   "outputs": [
    {
     "name": "stdout",
     "output_type": "stream",
     "text": [
      "{'columns': {'year': {'sdtype': 'categorical'}, 'month': {'sdtype': 'categorical'}, 'day': {'sdtype': 'categorical'}, 'hour': {'sdtype': 'categorical'}, 'pm2.5': {'sdtype': 'numerical'}, 'DEWP': {'sdtype': 'numerical'}, 'TEMP': {'sdtype': 'numerical'}, 'PRES': {'sdtype': 'numerical'}, 'cbwd': {'sdtype': 'categorical'}, 'Iws': {'sdtype': 'numerical'}, 'Is': {'sdtype': 'numerical'}, 'Ir': {'sdtype': 'numerical'}}, 'METADATA_SPEC_VERSION': 'SINGLE_TABLE_V1'}\n"
     ]
    }
   ],
   "source": [
    "python_dict = metadata.to_dict()\n",
    "print(python_dict)"
   ],
   "metadata": {
    "collapsed": false,
    "ExecuteTime": {
     "end_time": "2024-01-09T18:22:54.273152Z",
     "start_time": "2024-01-09T18:22:54.268144Z"
    }
   },
   "id": "da7b46e257a7ef00",
   "execution_count": 15
  },
  {
   "cell_type": "code",
   "outputs": [],
   "source": [
    "metadata.save_to_json(filepath='dataset/BeijingPM/meta_data.json')"
   ],
   "metadata": {
    "collapsed": false,
    "ExecuteTime": {
     "end_time": "2024-01-09T18:23:28.735698Z",
     "start_time": "2024-01-09T18:23:28.727791Z"
    }
   },
   "id": "c3f74b394d443365",
   "execution_count": 16
  },
  {
   "cell_type": "markdown",
   "source": [
    "### Bike Sharing"
   ],
   "metadata": {
    "collapsed": false
   },
   "id": "c6a5c40c925d512"
  },
  {
   "cell_type": "code",
   "outputs": [],
   "source": [
    "df = pd.read_csv(\"dataset/BikeSharing/final.csv\")"
   ],
   "metadata": {
    "collapsed": false,
    "ExecuteTime": {
     "end_time": "2024-01-09T18:40:55.067808Z",
     "start_time": "2024-01-09T18:40:55.052685Z"
    }
   },
   "id": "9752061c1a7244cd",
   "execution_count": 21
  },
  {
   "cell_type": "code",
   "outputs": [
    {
     "data": {
      "text/plain": "   season    yr  mnth  hr  holiday  weekday  workingday  weathersit  temp  \\\n0       1  2011     1   0        0        6           0           1  0.24   \n1       1  2011     1   1        0        6           0           1  0.22   \n2       1  2011     1   2        0        6           0           1  0.22   \n3       1  2011     1   3        0        6           0           1  0.24   \n4       1  2011     1   4        0        6           0           1  0.24   \n\n    atemp   hum  windspeed  casual  registered  cnt  \n0  0.2879  0.81        0.0       3          13   16  \n1  0.2727  0.80        0.0       8          32   40  \n2  0.2727  0.80        0.0       5          27   32  \n3  0.2879  0.75        0.0       3          10   13  \n4  0.2879  0.75        0.0       0           1    1  ",
      "text/html": "<div>\n<style scoped>\n    .dataframe tbody tr th:only-of-type {\n        vertical-align: middle;\n    }\n\n    .dataframe tbody tr th {\n        vertical-align: top;\n    }\n\n    .dataframe thead th {\n        text-align: right;\n    }\n</style>\n<table border=\"1\" class=\"dataframe\">\n  <thead>\n    <tr style=\"text-align: right;\">\n      <th></th>\n      <th>season</th>\n      <th>yr</th>\n      <th>mnth</th>\n      <th>hr</th>\n      <th>holiday</th>\n      <th>weekday</th>\n      <th>workingday</th>\n      <th>weathersit</th>\n      <th>temp</th>\n      <th>atemp</th>\n      <th>hum</th>\n      <th>windspeed</th>\n      <th>casual</th>\n      <th>registered</th>\n      <th>cnt</th>\n    </tr>\n  </thead>\n  <tbody>\n    <tr>\n      <th>0</th>\n      <td>1</td>\n      <td>2011</td>\n      <td>1</td>\n      <td>0</td>\n      <td>0</td>\n      <td>6</td>\n      <td>0</td>\n      <td>1</td>\n      <td>0.24</td>\n      <td>0.2879</td>\n      <td>0.81</td>\n      <td>0.0</td>\n      <td>3</td>\n      <td>13</td>\n      <td>16</td>\n    </tr>\n    <tr>\n      <th>1</th>\n      <td>1</td>\n      <td>2011</td>\n      <td>1</td>\n      <td>1</td>\n      <td>0</td>\n      <td>6</td>\n      <td>0</td>\n      <td>1</td>\n      <td>0.22</td>\n      <td>0.2727</td>\n      <td>0.80</td>\n      <td>0.0</td>\n      <td>8</td>\n      <td>32</td>\n      <td>40</td>\n    </tr>\n    <tr>\n      <th>2</th>\n      <td>1</td>\n      <td>2011</td>\n      <td>1</td>\n      <td>2</td>\n      <td>0</td>\n      <td>6</td>\n      <td>0</td>\n      <td>1</td>\n      <td>0.22</td>\n      <td>0.2727</td>\n      <td>0.80</td>\n      <td>0.0</td>\n      <td>5</td>\n      <td>27</td>\n      <td>32</td>\n    </tr>\n    <tr>\n      <th>3</th>\n      <td>1</td>\n      <td>2011</td>\n      <td>1</td>\n      <td>3</td>\n      <td>0</td>\n      <td>6</td>\n      <td>0</td>\n      <td>1</td>\n      <td>0.24</td>\n      <td>0.2879</td>\n      <td>0.75</td>\n      <td>0.0</td>\n      <td>3</td>\n      <td>10</td>\n      <td>13</td>\n    </tr>\n    <tr>\n      <th>4</th>\n      <td>1</td>\n      <td>2011</td>\n      <td>1</td>\n      <td>4</td>\n      <td>0</td>\n      <td>6</td>\n      <td>0</td>\n      <td>1</td>\n      <td>0.24</td>\n      <td>0.2879</td>\n      <td>0.75</td>\n      <td>0.0</td>\n      <td>0</td>\n      <td>1</td>\n      <td>1</td>\n    </tr>\n  </tbody>\n</table>\n</div>"
     },
     "execution_count": 33,
     "metadata": {},
     "output_type": "execute_result"
    }
   ],
   "source": [
    "df.head()"
   ],
   "metadata": {
    "collapsed": false,
    "ExecuteTime": {
     "end_time": "2024-01-09T18:47:44.048868Z",
     "start_time": "2024-01-09T18:47:44.045604Z"
    }
   },
   "id": "b95c0a67aa4f6de3",
   "execution_count": 33
  },
  {
   "cell_type": "code",
   "outputs": [],
   "source": [
    "df.loc[df[\"yr\"] == 0, \"yr\"] = 2011\n",
    "df.loc[df[\"yr\"] == 1, \"yr\"] = 2012\n"
   ],
   "metadata": {
    "collapsed": false,
    "ExecuteTime": {
     "end_time": "2024-01-09T18:46:48.048396Z",
     "start_time": "2024-01-09T18:46:48.044664Z"
    }
   },
   "id": "62e2ccb93c3c01c4",
   "execution_count": 29
  },
  {
   "cell_type": "code",
   "outputs": [],
   "source": [
    "df.drop(columns=[\"dteday\"], inplace=True)"
   ],
   "metadata": {
    "collapsed": false,
    "ExecuteTime": {
     "end_time": "2024-01-09T18:47:40.494215Z",
     "start_time": "2024-01-09T18:47:40.491803Z"
    }
   },
   "id": "88cb072fe85592c2",
   "execution_count": 32
  },
  {
   "cell_type": "code",
   "outputs": [
    {
     "data": {
      "text/plain": "workingday\n1    11865\n0     5514\nName: count, dtype: int64"
     },
     "execution_count": 38,
     "metadata": {},
     "output_type": "execute_result"
    }
   ],
   "source": [
    "df[\"workingday\"].value_counts()\n"
   ],
   "metadata": {
    "collapsed": false,
    "ExecuteTime": {
     "end_time": "2024-01-09T18:50:42.917763Z",
     "start_time": "2024-01-09T18:50:42.915397Z"
    }
   },
   "id": "e1e826678ad298dc",
   "execution_count": 38
  },
  {
   "cell_type": "code",
   "outputs": [
    {
     "name": "stdout",
     "output_type": "stream",
     "text": [
      "{'columns': {'season': {'sdtype': 'categorical'}, 'yr': {'sdtype': 'categorical'}, 'mnth': {'sdtype': 'numerical'}, 'hr': {'sdtype': 'numerical'}, 'holiday': {'sdtype': 'categorical'}, 'weekday': {'sdtype': 'categorical'}, 'workingday': {'sdtype': 'categorical'}, 'weathersit': {'sdtype': 'categorical'}, 'temp': {'sdtype': 'numerical'}, 'atemp': {'sdtype': 'numerical'}, 'hum': {'sdtype': 'numerical'}, 'windspeed': {'sdtype': 'numerical'}, 'casual': {'sdtype': 'numerical'}, 'registered': {'sdtype': 'numerical'}, 'cnt': {'sdtype': 'numerical'}}, 'METADATA_SPEC_VERSION': 'SINGLE_TABLE_V1'}\n"
     ]
    }
   ],
   "source": [
    "metadata = SingleTableMetadata()\n",
    "metadata.detect_from_dataframe(df)\n",
    "python_dict = metadata.to_dict()\n",
    "print(python_dict)"
   ],
   "metadata": {
    "collapsed": false,
    "ExecuteTime": {
     "end_time": "2024-01-09T18:48:36.345643Z",
     "start_time": "2024-01-09T18:48:36.331797Z"
    }
   },
   "id": "25b1bd504fe75ba9",
   "execution_count": 35
  },
  {
   "cell_type": "code",
   "outputs": [],
   "source": [
    "metadata.update_column(\n",
    "    column_name='mnth',\n",
    "    sdtype='categorical')\n",
    "metadata.update_column(\n",
    "    column_name='hr',\n",
    "    sdtype='categorical')\n",
    "metadata.update_column(\n",
    "    column_name='holiday',\n",
    "    sdtype='boolean')\n",
    "metadata.update_column(\n",
    "    column_name='workingday',\n",
    "    sdtype='boolean')"
   ],
   "metadata": {
    "collapsed": false,
    "ExecuteTime": {
     "end_time": "2024-01-09T18:52:54.125271Z",
     "start_time": "2024-01-09T18:52:54.122308Z"
    }
   },
   "id": "963fe161d6e44189",
   "execution_count": 40
  },
  {
   "cell_type": "code",
   "outputs": [
    {
     "name": "stdout",
     "output_type": "stream",
     "text": [
      "{'columns': {'season': {'sdtype': 'categorical'}, 'yr': {'sdtype': 'categorical'}, 'mnth': {'sdtype': 'categorical'}, 'hr': {'sdtype': 'categorical'}, 'holiday': {'sdtype': 'boolean'}, 'weekday': {'sdtype': 'categorical'}, 'workingday': {'sdtype': 'boolean'}, 'weathersit': {'sdtype': 'categorical'}, 'temp': {'sdtype': 'numerical'}, 'atemp': {'sdtype': 'numerical'}, 'hum': {'sdtype': 'numerical'}, 'windspeed': {'sdtype': 'numerical'}, 'casual': {'sdtype': 'numerical'}, 'registered': {'sdtype': 'numerical'}, 'cnt': {'sdtype': 'numerical'}}, 'METADATA_SPEC_VERSION': 'SINGLE_TABLE_V1'}\n"
     ]
    }
   ],
   "source": [
    "python_dict = metadata.to_dict()\n",
    "print(python_dict)"
   ],
   "metadata": {
    "collapsed": false,
    "ExecuteTime": {
     "end_time": "2024-01-09T18:53:03.006770Z",
     "start_time": "2024-01-09T18:53:03.001215Z"
    }
   },
   "id": "5f8a6b2bc8e65312",
   "execution_count": 41
  },
  {
   "cell_type": "code",
   "outputs": [],
   "source": [
    "metadata.save_to_json(filepath='dataset/BikeSharing/meta_data.json')\n",
    "df.to_csv('dataset/BikeSharing/final.csv', index=False)"
   ],
   "metadata": {
    "collapsed": false,
    "ExecuteTime": {
     "end_time": "2024-01-09T18:54:04.311878Z",
     "start_time": "2024-01-09T18:54:04.272107Z"
    }
   },
   "id": "8d2499df9854fd7d",
   "execution_count": 42
  },
  {
   "cell_type": "markdown",
   "source": [
    "### HAR 70"
   ],
   "metadata": {
    "collapsed": false
   },
   "id": "aee181a7565b16d4"
  },
  {
   "cell_type": "code",
   "outputs": [],
   "source": [
    "df = pd.read_csv(\"dataset/HAR70/final.csv\")"
   ],
   "metadata": {
    "collapsed": false,
    "ExecuteTime": {
     "end_time": "2024-01-10T01:43:43.658796Z",
     "start_time": "2024-01-10T01:43:42.636481Z"
    }
   },
   "id": "e34596dfb6d6f2d1",
   "execution_count": 55
  },
  {
   "cell_type": "code",
   "outputs": [
    {
     "data": {
      "text/plain": "                 timestamp    back_x    back_y    back_z   thigh_x   thigh_y  \\\n0  2021-03-24 14:42:03.839 -0.999023 -0.063477  0.140625 -0.980469 -0.112061   \n1  2021-03-24 14:42:03.859 -0.980225 -0.079346  0.140625 -0.961182 -0.121582   \n2  2021-03-24 14:42:03.880 -0.950195 -0.076416  0.140625 -0.949463 -0.080566   \n3  2021-03-24 14:42:03.900 -0.954834 -0.059082  0.140381 -0.957520 -0.046143   \n4  2021-03-24 14:42:03.920 -0.972412 -0.042969  0.142822 -0.977051 -0.023682   \n\n    thigh_z  label  \n0 -0.048096      6  \n1 -0.051758      6  \n2 -0.067139      6  \n3 -0.050781      6  \n4 -0.026611      6  ",
      "text/html": "<div>\n<style scoped>\n    .dataframe tbody tr th:only-of-type {\n        vertical-align: middle;\n    }\n\n    .dataframe tbody tr th {\n        vertical-align: top;\n    }\n\n    .dataframe thead th {\n        text-align: right;\n    }\n</style>\n<table border=\"1\" class=\"dataframe\">\n  <thead>\n    <tr style=\"text-align: right;\">\n      <th></th>\n      <th>timestamp</th>\n      <th>back_x</th>\n      <th>back_y</th>\n      <th>back_z</th>\n      <th>thigh_x</th>\n      <th>thigh_y</th>\n      <th>thigh_z</th>\n      <th>label</th>\n    </tr>\n  </thead>\n  <tbody>\n    <tr>\n      <th>0</th>\n      <td>2021-03-24 14:42:03.839</td>\n      <td>-0.999023</td>\n      <td>-0.063477</td>\n      <td>0.140625</td>\n      <td>-0.980469</td>\n      <td>-0.112061</td>\n      <td>-0.048096</td>\n      <td>6</td>\n    </tr>\n    <tr>\n      <th>1</th>\n      <td>2021-03-24 14:42:03.859</td>\n      <td>-0.980225</td>\n      <td>-0.079346</td>\n      <td>0.140625</td>\n      <td>-0.961182</td>\n      <td>-0.121582</td>\n      <td>-0.051758</td>\n      <td>6</td>\n    </tr>\n    <tr>\n      <th>2</th>\n      <td>2021-03-24 14:42:03.880</td>\n      <td>-0.950195</td>\n      <td>-0.076416</td>\n      <td>0.140625</td>\n      <td>-0.949463</td>\n      <td>-0.080566</td>\n      <td>-0.067139</td>\n      <td>6</td>\n    </tr>\n    <tr>\n      <th>3</th>\n      <td>2021-03-24 14:42:03.900</td>\n      <td>-0.954834</td>\n      <td>-0.059082</td>\n      <td>0.140381</td>\n      <td>-0.957520</td>\n      <td>-0.046143</td>\n      <td>-0.050781</td>\n      <td>6</td>\n    </tr>\n    <tr>\n      <th>4</th>\n      <td>2021-03-24 14:42:03.920</td>\n      <td>-0.972412</td>\n      <td>-0.042969</td>\n      <td>0.142822</td>\n      <td>-0.977051</td>\n      <td>-0.023682</td>\n      <td>-0.026611</td>\n      <td>6</td>\n    </tr>\n  </tbody>\n</table>\n</div>"
     },
     "execution_count": 56,
     "metadata": {},
     "output_type": "execute_result"
    }
   ],
   "source": [
    "df.head()"
   ],
   "metadata": {
    "collapsed": false,
    "ExecuteTime": {
     "end_time": "2024-01-10T01:43:43.664774Z",
     "start_time": "2024-01-10T01:43:43.661230Z"
    }
   },
   "id": "f2a8b6ad8ca26eb2",
   "execution_count": 56
  },
  {
   "cell_type": "code",
   "outputs": [
    {
     "data": {
      "text/plain": "timestamp     object\nback_x       float64\nback_y       float64\nback_z       float64\nthigh_x      float64\nthigh_y      float64\nthigh_z      float64\nlabel          int64\ndtype: object"
     },
     "execution_count": 58,
     "metadata": {},
     "output_type": "execute_result"
    }
   ],
   "source": [
    "df.dtypes"
   ],
   "metadata": {
    "collapsed": false,
    "ExecuteTime": {
     "end_time": "2024-01-10T01:46:21.677803Z",
     "start_time": "2024-01-10T01:46:21.670316Z"
    }
   },
   "id": "85ad8780fdd11656",
   "execution_count": 58
  },
  {
   "cell_type": "code",
   "outputs": [
    {
     "name": "stdout",
     "output_type": "stream",
     "text": [
      "{'columns': {'timestamp': {'sdtype': 'datetime', 'datetime_format': '%Y-%m-%d %H:%M:%S.%f'}, 'back_x': {'sdtype': 'numerical'}, 'back_y': {'sdtype': 'numerical'}, 'back_z': {'sdtype': 'numerical'}, 'thigh_x': {'sdtype': 'numerical'}, 'thigh_y': {'sdtype': 'numerical'}, 'thigh_z': {'sdtype': 'numerical'}, 'label': {'sdtype': 'categorical'}}, 'METADATA_SPEC_VERSION': 'SINGLE_TABLE_V1'}\n"
     ]
    }
   ],
   "source": [
    "metadata = SingleTableMetadata()\n",
    "metadata.detect_from_dataframe(df)\n",
    "python_dict = metadata.to_dict()\n",
    "print(python_dict)"
   ],
   "metadata": {
    "collapsed": false,
    "ExecuteTime": {
     "end_time": "2024-01-10T01:51:25.981120Z",
     "start_time": "2024-01-10T01:51:25.351472Z"
    }
   },
   "id": "668738881da8794a",
   "execution_count": 59
  },
  {
   "cell_type": "code",
   "outputs": [
    {
     "data": {
      "text/plain": "0"
     },
     "execution_count": 49,
     "metadata": {},
     "output_type": "execute_result"
    }
   ],
   "source": [
    "metadata.update_column(\n",
    "    column_name='checkin_date',\n",
    "    sdtype='datetime',\n",
    "    datetime_format='%d %b %Y')"
   ],
   "metadata": {
    "collapsed": false,
    "ExecuteTime": {
     "end_time": "2024-01-09T20:40:26.491697Z",
     "start_time": "2024-01-09T20:40:26.489787Z"
    }
   },
   "id": "7acbee2561af3281",
   "execution_count": 49
  },
  {
   "cell_type": "code",
   "outputs": [],
   "source": [
    "metadata.save_to_json(filepath='dataset/HAR70/meta_data.json')"
   ],
   "metadata": {
    "collapsed": false,
    "ExecuteTime": {
     "end_time": "2024-01-10T01:52:21.568312Z",
     "start_time": "2024-01-10T01:52:21.555319Z"
    }
   },
   "id": "bddda6f4eecef309",
   "execution_count": 60
  },
  {
   "cell_type": "markdown",
   "source": [
    "### House Power Consumption"
   ],
   "metadata": {
    "collapsed": false
   },
   "id": "c30c128e3fdfccf7"
  },
  {
   "cell_type": "code",
   "outputs": [],
   "source": [
    "df = pd.read_csv(\"dataset/HouseholdPowerConsumption/household_power_consumption_final.csv\", low_memory=False)"
   ],
   "metadata": {
    "collapsed": false,
    "ExecuteTime": {
     "end_time": "2024-01-10T02:24:06.918194Z",
     "start_time": "2024-01-10T02:24:06.167235Z"
    }
   },
   "id": "6021939bd94ec223",
   "execution_count": 108
  },
  {
   "cell_type": "code",
   "outputs": [
    {
     "data": {
      "text/plain": "(2075259, 9)"
     },
     "execution_count": 109,
     "metadata": {},
     "output_type": "execute_result"
    }
   ],
   "source": [
    "df.shape"
   ],
   "metadata": {
    "collapsed": false,
    "ExecuteTime": {
     "end_time": "2024-01-10T02:24:07.386870Z",
     "start_time": "2024-01-10T02:24:07.378774Z"
    }
   },
   "id": "915ad20a06ad3340",
   "execution_count": 109
  },
  {
   "cell_type": "code",
   "outputs": [
    {
     "data": {
      "text/plain": "   Global_active_power  Global_reactive_power  Voltage  Global_intensity  \\\n0                4.216                  0.418   234.84              18.4   \n1                5.360                  0.436   233.63              23.0   \n2                5.374                  0.498   233.29              23.0   \n3                5.388                  0.502   233.74              23.0   \n4                3.666                  0.528   235.68              15.8   \n\n   Sub_metering_1  Sub_metering_2  Sub_metering_3             datetime  \n0             0.0             1.0            17.0  2006-12-16 17:24:00  \n1             0.0             1.0            16.0  2006-12-16 17:25:00  \n2             0.0             2.0            17.0  2006-12-16 17:26:00  \n3             0.0             1.0            17.0  2006-12-16 17:27:00  \n4             0.0             1.0            17.0  2006-12-16 17:28:00  ",
      "text/html": "<div>\n<style scoped>\n    .dataframe tbody tr th:only-of-type {\n        vertical-align: middle;\n    }\n\n    .dataframe tbody tr th {\n        vertical-align: top;\n    }\n\n    .dataframe thead th {\n        text-align: right;\n    }\n</style>\n<table border=\"1\" class=\"dataframe\">\n  <thead>\n    <tr style=\"text-align: right;\">\n      <th></th>\n      <th>Global_active_power</th>\n      <th>Global_reactive_power</th>\n      <th>Voltage</th>\n      <th>Global_intensity</th>\n      <th>Sub_metering_1</th>\n      <th>Sub_metering_2</th>\n      <th>Sub_metering_3</th>\n      <th>datetime</th>\n    </tr>\n  </thead>\n  <tbody>\n    <tr>\n      <th>0</th>\n      <td>4.216</td>\n      <td>0.418</td>\n      <td>234.84</td>\n      <td>18.4</td>\n      <td>0.0</td>\n      <td>1.0</td>\n      <td>17.0</td>\n      <td>2006-12-16 17:24:00</td>\n    </tr>\n    <tr>\n      <th>1</th>\n      <td>5.360</td>\n      <td>0.436</td>\n      <td>233.63</td>\n      <td>23.0</td>\n      <td>0.0</td>\n      <td>1.0</td>\n      <td>16.0</td>\n      <td>2006-12-16 17:25:00</td>\n    </tr>\n    <tr>\n      <th>2</th>\n      <td>5.374</td>\n      <td>0.498</td>\n      <td>233.29</td>\n      <td>23.0</td>\n      <td>0.0</td>\n      <td>2.0</td>\n      <td>17.0</td>\n      <td>2006-12-16 17:26:00</td>\n    </tr>\n    <tr>\n      <th>3</th>\n      <td>5.388</td>\n      <td>0.502</td>\n      <td>233.74</td>\n      <td>23.0</td>\n      <td>0.0</td>\n      <td>1.0</td>\n      <td>17.0</td>\n      <td>2006-12-16 17:27:00</td>\n    </tr>\n    <tr>\n      <th>4</th>\n      <td>3.666</td>\n      <td>0.528</td>\n      <td>235.68</td>\n      <td>15.8</td>\n      <td>0.0</td>\n      <td>1.0</td>\n      <td>17.0</td>\n      <td>2006-12-16 17:28:00</td>\n    </tr>\n  </tbody>\n</table>\n</div>"
     },
     "execution_count": 118,
     "metadata": {},
     "output_type": "execute_result"
    }
   ],
   "source": [
    "df.head()"
   ],
   "metadata": {
    "collapsed": false,
    "ExecuteTime": {
     "end_time": "2024-01-10T02:25:51.950478Z",
     "start_time": "2024-01-10T02:25:51.944650Z"
    }
   },
   "id": "d73aa6a6d0b8f20f",
   "execution_count": 118
  },
  {
   "cell_type": "code",
   "outputs": [],
   "source": [
    "df[\"datetime\"] = df[\"Date\"]+\" \"+df[\"Time\"]"
   ],
   "metadata": {
    "collapsed": false,
    "ExecuteTime": {
     "end_time": "2024-01-10T02:24:11.747644Z",
     "start_time": "2024-01-10T02:24:11.631534Z"
    }
   },
   "id": "4a34e896bdd47e5f",
   "execution_count": 111
  },
  {
   "cell_type": "code",
   "outputs": [],
   "source": [
    "df['datetime'] = pd.to_datetime(df['datetime'], format=\"%d/%m/%Y %H:%M:%S\").dt.strftime(\"%Y-%m-%d %H:%M:%S\")"
   ],
   "metadata": {
    "collapsed": false,
    "ExecuteTime": {
     "end_time": "2024-01-10T02:24:15.709743Z",
     "start_time": "2024-01-10T02:24:12.994137Z"
    }
   },
   "id": "934c4c8341eea9dd",
   "execution_count": 112
  },
  {
   "cell_type": "code",
   "outputs": [],
   "source": [
    "df.drop(columns=[\"Date\", \"Time\"], inplace=True)"
   ],
   "metadata": {
    "collapsed": false,
    "ExecuteTime": {
     "end_time": "2024-01-10T02:24:17.058198Z",
     "start_time": "2024-01-10T02:24:16.970471Z"
    }
   },
   "id": "6c0df6dee271f5b3",
   "execution_count": 113
  },
  {
   "cell_type": "code",
   "outputs": [],
   "source": [
    "df[\"Global_active_power\"] = pd.to_numeric(df['Global_active_power'], errors='coerce')\n",
    "df[\"Global_reactive_power\"] = pd.to_numeric(df['Global_reactive_power'], errors='coerce')\n",
    "df[\"Voltage\"] = pd.to_numeric(df['Voltage'], errors='coerce')\n",
    "df[\"Global_intensity\"] = pd.to_numeric(df['Global_intensity'], errors='coerce')\n",
    "df[\"Sub_metering_1\"] = pd.to_numeric(df['Sub_metering_1'], errors='coerce')\n",
    "df[\"Sub_metering_2\"] = pd.to_numeric(df['Sub_metering_2'], errors='coerce')\n",
    "df[\"Sub_metering_3\"] = pd.to_numeric(df['Sub_metering_3'], errors='coerce')"
   ],
   "metadata": {
    "collapsed": false,
    "ExecuteTime": {
     "end_time": "2024-01-10T02:24:19.402182Z",
     "start_time": "2024-01-10T02:24:18.408621Z"
    }
   },
   "id": "dce4dc15e459fbdd",
   "execution_count": 114
  },
  {
   "cell_type": "code",
   "outputs": [
    {
     "data": {
      "text/plain": "Global_active_power      float64\nGlobal_reactive_power    float64\nVoltage                  float64\nGlobal_intensity         float64\nSub_metering_1           float64\nSub_metering_2           float64\nSub_metering_3           float64\ndatetime                  object\ndtype: object"
     },
     "execution_count": 117,
     "metadata": {},
     "output_type": "execute_result"
    }
   ],
   "source": [
    "df.dtypes"
   ],
   "metadata": {
    "collapsed": false,
    "ExecuteTime": {
     "end_time": "2024-01-10T02:25:47.673316Z",
     "start_time": "2024-01-10T02:25:47.670573Z"
    }
   },
   "id": "1923f882333fc90c",
   "execution_count": 117
  },
  {
   "cell_type": "code",
   "outputs": [
    {
     "name": "stdout",
     "output_type": "stream",
     "text": [
      "{'columns': {'Global_active_power': {'sdtype': 'numerical'}, 'Global_reactive_power': {'sdtype': 'numerical'}, 'Voltage': {'sdtype': 'numerical'}, 'Global_intensity': {'sdtype': 'numerical'}, 'Sub_metering_1': {'sdtype': 'numerical'}, 'Sub_metering_2': {'sdtype': 'numerical'}, 'Sub_metering_3': {'sdtype': 'numerical'}, 'datetime': {'sdtype': 'datetime', 'datetime_format': '%Y-%m-%d %H:%M:%S'}}, 'METADATA_SPEC_VERSION': 'SINGLE_TABLE_V1'}\n"
     ]
    }
   ],
   "source": [
    "metadata = SingleTableMetadata()\n",
    "metadata.detect_from_dataframe(df)\n",
    "python_dict = metadata.to_dict()\n",
    "print(python_dict)"
   ],
   "metadata": {
    "collapsed": false,
    "ExecuteTime": {
     "end_time": "2024-01-10T02:03:59.341129Z",
     "start_time": "2024-01-10T02:03:58.740126Z"
    }
   },
   "id": "20a3bc290e082ea0",
   "execution_count": 78
  },
  {
   "cell_type": "code",
   "outputs": [],
   "source": [
    "# metadata.save_to_json(filepath='dataset/HouseholdPowerConsumption/meta_data.json')\n",
    "df.to_csv(\"dataset/HouseholdPowerConsumption/household_power_consumption_final.csv\", index=False)"
   ],
   "metadata": {
    "collapsed": false,
    "ExecuteTime": {
     "end_time": "2024-01-10T02:25:42.306532Z",
     "start_time": "2024-01-10T02:25:39.253592Z"
    }
   },
   "id": "c6c3768eff7355e4",
   "execution_count": 116
  },
  {
   "cell_type": "markdown",
   "source": [
    "### Metro Interstate Traffic"
   ],
   "metadata": {
    "collapsed": false
   },
   "id": "33a53818f0b20b67"
  },
  {
   "cell_type": "code",
   "outputs": [],
   "source": [
    "df = pd.read_csv(\"dataset/MetroInterstateTraffic/Metro_Interstate_Traffic_Volume_Final.csv\")"
   ],
   "metadata": {
    "collapsed": false,
    "ExecuteTime": {
     "end_time": "2024-01-10T02:05:19.909388Z",
     "start_time": "2024-01-10T02:05:19.874496Z"
    }
   },
   "id": "352e3a8c53dcb5a",
   "execution_count": 80
  },
  {
   "cell_type": "code",
   "outputs": [
    {
     "data": {
      "text/plain": "(48204, 9)"
     },
     "execution_count": 81,
     "metadata": {},
     "output_type": "execute_result"
    }
   ],
   "source": [
    "df.shape"
   ],
   "metadata": {
    "collapsed": false,
    "ExecuteTime": {
     "end_time": "2024-01-10T02:05:26.748371Z",
     "start_time": "2024-01-10T02:05:26.733583Z"
    }
   },
   "id": "b312d02390c6b92f",
   "execution_count": 81
  },
  {
   "cell_type": "code",
   "outputs": [
    {
     "data": {
      "text/plain": "holiday                 object\ntemp                   float64\nrain_1h                float64\nsnow_1h                float64\nclouds_all               int64\nweather_main            object\nweather_description     object\ndate_time               object\ntraffic_volume           int64\ndtype: object"
     },
     "execution_count": 82,
     "metadata": {},
     "output_type": "execute_result"
    }
   ],
   "source": [
    "df.dtypes"
   ],
   "metadata": {
    "collapsed": false,
    "ExecuteTime": {
     "end_time": "2024-01-10T02:05:31.500288Z",
     "start_time": "2024-01-10T02:05:31.483295Z"
    }
   },
   "id": "60a7ff70e36d1f51",
   "execution_count": 82
  },
  {
   "cell_type": "code",
   "outputs": [
    {
     "data": {
      "text/plain": "   holiday    temp  rain_1h  snow_1h  clouds_all weather_main  \\\n0  Nothing  288.28      0.0      0.0          40       Clouds   \n1  Nothing  289.36      0.0      0.0          75       Clouds   \n2  Nothing  289.58      0.0      0.0          90       Clouds   \n3  Nothing  290.13      0.0      0.0          90       Clouds   \n4  Nothing  291.14      0.0      0.0          75       Clouds   \n\n  weather_description            date_time  traffic_volume  \n0    scattered clouds  2012-10-02 09:00:00            5545  \n1       broken clouds  2012-10-02 10:00:00            4516  \n2     overcast clouds  2012-10-02 11:00:00            4767  \n3     overcast clouds  2012-10-02 12:00:00            5026  \n4       broken clouds  2012-10-02 13:00:00            4918  ",
      "text/html": "<div>\n<style scoped>\n    .dataframe tbody tr th:only-of-type {\n        vertical-align: middle;\n    }\n\n    .dataframe tbody tr th {\n        vertical-align: top;\n    }\n\n    .dataframe thead th {\n        text-align: right;\n    }\n</style>\n<table border=\"1\" class=\"dataframe\">\n  <thead>\n    <tr style=\"text-align: right;\">\n      <th></th>\n      <th>holiday</th>\n      <th>temp</th>\n      <th>rain_1h</th>\n      <th>snow_1h</th>\n      <th>clouds_all</th>\n      <th>weather_main</th>\n      <th>weather_description</th>\n      <th>date_time</th>\n      <th>traffic_volume</th>\n    </tr>\n  </thead>\n  <tbody>\n    <tr>\n      <th>0</th>\n      <td>Nothing</td>\n      <td>288.28</td>\n      <td>0.0</td>\n      <td>0.0</td>\n      <td>40</td>\n      <td>Clouds</td>\n      <td>scattered clouds</td>\n      <td>2012-10-02 09:00:00</td>\n      <td>5545</td>\n    </tr>\n    <tr>\n      <th>1</th>\n      <td>Nothing</td>\n      <td>289.36</td>\n      <td>0.0</td>\n      <td>0.0</td>\n      <td>75</td>\n      <td>Clouds</td>\n      <td>broken clouds</td>\n      <td>2012-10-02 10:00:00</td>\n      <td>4516</td>\n    </tr>\n    <tr>\n      <th>2</th>\n      <td>Nothing</td>\n      <td>289.58</td>\n      <td>0.0</td>\n      <td>0.0</td>\n      <td>90</td>\n      <td>Clouds</td>\n      <td>overcast clouds</td>\n      <td>2012-10-02 11:00:00</td>\n      <td>4767</td>\n    </tr>\n    <tr>\n      <th>3</th>\n      <td>Nothing</td>\n      <td>290.13</td>\n      <td>0.0</td>\n      <td>0.0</td>\n      <td>90</td>\n      <td>Clouds</td>\n      <td>overcast clouds</td>\n      <td>2012-10-02 12:00:00</td>\n      <td>5026</td>\n    </tr>\n    <tr>\n      <th>4</th>\n      <td>Nothing</td>\n      <td>291.14</td>\n      <td>0.0</td>\n      <td>0.0</td>\n      <td>75</td>\n      <td>Clouds</td>\n      <td>broken clouds</td>\n      <td>2012-10-02 13:00:00</td>\n      <td>4918</td>\n    </tr>\n  </tbody>\n</table>\n</div>"
     },
     "execution_count": 83,
     "metadata": {},
     "output_type": "execute_result"
    }
   ],
   "source": [
    "df.head()"
   ],
   "metadata": {
    "collapsed": false,
    "ExecuteTime": {
     "end_time": "2024-01-10T02:05:38.478644Z",
     "start_time": "2024-01-10T02:05:38.461746Z"
    }
   },
   "id": "2c2244f065c14078",
   "execution_count": 83
  },
  {
   "cell_type": "code",
   "outputs": [
    {
     "data": {
      "text/plain": "holiday\nNothing                      48143\nLabor Day                        7\nThanksgiving Day                 6\nChristmas Day                    6\nNew Years Day                    6\nMartin Luther King Jr Day        6\nColumbus Day                     5\nVeterans Day                     5\nWashingtons Birthday             5\nMemorial Day                     5\nIndependence Day                 5\nState Fair                       5\nName: count, dtype: int64"
     },
     "execution_count": 85,
     "metadata": {},
     "output_type": "execute_result"
    }
   ],
   "source": [
    "df[\"holiday\"].value_counts()"
   ],
   "metadata": {
    "collapsed": false,
    "ExecuteTime": {
     "end_time": "2024-01-10T02:06:26.475573Z",
     "start_time": "2024-01-10T02:06:26.470028Z"
    }
   },
   "id": "ab829ff021eec8be",
   "execution_count": 85
  },
  {
   "cell_type": "code",
   "outputs": [
    {
     "name": "stdout",
     "output_type": "stream",
     "text": [
      "{'columns': {'holiday': {'sdtype': 'categorical'}, 'temp': {'sdtype': 'numerical'}, 'rain_1h': {'sdtype': 'numerical'}, 'snow_1h': {'sdtype': 'numerical'}, 'clouds_all': {'sdtype': 'numerical'}, 'weather_main': {'sdtype': 'categorical'}, 'weather_description': {'sdtype': 'categorical'}, 'date_time': {'sdtype': 'datetime', 'datetime_format': '%Y-%m-%d %H:%M:%S'}, 'traffic_volume': {'sdtype': 'numerical'}}, 'METADATA_SPEC_VERSION': 'SINGLE_TABLE_V1'}\n"
     ]
    }
   ],
   "source": [
    "metadata = SingleTableMetadata()\n",
    "metadata.detect_from_dataframe(df)\n",
    "python_dict = metadata.to_dict()\n",
    "print(python_dict)"
   ],
   "metadata": {
    "collapsed": false,
    "ExecuteTime": {
     "end_time": "2024-01-10T02:07:00.184971Z",
     "start_time": "2024-01-10T02:07:00.164026Z"
    }
   },
   "id": "44512661fc6eb7b",
   "execution_count": 86
  },
  {
   "cell_type": "code",
   "outputs": [],
   "source": [
    "metadata.save_to_json(filepath='dataset/MetroInterstateTraffic/meta_data.json')"
   ],
   "metadata": {
    "collapsed": false,
    "ExecuteTime": {
     "end_time": "2024-01-10T02:07:38.824177Z",
     "start_time": "2024-01-10T02:07:38.805566Z"
    }
   },
   "id": "980dadb6f18f2cc3",
   "execution_count": 87
  },
  {
   "cell_type": "markdown",
   "source": [
    "### Metro PT"
   ],
   "metadata": {
    "collapsed": false
   },
   "id": "904fb019cf43ff77"
  },
  {
   "cell_type": "code",
   "outputs": [],
   "source": [
    "df = pd.read_csv(\"dataset/MetroPTDataset/MetroPT3_final.csv\")"
   ],
   "metadata": {
    "collapsed": false,
    "ExecuteTime": {
     "end_time": "2024-01-10T02:08:30.300048Z",
     "start_time": "2024-01-10T02:08:29.277853Z"
    }
   },
   "id": "9fb581b261f88a6f",
   "execution_count": 88
  },
  {
   "cell_type": "code",
   "outputs": [
    {
     "data": {
      "text/plain": "(1516948, 16)"
     },
     "execution_count": 89,
     "metadata": {},
     "output_type": "execute_result"
    }
   ],
   "source": [
    "df.shape"
   ],
   "metadata": {
    "collapsed": false,
    "ExecuteTime": {
     "end_time": "2024-01-10T02:08:32.711051Z",
     "start_time": "2024-01-10T02:08:32.691400Z"
    }
   },
   "id": "b20a1b1b3995a8c",
   "execution_count": 89
  },
  {
   "cell_type": "code",
   "outputs": [
    {
     "data": {
      "text/plain": "             timestamp    TP2    TP3     H1  DV_pressure  Reservoirs  \\\n0  2020-02-01 00:00:00 -0.012  9.358  9.340       -0.024       9.358   \n1  2020-02-01 00:00:10 -0.014  9.348  9.332       -0.022       9.348   \n2  2020-02-01 00:00:19 -0.012  9.338  9.322       -0.022       9.338   \n3  2020-02-01 00:00:29 -0.012  9.328  9.312       -0.022       9.328   \n4  2020-02-01 00:00:39 -0.012  9.318  9.302       -0.022       9.318   \n\n   Oil_temperature  Motor_current  COMP  DV_eletric  Towers  MPG  LPS  \\\n0           53.600         0.0400   1.0         0.0     1.0  1.0  0.0   \n1           53.675         0.0400   1.0         0.0     1.0  1.0  0.0   \n2           53.600         0.0425   1.0         0.0     1.0  1.0  0.0   \n3           53.425         0.0400   1.0         0.0     1.0  1.0  0.0   \n4           53.475         0.0400   1.0         0.0     1.0  1.0  0.0   \n\n   Pressure_switch  Oil_level  Caudal_impulses  \n0              1.0        1.0              1.0  \n1              1.0        1.0              1.0  \n2              1.0        1.0              1.0  \n3              1.0        1.0              1.0  \n4              1.0        1.0              1.0  ",
      "text/html": "<div>\n<style scoped>\n    .dataframe tbody tr th:only-of-type {\n        vertical-align: middle;\n    }\n\n    .dataframe tbody tr th {\n        vertical-align: top;\n    }\n\n    .dataframe thead th {\n        text-align: right;\n    }\n</style>\n<table border=\"1\" class=\"dataframe\">\n  <thead>\n    <tr style=\"text-align: right;\">\n      <th></th>\n      <th>timestamp</th>\n      <th>TP2</th>\n      <th>TP3</th>\n      <th>H1</th>\n      <th>DV_pressure</th>\n      <th>Reservoirs</th>\n      <th>Oil_temperature</th>\n      <th>Motor_current</th>\n      <th>COMP</th>\n      <th>DV_eletric</th>\n      <th>Towers</th>\n      <th>MPG</th>\n      <th>LPS</th>\n      <th>Pressure_switch</th>\n      <th>Oil_level</th>\n      <th>Caudal_impulses</th>\n    </tr>\n  </thead>\n  <tbody>\n    <tr>\n      <th>0</th>\n      <td>2020-02-01 00:00:00</td>\n      <td>-0.012</td>\n      <td>9.358</td>\n      <td>9.340</td>\n      <td>-0.024</td>\n      <td>9.358</td>\n      <td>53.600</td>\n      <td>0.0400</td>\n      <td>1.0</td>\n      <td>0.0</td>\n      <td>1.0</td>\n      <td>1.0</td>\n      <td>0.0</td>\n      <td>1.0</td>\n      <td>1.0</td>\n      <td>1.0</td>\n    </tr>\n    <tr>\n      <th>1</th>\n      <td>2020-02-01 00:00:10</td>\n      <td>-0.014</td>\n      <td>9.348</td>\n      <td>9.332</td>\n      <td>-0.022</td>\n      <td>9.348</td>\n      <td>53.675</td>\n      <td>0.0400</td>\n      <td>1.0</td>\n      <td>0.0</td>\n      <td>1.0</td>\n      <td>1.0</td>\n      <td>0.0</td>\n      <td>1.0</td>\n      <td>1.0</td>\n      <td>1.0</td>\n    </tr>\n    <tr>\n      <th>2</th>\n      <td>2020-02-01 00:00:19</td>\n      <td>-0.012</td>\n      <td>9.338</td>\n      <td>9.322</td>\n      <td>-0.022</td>\n      <td>9.338</td>\n      <td>53.600</td>\n      <td>0.0425</td>\n      <td>1.0</td>\n      <td>0.0</td>\n      <td>1.0</td>\n      <td>1.0</td>\n      <td>0.0</td>\n      <td>1.0</td>\n      <td>1.0</td>\n      <td>1.0</td>\n    </tr>\n    <tr>\n      <th>3</th>\n      <td>2020-02-01 00:00:29</td>\n      <td>-0.012</td>\n      <td>9.328</td>\n      <td>9.312</td>\n      <td>-0.022</td>\n      <td>9.328</td>\n      <td>53.425</td>\n      <td>0.0400</td>\n      <td>1.0</td>\n      <td>0.0</td>\n      <td>1.0</td>\n      <td>1.0</td>\n      <td>0.0</td>\n      <td>1.0</td>\n      <td>1.0</td>\n      <td>1.0</td>\n    </tr>\n    <tr>\n      <th>4</th>\n      <td>2020-02-01 00:00:39</td>\n      <td>-0.012</td>\n      <td>9.318</td>\n      <td>9.302</td>\n      <td>-0.022</td>\n      <td>9.318</td>\n      <td>53.475</td>\n      <td>0.0400</td>\n      <td>1.0</td>\n      <td>0.0</td>\n      <td>1.0</td>\n      <td>1.0</td>\n      <td>0.0</td>\n      <td>1.0</td>\n      <td>1.0</td>\n      <td>1.0</td>\n    </tr>\n  </tbody>\n</table>\n</div>"
     },
     "execution_count": 90,
     "metadata": {},
     "output_type": "execute_result"
    }
   ],
   "source": [
    "df.head()"
   ],
   "metadata": {
    "collapsed": false,
    "ExecuteTime": {
     "end_time": "2024-01-10T02:08:38.443996Z",
     "start_time": "2024-01-10T02:08:38.428840Z"
    }
   },
   "id": "8920c243e033d929",
   "execution_count": 90
  },
  {
   "cell_type": "code",
   "outputs": [
    {
     "name": "stdout",
     "output_type": "stream",
     "text": [
      "{'columns': {'timestamp': {'sdtype': 'datetime', 'datetime_format': '%Y-%m-%d %H:%M:%S'}, 'TP2': {'sdtype': 'numerical'}, 'TP3': {'sdtype': 'numerical'}, 'H1': {'sdtype': 'numerical'}, 'DV_pressure': {'sdtype': 'numerical'}, 'Reservoirs': {'sdtype': 'numerical'}, 'Oil_temperature': {'sdtype': 'numerical'}, 'Motor_current': {'sdtype': 'numerical'}, 'COMP': {'sdtype': 'categorical'}, 'DV_eletric': {'sdtype': 'categorical'}, 'Towers': {'sdtype': 'categorical'}, 'MPG': {'sdtype': 'categorical'}, 'LPS': {'sdtype': 'categorical'}, 'Pressure_switch': {'sdtype': 'categorical'}, 'Oil_level': {'sdtype': 'categorical'}, 'Caudal_impulses': {'sdtype': 'categorical'}}, 'METADATA_SPEC_VERSION': 'SINGLE_TABLE_V1'}\n"
     ]
    }
   ],
   "source": [
    "metadata = SingleTableMetadata()\n",
    "metadata.detect_from_dataframe(df)\n",
    "python_dict = metadata.to_dict()\n",
    "print(python_dict)"
   ],
   "metadata": {
    "collapsed": false,
    "ExecuteTime": {
     "end_time": "2024-01-10T02:09:42.494607Z",
     "start_time": "2024-01-10T02:09:42.003325Z"
    }
   },
   "id": "da1306ff2564a565",
   "execution_count": 95
  },
  {
   "cell_type": "code",
   "outputs": [],
   "source": [
    "metadata.update_column(\n",
    "    column_name='COMP',\n",
    "    sdtype='boolean')\n",
    "metadata.update_column(\n",
    "    column_name='DV_eletric',\n",
    "    sdtype='boolean')\n",
    "metadata.update_column(\n",
    "    column_name='Towers',\n",
    "    sdtype='boolean')\n",
    "metadata.update_column(\n",
    "    column_name='MPG',\n",
    "    sdtype='boolean')\n",
    "metadata.update_column(\n",
    "    column_name='LPS',\n",
    "    sdtype='boolean')\n",
    "metadata.update_column(\n",
    "    column_name='Pressure_switch',\n",
    "    sdtype='boolean')\n",
    "metadata.update_column(\n",
    "    column_name='Oil_level',\n",
    "    sdtype='boolean')\n",
    "metadata.update_column(\n",
    "    column_name='Caudal_impulses',\n",
    "    sdtype='boolean')"
   ],
   "metadata": {
    "collapsed": false,
    "ExecuteTime": {
     "end_time": "2024-01-10T02:11:45.371781Z",
     "start_time": "2024-01-10T02:11:45.352691Z"
    }
   },
   "id": "ef4598b8d720d2bb",
   "execution_count": 97
  },
  {
   "cell_type": "code",
   "outputs": [
    {
     "name": "stdout",
     "output_type": "stream",
     "text": [
      "{'columns': {'timestamp': {'sdtype': 'datetime', 'datetime_format': '%Y-%m-%d %H:%M:%S'}, 'TP2': {'sdtype': 'numerical'}, 'TP3': {'sdtype': 'numerical'}, 'H1': {'sdtype': 'numerical'}, 'DV_pressure': {'sdtype': 'numerical'}, 'Reservoirs': {'sdtype': 'numerical'}, 'Oil_temperature': {'sdtype': 'numerical'}, 'Motor_current': {'sdtype': 'numerical'}, 'COMP': {'sdtype': 'boolean'}, 'DV_eletric': {'sdtype': 'boolean'}, 'Towers': {'sdtype': 'boolean'}, 'MPG': {'sdtype': 'boolean'}, 'LPS': {'sdtype': 'boolean'}, 'Pressure_switch': {'sdtype': 'boolean'}, 'Oil_level': {'sdtype': 'boolean'}, 'Caudal_impulses': {'sdtype': 'boolean'}}, 'METADATA_SPEC_VERSION': 'SINGLE_TABLE_V1'}\n"
     ]
    }
   ],
   "source": [
    "python_dict = metadata.to_dict()\n",
    "print(python_dict)"
   ],
   "metadata": {
    "collapsed": false,
    "ExecuteTime": {
     "end_time": "2024-01-10T02:11:53.235911Z",
     "start_time": "2024-01-10T02:11:53.216521Z"
    }
   },
   "id": "55920531ec35c27f",
   "execution_count": 98
  },
  {
   "cell_type": "code",
   "outputs": [],
   "source": [
    "metadata.save_to_json(filepath='dataset/MetroPTDataset/meta_data.json')"
   ],
   "metadata": {
    "collapsed": false,
    "ExecuteTime": {
     "end_time": "2024-01-10T02:12:33.967414Z",
     "start_time": "2024-01-10T02:12:33.949276Z"
    }
   },
   "id": "b1a6d32d8a71fd7d",
   "execution_count": 99
  },
  {
   "cell_type": "markdown",
   "source": [
    "### Weather Dataset"
   ],
   "metadata": {
    "collapsed": false
   },
   "id": "486d6e0559f36469"
  },
  {
   "cell_type": "code",
   "outputs": [],
   "source": [
    "df = pd.read_csv(\"dataset/WeatherDataset/weatherHistory_final.csv\")"
   ],
   "metadata": {
    "collapsed": false,
    "ExecuteTime": {
     "end_time": "2024-01-10T02:26:30.139424Z",
     "start_time": "2024-01-10T02:26:30.075962Z"
    }
   },
   "id": "f119391dceb06c",
   "execution_count": 119
  },
  {
   "cell_type": "code",
   "outputs": [
    {
     "data": {
      "text/plain": "(96453, 10)"
     },
     "execution_count": 120,
     "metadata": {},
     "output_type": "execute_result"
    }
   ],
   "source": [
    "df.shape"
   ],
   "metadata": {
    "collapsed": false,
    "ExecuteTime": {
     "end_time": "2024-01-10T02:26:30.806746Z",
     "start_time": "2024-01-10T02:26:30.797564Z"
    }
   },
   "id": "1347c56a4d253372",
   "execution_count": 120
  },
  {
   "cell_type": "code",
   "outputs": [
    {
     "data": {
      "text/plain": "        Formatted Date        Summary Precip Type  Temperature (C)  \\\n0  2006-03-31 22:00:00  Partly Cloudy        rain             9.47   \n1  2006-03-31 23:00:00  Partly Cloudy        rain             9.36   \n2  2006-04-01 00:00:00  Mostly Cloudy        rain             9.38   \n3  2006-04-01 01:00:00  Partly Cloudy        rain             8.29   \n4  2006-04-01 02:00:00  Mostly Cloudy        rain             8.76   \n\n   Apparent Temperature (C)  Humidity  Wind Speed (km/h)  \\\n0                      7.39      0.89              14.12   \n1                      7.23      0.86              14.26   \n2                      9.38      0.89               3.93   \n3                      5.94      0.83              14.10   \n4                      6.98      0.83              11.04   \n\n   Wind Bearing (degrees)  Visibility (km)  Pressure (millibars)  \n0                     251            15.83               1015.13  \n1                     259            15.83               1015.63  \n2                     204            14.96               1015.94  \n3                     269            15.83               1016.41  \n4                     259            15.83               1016.51  ",
      "text/html": "<div>\n<style scoped>\n    .dataframe tbody tr th:only-of-type {\n        vertical-align: middle;\n    }\n\n    .dataframe tbody tr th {\n        vertical-align: top;\n    }\n\n    .dataframe thead th {\n        text-align: right;\n    }\n</style>\n<table border=\"1\" class=\"dataframe\">\n  <thead>\n    <tr style=\"text-align: right;\">\n      <th></th>\n      <th>Formatted Date</th>\n      <th>Summary</th>\n      <th>Precip Type</th>\n      <th>Temperature (C)</th>\n      <th>Apparent Temperature (C)</th>\n      <th>Humidity</th>\n      <th>Wind Speed (km/h)</th>\n      <th>Wind Bearing (degrees)</th>\n      <th>Visibility (km)</th>\n      <th>Pressure (millibars)</th>\n    </tr>\n  </thead>\n  <tbody>\n    <tr>\n      <th>0</th>\n      <td>2006-03-31 22:00:00</td>\n      <td>Partly Cloudy</td>\n      <td>rain</td>\n      <td>9.47</td>\n      <td>7.39</td>\n      <td>0.89</td>\n      <td>14.12</td>\n      <td>251</td>\n      <td>15.83</td>\n      <td>1015.13</td>\n    </tr>\n    <tr>\n      <th>1</th>\n      <td>2006-03-31 23:00:00</td>\n      <td>Partly Cloudy</td>\n      <td>rain</td>\n      <td>9.36</td>\n      <td>7.23</td>\n      <td>0.86</td>\n      <td>14.26</td>\n      <td>259</td>\n      <td>15.83</td>\n      <td>1015.63</td>\n    </tr>\n    <tr>\n      <th>2</th>\n      <td>2006-04-01 00:00:00</td>\n      <td>Mostly Cloudy</td>\n      <td>rain</td>\n      <td>9.38</td>\n      <td>9.38</td>\n      <td>0.89</td>\n      <td>3.93</td>\n      <td>204</td>\n      <td>14.96</td>\n      <td>1015.94</td>\n    </tr>\n    <tr>\n      <th>3</th>\n      <td>2006-04-01 01:00:00</td>\n      <td>Partly Cloudy</td>\n      <td>rain</td>\n      <td>8.29</td>\n      <td>5.94</td>\n      <td>0.83</td>\n      <td>14.10</td>\n      <td>269</td>\n      <td>15.83</td>\n      <td>1016.41</td>\n    </tr>\n    <tr>\n      <th>4</th>\n      <td>2006-04-01 02:00:00</td>\n      <td>Mostly Cloudy</td>\n      <td>rain</td>\n      <td>8.76</td>\n      <td>6.98</td>\n      <td>0.83</td>\n      <td>11.04</td>\n      <td>259</td>\n      <td>15.83</td>\n      <td>1016.51</td>\n    </tr>\n  </tbody>\n</table>\n</div>"
     },
     "execution_count": 124,
     "metadata": {},
     "output_type": "execute_result"
    }
   ],
   "source": [
    "df.head()"
   ],
   "metadata": {
    "collapsed": false,
    "ExecuteTime": {
     "end_time": "2024-01-10T02:27:24.191743Z",
     "start_time": "2024-01-10T02:27:24.173398Z"
    }
   },
   "id": "7d26e9733e021fd3",
   "execution_count": 124
  },
  {
   "cell_type": "code",
   "outputs": [
    {
     "data": {
      "text/plain": "Formatted Date               object\nSummary                      object\nPrecip Type                  object\nTemperature (C)             float64\nApparent Temperature (C)    float64\nHumidity                    float64\nWind Speed (km/h)           float64\nWind Bearing (degrees)        int64\nVisibility (km)             float64\nPressure (millibars)        float64\ndtype: object"
     },
     "execution_count": 125,
     "metadata": {},
     "output_type": "execute_result"
    }
   ],
   "source": [
    "df.dtypes"
   ],
   "metadata": {
    "collapsed": false,
    "ExecuteTime": {
     "end_time": "2024-01-10T02:27:32.919297Z",
     "start_time": "2024-01-10T02:27:32.911912Z"
    }
   },
   "id": "e3dc514c78f08db7",
   "execution_count": 125
  },
  {
   "cell_type": "code",
   "outputs": [],
   "source": [
    "df['Formatted Date'] = pd.to_datetime(df['Formatted Date']).dt.strftime(\"%Y-%m-%d %H:%M:%S\")"
   ],
   "metadata": {
    "collapsed": false,
    "ExecuteTime": {
     "end_time": "2024-01-10T02:27:20.676110Z",
     "start_time": "2024-01-10T02:27:20.342206Z"
    }
   },
   "id": "12829d43c51ee7c0",
   "execution_count": 123
  },
  {
   "cell_type": "code",
   "outputs": [
    {
     "name": "stdout",
     "output_type": "stream",
     "text": [
      "{'columns': {'Formatted Date': {'sdtype': 'datetime', 'datetime_format': '%Y-%m-%d %H:%M:%S'}, 'Summary': {'sdtype': 'categorical'}, 'Precip Type': {'sdtype': 'categorical'}, 'Temperature (C)': {'sdtype': 'numerical'}, 'Apparent Temperature (C)': {'sdtype': 'numerical'}, 'Humidity': {'sdtype': 'numerical'}, 'Wind Speed (km/h)': {'sdtype': 'numerical'}, 'Wind Bearing (degrees)': {'sdtype': 'numerical'}, 'Visibility (km)': {'sdtype': 'numerical'}, 'Pressure (millibars)': {'sdtype': 'numerical'}}, 'METADATA_SPEC_VERSION': 'SINGLE_TABLE_V1'}\n"
     ]
    }
   ],
   "source": [
    "metadata = SingleTableMetadata()\n",
    "metadata.detect_from_dataframe(df)\n",
    "python_dict = metadata.to_dict()\n",
    "print(python_dict)"
   ],
   "metadata": {
    "collapsed": false,
    "ExecuteTime": {
     "end_time": "2024-01-10T02:27:53.535855Z",
     "start_time": "2024-01-10T02:27:53.499342Z"
    }
   },
   "id": "8a35d8c783053f68",
   "execution_count": 126
  },
  {
   "cell_type": "code",
   "outputs": [],
   "source": [
    "metadata.save_to_json(filepath='dataset/WeatherDataset/meta_data.json')"
   ],
   "metadata": {
    "collapsed": false,
    "ExecuteTime": {
     "end_time": "2024-01-10T02:28:58.748487Z",
     "start_time": "2024-01-10T02:28:58.742258Z"
    }
   },
   "id": "bfc752129a79413a",
   "execution_count": 128
  },
  {
   "cell_type": "code",
   "outputs": [],
   "source": [],
   "metadata": {
    "collapsed": false
   },
   "id": "ef26d243dec3ef9e"
  }
 ],
 "metadata": {
  "kernelspec": {
   "display_name": "Python 3",
   "language": "python",
   "name": "python3"
  },
  "language_info": {
   "codemirror_mode": {
    "name": "ipython",
    "version": 2
   },
   "file_extension": ".py",
   "mimetype": "text/x-python",
   "name": "python",
   "nbconvert_exporter": "python",
   "pygments_lexer": "ipython2",
   "version": "2.7.6"
  }
 },
 "nbformat": 4,
 "nbformat_minor": 5
}
